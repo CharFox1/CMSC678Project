{
 "cells": [
  {
   "cell_type": "markdown",
   "metadata": {},
   "source": [
    "# SchNet S2EF training example"
   ]
  },
  {
   "cell_type": "markdown",
   "metadata": {},
   "source": [
    "The purpose of this notebook is to demonstrate some of the basics of the Open Catalyst Project's (OCP) codebase and data. In this example, we will train a schnet model for predicting the energy and forces of a given structure (S2EF task). First, ensure you have installed the OCP ocp repo and all the dependencies according to the [README](https://github.com/Open-Catalyst-Project/ocp/blob/master/README.md)."
   ]
  },
  {
   "cell_type": "markdown",
   "metadata": {},
   "source": [
    "Disclaimer: This notebook is for tutorial purposes, it is unlikely it will be practical to train baseline models on our larger datasets using this format. As a next step, we recommend trying the command line examples. "
   ]
  },
  {
   "cell_type": "markdown",
   "metadata": {},
   "source": [
    "## Imports"
   ]
  },
  {
   "cell_type": "code",
   "execution_count": 15,
   "metadata": {},
   "outputs": [],
   "source": [
    "import torch\n",
    "import os\n",
    "from ocpmodels.datasets import SinglePointLmdbDataset, TrajectoryLmdbDataset\n",
    "from ocpmodels.trainers import ForcesTrainer, EnergyTrainer\n",
    "from ocpmodels import models\n",
    "from ocpmodels.common import logger\n",
    "from ocpmodels.common.utils import setup_logging\n",
    "setup_logging()"
   ]
  },
  {
   "cell_type": "code",
   "execution_count": 6,
   "metadata": {},
   "outputs": [
    {
     "name": "stdout",
     "output_type": "stream",
     "text": [
      "False\n"
     ]
    }
   ],
   "source": [
    "# a simple sanity check that a GPU is available\n",
    "if torch.cuda.is_available():\n",
    "    print(\"True\")\n",
    "else:\n",
    "    print(\"False\")"
   ]
  },
  {
   "cell_type": "markdown",
   "metadata": {},
   "source": [
    "## The essential steps for training an OCP model\n",
    "\n",
    "1) Download data\n",
    "\n",
    "2) Preprocess data (if necessary)\n",
    "\n",
    "3) Define or load a configuration (config), which includes the following\n",
    "   \n",
    "   - task\n",
    "   - model\n",
    "   - optimizer\n",
    "   - dataset\n",
    "   - trainer\n",
    "\n",
    "4) Train\n",
    "\n",
    "5) Depending on the model/task there might be intermediate relaxation step\n",
    "\n",
    "6) Predict"
   ]
  },
  {
   "cell_type": "markdown",
   "metadata": {},
   "source": [
    "## Dataset"
   ]
  },
  {
   "cell_type": "markdown",
   "metadata": {},
   "source": [
    "This examples uses the LMDB generated from the following [tutorial](http://laikapack.cheme.cmu.edu/notebook/open-catalyst-project/mshuaibi/notebooks/projects/ocp/docs/source/tutorials/lmdb_dataset_creation.ipynb). Please run that notebook before moving on. Alternatively, if you have other LMDBs available you may specify that instead."
   ]
  },
  {
   "cell_type": "code",
   "execution_count": 7,
   "metadata": {},
   "outputs": [],
   "source": [
    "# set the path to your local lmdb directory\n",
    "train_src = \"/Users/ssharlin/Desktop/Fall 2021/CMSC 678/ML project/is2res_train_val_test_lmdbs/data/is2re/10k/train/data.lmdb\""
   ]
  },
  {
   "cell_type": "markdown",
   "metadata": {},
   "source": [
    "## Define config"
   ]
  },
  {
   "cell_type": "markdown",
   "metadata": {},
   "source": [
    "For this example, we will explicitly define the config; however, a set of default config files exists in the config folder of this repository. Default config yaml files can easily be loaded with the `build_config` util (found in `ocp/ocpmodels/common/utils.py`). Loading a yaml config is preferrable when launching jobs from the command line. We have included our best models' config files [here](https://github.com/Open-Catalyst-Project/ocp/tree/master/configs/s2ef)."
   ]
  },
  {
   "cell_type": "markdown",
   "metadata": {},
   "source": [
    "**Task** "
   ]
  },
  {
   "cell_type": "code",
   "execution_count": 17,
   "metadata": {},
   "outputs": [],
   "source": [
    "task = {\n",
    "    'dataset': 'single_point_lmdb', # dataset used for the S2EF task\n",
    "    'description': 'Regressing to energies and forces for DFT trajectories from OCP',\n",
    "    'type': 'regression',\n",
    "    'metric': 'mae',\n",
    "    'labels': ['potential energy'],\n",
    "    'grad_input': 'atomic forces',\n",
    "    'train_on_free_atoms': True,\n",
    "    'eval_on_free_atoms': True\n",
    "}"
   ]
  },
  {
   "cell_type": "markdown",
   "metadata": {},
   "source": [
    "**Model** - SchNet for this example"
   ]
  },
  {
   "cell_type": "code",
   "execution_count": 26,
   "metadata": {},
   "outputs": [],
   "source": [
    "# model = {\n",
    "#     'name': 'schnet',\n",
    "#     'hidden_channels': 1024, # if training is too slow for example purposes reduce the number of hidden channels\n",
    "#     'num_filters': 256,\n",
    "#     'num_interactions': 3,\n",
    "#     'num_gaussians': 200,\n",
    "#     'cutoff': 6.0\n",
    "# }\n",
    "\n",
    "model = {\n",
    "  'name': 'schnet',\n",
    "  'hidden_channels': 256,\n",
    "  'num_filters': 128,\n",
    "  'num_interactions': 3,\n",
    "  'num_gaussians': 100,\n",
    "  'cutoff': 6.0,\n",
    "  'use_pbc': True,\n",
    "  'regress_forces': False,\n",
    "}"
   ]
  },
  {
   "cell_type": "markdown",
   "metadata": {},
   "source": [
    "**Optimizer**"
   ]
  },
  {
   "cell_type": "code",
   "execution_count": 23,
   "metadata": {},
   "outputs": [],
   "source": [
    "# optimizer = {\n",
    "#     'batch_size': 16, # if hitting GPU memory issues, lower this\n",
    "#     'eval_batch_size': 8,\n",
    "#     'num_workers': 0,\n",
    "#     'lr_initial': 0.0001,\n",
    "#     'scheduler': \"ReduceLROnPlateau\",\n",
    "#     'mode': \"min\",\n",
    "#     'factor': 0.8,\n",
    "#     'patience': 3,\n",
    "#     'max_epochs': 80,\n",
    "#     'max_epochs': 1, # used for demonstration purposes\n",
    "#     'force_coefficient': 100,\n",
    "# }\n",
    "\n",
    "\n",
    "optimizer = {\n",
    "  'batch_size': 64,\n",
    "  'eval_batch_size': 64,\n",
    "  'num_workers': 0,\n",
    "  'lr_initial': 0.005,\n",
    "  'lr_gamma': 0.1,\n",
    "  'lr_milestones': [1562, 2343, 3125],\n",
    "  'warmup_steps': 468,\n",
    "  'warmup_factor': 0.2,\n",
    "  'max_epochs': 30,\n",
    "}"
   ]
  },
  {
   "cell_type": "markdown",
   "metadata": {},
   "source": [
    "**Dataset**"
   ]
  },
  {
   "cell_type": "markdown",
   "metadata": {},
   "source": [
    "For simplicity, `train_src` is used for all the train/val/test sets. Feel free to update with the actual S2EF val and test sets, but it does require additional downloads and preprocessing. If you desire to normalize your targets, `normalize_labels` must be set to `True` and corresponding `mean` and `stds` need to be specified. These values have been precomputed for you and can be found in any of the [`base.yml`](https://github.com/Open-Catalyst-Project/ocp/blob/master/configs/s2ef/20M/base.yml#L5-L9) config files."
   ]
  },
  {
   "cell_type": "code",
   "execution_count": 24,
   "metadata": {},
   "outputs": [],
   "source": [
    "dataset = [\n",
    "{'src': train_src, 'normalize_labels': False}, # train set \n",
    "{'src': train_src}, # val set (optional)\n",
    "{'src': train_src} # test set (optional - writes predictions to disk)\n",
    "]"
   ]
  },
  {
   "cell_type": "markdown",
   "metadata": {},
   "source": [
    "**Trainer**"
   ]
  },
  {
   "cell_type": "markdown",
   "metadata": {},
   "source": [
    "Use the `ForcesTrainer` for the S2EF and IS2RS tasks, and the `EnergyTrainer` for the IS2RE task "
   ]
  },
  {
   "cell_type": "code",
   "execution_count": 27,
   "metadata": {},
   "outputs": [
    {
     "name": "stdout",
     "output_type": "stream",
     "text": [
      "amp: false\n",
      "cmd:\n",
      "  checkpoint_dir: ./checkpoints/2021-12-17-14-33-20-SchNet-example\n",
      "  commit: null\n",
      "  identifier: SchNet-example\n",
      "  logs_dir: ./logs/tensorboard/2021-12-17-14-33-20-SchNet-example\n",
      "  print_every: 5\n",
      "  results_dir: ./results/2021-12-17-14-33-20-SchNet-example\n",
      "  seed: 0\n",
      "  timestamp_id: 2021-12-17-14-33-20-SchNet-example\n",
      "dataset:\n",
      "  normalize_labels: false\n",
      "  src: /Users/ssharlin/Desktop/Fall 2021/CMSC 678/ML project/is2res_train_val_test_lmdbs/data/is2re/10k/train/data.lmdb\n",
      "gpus: 0\n",
      "logger: tensorboard\n",
      "model: schnet\n",
      "model_attributes:\n",
      "  cutoff: 6.0\n",
      "  hidden_channels: 256\n",
      "  num_filters: 128\n",
      "  num_gaussians: 100\n",
      "  num_interactions: 3\n",
      "  regress_forces: false\n",
      "  use_pbc: true\n",
      "optim:\n",
      "  batch_size: 64\n",
      "  eval_batch_size: 64\n",
      "  lr_gamma: 0.1\n",
      "  lr_initial: 0.005\n",
      "  lr_milestones:\n",
      "  - 1562\n",
      "  - 2343\n",
      "  - 3125\n",
      "  max_epochs: 30\n",
      "  num_workers: 0\n",
      "  warmup_factor: 0.2\n",
      "  warmup_steps: 468\n",
      "slurm: {}\n",
      "task:\n",
      "  dataset: single_point_lmdb\n",
      "  description: Regressing to energies and forces for DFT trajectories from OCP\n",
      "  eval_on_free_atoms: true\n",
      "  grad_input: atomic forces\n",
      "  labels:\n",
      "  - potential energy\n",
      "  metric: mae\n",
      "  train_on_free_atoms: true\n",
      "  type: regression\n",
      "test_dataset:\n",
      "  src: /Users/ssharlin/Desktop/Fall 2021/CMSC 678/ML project/is2res_train_val_test_lmdbs/data/is2re/10k/train/data.lmdb\n",
      "val_dataset:\n",
      "  src: /Users/ssharlin/Desktop/Fall 2021/CMSC 678/ML project/is2res_train_val_test_lmdbs/data/is2re/10k/train/data.lmdb\n",
      "\n",
      "2021-12-17 14:33:44 (INFO): Loading dataset: single_point_lmdb\n",
      "2021-12-17 14:33:44 (INFO): Loading model: schnet\n",
      "2021-12-17 14:33:44 (INFO): Loaded SchNetWrap with 541697 parameters.\n"
     ]
    },
    {
     "name": "stderr",
     "output_type": "stream",
     "text": [
      "fatal: Not a valid object name HEAD\n",
      "2021-12-17 14:33:44 (WARNING): Model gradient logging to tensorboard not yet supported.\n"
     ]
    }
   ],
   "source": [
    "trainer = EnergyTrainer(\n",
    "    task=task,\n",
    "    model=model,\n",
    "    dataset=dataset,\n",
    "    optimizer=optimizer,\n",
    "    identifier=\"SchNet-example\",\n",
    "    run_dir=\"./\", # directory to save results if is_debug=False. Prediction files are saved here so be careful not to override!\n",
    "    is_debug=False, # if True, do not save checkpoint, logs, or results\n",
    "    is_vis=False,\n",
    "    print_every=5,\n",
    "    seed=0, # random seed to use\n",
    "    logger=\"tensorboard\", # logger of choice (tensorboard and wandb supported)\n",
    "    local_rank=0,\n",
    "    amp=False, # use PyTorch Automatic Mixed Precision (faster training and less memory usage)\n",
    ")"
   ]
  },
  {
   "cell_type": "markdown",
   "metadata": {},
   "source": [
    "## Check the model"
   ]
  },
  {
   "cell_type": "code",
   "execution_count": 28,
   "metadata": {},
   "outputs": [
    {
     "name": "stdout",
     "output_type": "stream",
     "text": [
      "OCPDataParallel(\n",
      "  (module): SchNetWrap(hidden_channels=256, num_filters=128, num_interactions=3, num_gaussians=100, cutoff=6.0)\n",
      ")\n"
     ]
    }
   ],
   "source": [
    "print(trainer.model)"
   ]
  },
  {
   "cell_type": "markdown",
   "metadata": {},
   "source": [
    "## Train"
   ]
  },
  {
   "cell_type": "code",
   "execution_count": 29,
   "metadata": {
    "scrolled": false
   },
   "outputs": [
    {
     "name": "stderr",
     "output_type": "stream",
     "text": [
      "/Users/ssharlin/miniforge3/envs/ocp-models/lib/python3.8/site-packages/torch/autocast_mode.py:141: UserWarning: User provided device_type of 'cuda', but CUDA is not available. Disabling\n",
      "  warnings.warn('User provided device_type of \\'cuda\\', but CUDA is not available. Disabling')\n"
     ]
    },
    {
     "name": "stdout",
     "output_type": "stream",
     "text": [
      "energy_mae: 3.73e+01, energy_mse: 3.02e+03, energy_within_threshold: 0.00e+00, loss: 3.73e+01, lr: 1.03e-03, epoch: 3.18e-02, step: 5.00e+00\n",
      "energy_mae: 2.43e+01, energy_mse: 1.05e+03, energy_within_threshold: 1.56e-02, loss: 2.43e+01, lr: 1.08e-03, epoch: 6.37e-02, step: 1.00e+01\n",
      "energy_mae: 2.13e+01, energy_mse: 8.09e+02, energy_within_threshold: 0.00e+00, loss: 2.13e+01, lr: 1.12e-03, epoch: 9.55e-02, step: 1.50e+01\n",
      "energy_mae: 1.67e+01, energy_mse: 5.79e+02, energy_within_threshold: 0.00e+00, loss: 1.67e+01, lr: 1.16e-03, epoch: 1.27e-01, step: 2.00e+01\n",
      "energy_mae: 1.83e+01, energy_mse: 6.82e+02, energy_within_threshold: 0.00e+00, loss: 1.83e+01, lr: 1.21e-03, epoch: 1.59e-01, step: 2.50e+01\n",
      "energy_mae: 1.54e+01, energy_mse: 7.37e+02, energy_within_threshold: 0.00e+00, loss: 1.54e+01, lr: 1.25e-03, epoch: 1.91e-01, step: 3.00e+01\n",
      "energy_mae: 1.52e+01, energy_mse: 4.10e+02, energy_within_threshold: 0.00e+00, loss: 1.52e+01, lr: 1.29e-03, epoch: 2.23e-01, step: 3.50e+01\n",
      "energy_mae: 1.20e+01, energy_mse: 3.30e+02, energy_within_threshold: 0.00e+00, loss: 1.20e+01, lr: 1.33e-03, epoch: 2.55e-01, step: 4.00e+01\n",
      "energy_mae: 8.92e+00, energy_mse: 1.52e+02, energy_within_threshold: 0.00e+00, loss: 8.92e+00, lr: 1.38e-03, epoch: 2.87e-01, step: 4.50e+01\n",
      "energy_mae: 1.06e+01, energy_mse: 2.29e+02, energy_within_threshold: 0.00e+00, loss: 1.06e+01, lr: 1.42e-03, epoch: 3.18e-01, step: 5.00e+01\n",
      "energy_mae: 9.26e+00, energy_mse: 1.60e+02, energy_within_threshold: 0.00e+00, loss: 9.26e+00, lr: 1.46e-03, epoch: 3.50e-01, step: 5.50e+01\n",
      "energy_mae: 7.51e+00, energy_mse: 1.42e+02, energy_within_threshold: 0.00e+00, loss: 7.51e+00, lr: 1.50e-03, epoch: 3.82e-01, step: 6.00e+01\n",
      "energy_mae: 9.22e+00, energy_mse: 1.94e+02, energy_within_threshold: 0.00e+00, loss: 9.22e+00, lr: 1.55e-03, epoch: 4.14e-01, step: 6.50e+01\n",
      "energy_mae: 9.47e+00, energy_mse: 1.62e+02, energy_within_threshold: 0.00e+00, loss: 9.47e+00, lr: 1.59e-03, epoch: 4.46e-01, step: 7.00e+01\n",
      "energy_mae: 1.08e+01, energy_mse: 2.09e+02, energy_within_threshold: 0.00e+00, loss: 1.08e+01, lr: 1.63e-03, epoch: 4.78e-01, step: 7.50e+01\n",
      "energy_mae: 7.65e+00, energy_mse: 1.14e+02, energy_within_threshold: 0.00e+00, loss: 7.65e+00, lr: 1.68e-03, epoch: 5.10e-01, step: 8.00e+01\n",
      "energy_mae: 1.05e+01, energy_mse: 2.23e+02, energy_within_threshold: 0.00e+00, loss: 1.05e+01, lr: 1.72e-03, epoch: 5.41e-01, step: 8.50e+01\n",
      "energy_mae: 1.02e+01, energy_mse: 2.31e+02, energy_within_threshold: 0.00e+00, loss: 1.02e+01, lr: 1.76e-03, epoch: 5.73e-01, step: 9.00e+01\n",
      "energy_mae: 1.01e+01, energy_mse: 1.80e+02, energy_within_threshold: 0.00e+00, loss: 1.01e+01, lr: 1.80e-03, epoch: 6.05e-01, step: 9.50e+01\n",
      "energy_mae: 1.04e+01, energy_mse: 2.23e+02, energy_within_threshold: 0.00e+00, loss: 1.04e+01, lr: 1.85e-03, epoch: 6.37e-01, step: 1.00e+02\n",
      "energy_mae: 1.01e+01, energy_mse: 1.83e+02, energy_within_threshold: 1.56e-02, loss: 1.01e+01, lr: 1.89e-03, epoch: 6.69e-01, step: 1.05e+02\n",
      "energy_mae: 7.74e+00, energy_mse: 1.12e+02, energy_within_threshold: 0.00e+00, loss: 7.74e+00, lr: 1.93e-03, epoch: 7.01e-01, step: 1.10e+02\n",
      "energy_mae: 7.41e+00, energy_mse: 9.36e+01, energy_within_threshold: 0.00e+00, loss: 7.41e+00, lr: 1.97e-03, epoch: 7.32e-01, step: 1.15e+02\n",
      "energy_mae: 6.96e+00, energy_mse: 8.32e+01, energy_within_threshold: 0.00e+00, loss: 6.96e+00, lr: 2.02e-03, epoch: 7.64e-01, step: 1.20e+02\n",
      "energy_mae: 7.99e+00, energy_mse: 1.47e+02, energy_within_threshold: 0.00e+00, loss: 7.99e+00, lr: 2.06e-03, epoch: 7.96e-01, step: 1.25e+02\n",
      "energy_mae: 7.45e+00, energy_mse: 9.80e+01, energy_within_threshold: 0.00e+00, loss: 7.45e+00, lr: 2.10e-03, epoch: 8.28e-01, step: 1.30e+02\n",
      "energy_mae: 5.68e+00, energy_mse: 5.45e+01, energy_within_threshold: 0.00e+00, loss: 5.68e+00, lr: 2.15e-03, epoch: 8.60e-01, step: 1.35e+02\n",
      "energy_mae: 9.92e+00, energy_mse: 4.71e+02, energy_within_threshold: 0.00e+00, loss: 9.92e+00, lr: 2.19e-03, epoch: 8.92e-01, step: 1.40e+02\n",
      "energy_mae: 7.01e+00, energy_mse: 9.69e+01, energy_within_threshold: 1.56e-02, loss: 7.01e+00, lr: 2.23e-03, epoch: 9.24e-01, step: 1.45e+02\n",
      "energy_mae: 7.17e+00, energy_mse: 9.99e+01, energy_within_threshold: 1.56e-02, loss: 7.17e+00, lr: 2.27e-03, epoch: 9.55e-01, step: 1.50e+02\n",
      "energy_mae: 7.64e+00, energy_mse: 1.13e+02, energy_within_threshold: 0.00e+00, loss: 7.64e+00, lr: 2.32e-03, epoch: 9.87e-01, step: 1.55e+02\n",
      "2021-12-17 14:37:56 (INFO): Evaluating on val.\n"
     ]
    },
    {
     "name": "stderr",
     "output_type": "stream",
     "text": [
      "device 0: 100%|███████████████████████████████| 157/157 [01:57<00:00,  1.33it/s]"
     ]
    },
    {
     "name": "stdout",
     "output_type": "stream",
     "text": [
      "2021-12-17 14:39:54 (INFO): energy_mae: 8.4726, energy_mse: 155.0149, energy_within_threshold: 0.0017, loss: 8.4780, epoch: 1.0000\n",
      "2021-12-17 14:39:54 (INFO): Predicting on test.\n"
     ]
    },
    {
     "name": "stderr",
     "output_type": "stream",
     "text": [
      "\n",
      "device 0: 100%|███████████████████████████████| 157/157 [01:59<00:00,  1.32it/s]\n"
     ]
    },
    {
     "name": "stdout",
     "output_type": "stream",
     "text": [
      "2021-12-17 14:41:53 (INFO): Writing results to ./results/2021-12-17-14-33-20-SchNet-example/is2re_predictions.npz\n",
      "energy_mae: 8.54e+00, energy_mse: 1.54e+02, energy_within_threshold: 0.00e+00, loss: 8.54e+00, lr: 2.36e-03, epoch: 1.02e+00, step: 1.60e+02\n",
      "energy_mae: 7.93e+00, energy_mse: 1.18e+02, energy_within_threshold: 1.56e-02, loss: 7.93e+00, lr: 2.40e-03, epoch: 1.05e+00, step: 1.65e+02\n",
      "energy_mae: 1.12e+01, energy_mse: 2.60e+02, energy_within_threshold: 0.00e+00, loss: 1.12e+01, lr: 2.44e-03, epoch: 1.08e+00, step: 1.70e+02\n",
      "energy_mae: 7.49e+00, energy_mse: 9.76e+01, energy_within_threshold: 0.00e+00, loss: 7.49e+00, lr: 2.49e-03, epoch: 1.11e+00, step: 1.75e+02\n",
      "energy_mae: 8.03e+00, energy_mse: 1.10e+02, energy_within_threshold: 0.00e+00, loss: 8.03e+00, lr: 2.53e-03, epoch: 1.15e+00, step: 1.80e+02\n",
      "energy_mae: 5.37e+00, energy_mse: 5.68e+01, energy_within_threshold: 1.56e-02, loss: 5.37e+00, lr: 2.57e-03, epoch: 1.18e+00, step: 1.85e+02\n",
      "energy_mae: 5.89e+00, energy_mse: 6.41e+01, energy_within_threshold: 0.00e+00, loss: 5.89e+00, lr: 2.62e-03, epoch: 1.21e+00, step: 1.90e+02\n",
      "energy_mae: 5.91e+00, energy_mse: 6.16e+01, energy_within_threshold: 0.00e+00, loss: 5.91e+00, lr: 2.66e-03, epoch: 1.24e+00, step: 1.95e+02\n",
      "energy_mae: 8.90e+00, energy_mse: 1.62e+02, energy_within_threshold: 0.00e+00, loss: 8.90e+00, lr: 2.70e-03, epoch: 1.27e+00, step: 2.00e+02\n",
      "energy_mae: 5.96e+00, energy_mse: 5.93e+01, energy_within_threshold: 1.56e-02, loss: 5.96e+00, lr: 2.74e-03, epoch: 1.31e+00, step: 2.05e+02\n",
      "energy_mae: 6.29e+00, energy_mse: 5.70e+01, energy_within_threshold: 0.00e+00, loss: 6.29e+00, lr: 2.79e-03, epoch: 1.34e+00, step: 2.10e+02\n",
      "energy_mae: 7.29e+00, energy_mse: 8.48e+01, energy_within_threshold: 0.00e+00, loss: 7.29e+00, lr: 2.83e-03, epoch: 1.37e+00, step: 2.15e+02\n",
      "energy_mae: 9.76e+00, energy_mse: 1.64e+02, energy_within_threshold: 0.00e+00, loss: 9.76e+00, lr: 2.87e-03, epoch: 1.40e+00, step: 2.20e+02\n",
      "energy_mae: 5.66e+00, energy_mse: 6.04e+01, energy_within_threshold: 0.00e+00, loss: 5.66e+00, lr: 2.91e-03, epoch: 1.43e+00, step: 2.25e+02\n",
      "energy_mae: 8.48e+00, energy_mse: 1.37e+02, energy_within_threshold: 0.00e+00, loss: 8.48e+00, lr: 2.96e-03, epoch: 1.46e+00, step: 2.30e+02\n",
      "energy_mae: 4.60e+00, energy_mse: 4.14e+01, energy_within_threshold: 0.00e+00, loss: 4.60e+00, lr: 3.00e-03, epoch: 1.50e+00, step: 2.35e+02\n",
      "energy_mae: 5.06e+00, energy_mse: 4.73e+01, energy_within_threshold: 0.00e+00, loss: 5.06e+00, lr: 3.04e-03, epoch: 1.53e+00, step: 2.40e+02\n",
      "energy_mae: 4.65e+00, energy_mse: 3.53e+01, energy_within_threshold: 0.00e+00, loss: 4.65e+00, lr: 3.09e-03, epoch: 1.56e+00, step: 2.45e+02\n",
      "energy_mae: 3.58e+00, energy_mse: 2.53e+01, energy_within_threshold: 0.00e+00, loss: 3.58e+00, lr: 3.13e-03, epoch: 1.59e+00, step: 2.50e+02\n",
      "energy_mae: 3.64e+00, energy_mse: 2.55e+01, energy_within_threshold: 0.00e+00, loss: 3.64e+00, lr: 3.17e-03, epoch: 1.62e+00, step: 2.55e+02\n",
      "energy_mae: 3.04e+00, energy_mse: 1.56e+01, energy_within_threshold: 1.56e-02, loss: 3.04e+00, lr: 3.21e-03, epoch: 1.66e+00, step: 2.60e+02\n",
      "energy_mae: 3.01e+00, energy_mse: 1.40e+01, energy_within_threshold: 0.00e+00, loss: 3.01e+00, lr: 3.26e-03, epoch: 1.69e+00, step: 2.65e+02\n",
      "energy_mae: 3.15e+00, energy_mse: 1.56e+01, energy_within_threshold: 0.00e+00, loss: 3.15e+00, lr: 3.30e-03, epoch: 1.72e+00, step: 2.70e+02\n",
      "energy_mae: 3.07e+00, energy_mse: 1.64e+01, energy_within_threshold: 0.00e+00, loss: 3.07e+00, lr: 3.34e-03, epoch: 1.75e+00, step: 2.75e+02\n",
      "energy_mae: 3.53e+00, energy_mse: 2.29e+01, energy_within_threshold: 0.00e+00, loss: 3.53e+00, lr: 3.38e-03, epoch: 1.78e+00, step: 2.80e+02\n",
      "energy_mae: 4.50e+00, energy_mse: 3.09e+01, energy_within_threshold: 0.00e+00, loss: 4.50e+00, lr: 3.43e-03, epoch: 1.82e+00, step: 2.85e+02\n",
      "energy_mae: 2.49e+00, energy_mse: 1.04e+01, energy_within_threshold: 0.00e+00, loss: 2.49e+00, lr: 3.47e-03, epoch: 1.85e+00, step: 2.90e+02\n",
      "energy_mae: 2.49e+00, energy_mse: 1.01e+01, energy_within_threshold: 0.00e+00, loss: 2.49e+00, lr: 3.51e-03, epoch: 1.88e+00, step: 2.95e+02\n",
      "energy_mae: 2.29e+00, energy_mse: 9.53e+00, energy_within_threshold: 1.56e-02, loss: 2.29e+00, lr: 3.56e-03, epoch: 1.91e+00, step: 3.00e+02\n",
      "energy_mae: 1.91e+00, energy_mse: 9.41e+00, energy_within_threshold: 0.00e+00, loss: 1.91e+00, lr: 3.60e-03, epoch: 1.94e+00, step: 3.05e+02\n",
      "energy_mae: 2.19e+00, energy_mse: 8.35e+00, energy_within_threshold: 0.00e+00, loss: 2.19e+00, lr: 3.64e-03, epoch: 1.97e+00, step: 3.10e+02\n",
      "2021-12-17 14:45:55 (INFO): Evaluating on val.\n"
     ]
    },
    {
     "name": "stderr",
     "output_type": "stream",
     "text": [
      "device 0: 100%|███████████████████████████████| 157/157 [02:00<00:00,  1.30it/s]"
     ]
    },
    {
     "name": "stdout",
     "output_type": "stream",
     "text": [
      "2021-12-17 14:47:56 (INFO): energy_mae: 3.8590, energy_mse: 22.7966, energy_within_threshold: 0.0029, loss: 3.8599, epoch: 2.0000\n"
     ]
    },
    {
     "name": "stderr",
     "output_type": "stream",
     "text": [
      "\n"
     ]
    },
    {
     "name": "stdout",
     "output_type": "stream",
     "text": [
      "2021-12-17 14:47:56 (INFO): Predicting on test.\n"
     ]
    },
    {
     "name": "stderr",
     "output_type": "stream",
     "text": [
      "device 0: 100%|███████████████████████████████| 157/157 [02:01<00:00,  1.29it/s]\n"
     ]
    },
    {
     "name": "stdout",
     "output_type": "stream",
     "text": [
      "2021-12-17 14:49:58 (INFO): Writing results to ./results/2021-12-17-14-33-20-SchNet-example/is2re_predictions.npz\n",
      "energy_mae: 3.70e+00, energy_mse: 2.27e+01, energy_within_threshold: 0.00e+00, loss: 3.70e+00, lr: 3.68e-03, epoch: 2.01e+00, step: 3.15e+02\n",
      "energy_mae: 3.05e+00, energy_mse: 1.46e+01, energy_within_threshold: 0.00e+00, loss: 3.05e+00, lr: 3.73e-03, epoch: 2.04e+00, step: 3.20e+02\n",
      "energy_mae: 2.49e+00, energy_mse: 1.15e+01, energy_within_threshold: 1.56e-02, loss: 2.49e+00, lr: 3.77e-03, epoch: 2.07e+00, step: 3.25e+02\n",
      "energy_mae: 2.62e+00, energy_mse: 1.13e+01, energy_within_threshold: 0.00e+00, loss: 2.62e+00, lr: 3.81e-03, epoch: 2.10e+00, step: 3.30e+02\n",
      "energy_mae: 3.65e+00, energy_mse: 1.86e+01, energy_within_threshold: 1.56e-02, loss: 3.65e+00, lr: 3.85e-03, epoch: 2.13e+00, step: 3.35e+02\n",
      "energy_mae: 2.53e+00, energy_mse: 9.31e+00, energy_within_threshold: 0.00e+00, loss: 2.53e+00, lr: 3.90e-03, epoch: 2.17e+00, step: 3.40e+02\n",
      "energy_mae: 2.08e+00, energy_mse: 7.03e+00, energy_within_threshold: 0.00e+00, loss: 2.08e+00, lr: 3.94e-03, epoch: 2.20e+00, step: 3.45e+02\n",
      "energy_mae: 3.32e+00, energy_mse: 1.51e+01, energy_within_threshold: 0.00e+00, loss: 3.32e+00, lr: 3.98e-03, epoch: 2.23e+00, step: 3.50e+02\n",
      "energy_mae: 3.34e+00, energy_mse: 1.63e+01, energy_within_threshold: 0.00e+00, loss: 3.34e+00, lr: 4.03e-03, epoch: 2.26e+00, step: 3.55e+02\n",
      "energy_mae: 1.59e+00, energy_mse: 4.29e+00, energy_within_threshold: 0.00e+00, loss: 1.59e+00, lr: 4.07e-03, epoch: 2.29e+00, step: 3.60e+02\n",
      "energy_mae: 2.03e+00, energy_mse: 7.11e+00, energy_within_threshold: 0.00e+00, loss: 2.03e+00, lr: 4.11e-03, epoch: 2.32e+00, step: 3.65e+02\n",
      "energy_mae: 1.71e+00, energy_mse: 5.36e+00, energy_within_threshold: 0.00e+00, loss: 1.71e+00, lr: 4.15e-03, epoch: 2.36e+00, step: 3.70e+02\n",
      "energy_mae: 1.99e+00, energy_mse: 7.63e+00, energy_within_threshold: 1.56e-02, loss: 1.99e+00, lr: 4.20e-03, epoch: 2.39e+00, step: 3.75e+02\n",
      "energy_mae: 3.69e+00, energy_mse: 2.40e+01, energy_within_threshold: 0.00e+00, loss: 3.69e+00, lr: 4.24e-03, epoch: 2.42e+00, step: 3.80e+02\n",
      "energy_mae: 1.94e+00, energy_mse: 6.80e+00, energy_within_threshold: 0.00e+00, loss: 1.94e+00, lr: 4.28e-03, epoch: 2.45e+00, step: 3.85e+02\n",
      "energy_mae: 2.16e+00, energy_mse: 8.62e+00, energy_within_threshold: 1.56e-02, loss: 2.16e+00, lr: 4.32e-03, epoch: 2.48e+00, step: 3.90e+02\n",
      "energy_mae: 1.52e+00, energy_mse: 3.91e+00, energy_within_threshold: 1.56e-02, loss: 1.52e+00, lr: 4.37e-03, epoch: 2.52e+00, step: 3.95e+02\n",
      "energy_mae: 1.54e+00, energy_mse: 3.82e+00, energy_within_threshold: 0.00e+00, loss: 1.54e+00, lr: 4.41e-03, epoch: 2.55e+00, step: 4.00e+02\n",
      "energy_mae: 3.39e+00, energy_mse: 1.92e+01, energy_within_threshold: 0.00e+00, loss: 3.39e+00, lr: 4.45e-03, epoch: 2.58e+00, step: 4.05e+02\n",
      "energy_mae: 2.66e+00, energy_mse: 1.05e+01, energy_within_threshold: 0.00e+00, loss: 2.66e+00, lr: 4.50e-03, epoch: 2.61e+00, step: 4.10e+02\n",
      "energy_mae: 2.73e+00, energy_mse: 1.21e+01, energy_within_threshold: 1.56e-02, loss: 2.73e+00, lr: 4.54e-03, epoch: 2.64e+00, step: 4.15e+02\n",
      "energy_mae: 2.74e+00, energy_mse: 1.29e+01, energy_within_threshold: 0.00e+00, loss: 2.74e+00, lr: 4.58e-03, epoch: 2.68e+00, step: 4.20e+02\n",
      "energy_mae: 2.93e+00, energy_mse: 1.25e+01, energy_within_threshold: 0.00e+00, loss: 2.93e+00, lr: 4.62e-03, epoch: 2.71e+00, step: 4.25e+02\n",
      "energy_mae: 2.23e+00, energy_mse: 1.01e+01, energy_within_threshold: 1.56e-02, loss: 2.23e+00, lr: 4.67e-03, epoch: 2.74e+00, step: 4.30e+02\n",
      "energy_mae: 2.73e+00, energy_mse: 1.41e+01, energy_within_threshold: 0.00e+00, loss: 2.73e+00, lr: 4.71e-03, epoch: 2.77e+00, step: 4.35e+02\n",
      "energy_mae: 1.89e+00, energy_mse: 6.29e+00, energy_within_threshold: 1.56e-02, loss: 1.89e+00, lr: 4.75e-03, epoch: 2.80e+00, step: 4.40e+02\n",
      "energy_mae: 2.34e+00, energy_mse: 8.24e+00, energy_within_threshold: 3.12e-02, loss: 2.34e+00, lr: 4.79e-03, epoch: 2.83e+00, step: 4.45e+02\n",
      "energy_mae: 1.09e+00, energy_mse: 1.95e+00, energy_within_threshold: 0.00e+00, loss: 1.09e+00, lr: 4.84e-03, epoch: 2.87e+00, step: 4.50e+02\n",
      "energy_mae: 1.47e+00, energy_mse: 5.35e+00, energy_within_threshold: 0.00e+00, loss: 1.47e+00, lr: 4.88e-03, epoch: 2.90e+00, step: 4.55e+02\n",
      "energy_mae: 2.68e+00, energy_mse: 1.13e+01, energy_within_threshold: 0.00e+00, loss: 2.68e+00, lr: 4.92e-03, epoch: 2.93e+00, step: 4.60e+02\n",
      "energy_mae: 1.66e+00, energy_mse: 5.07e+00, energy_within_threshold: 0.00e+00, loss: 1.66e+00, lr: 4.97e-03, epoch: 2.96e+00, step: 4.65e+02\n",
      "energy_mae: 2.97e+00, energy_mse: 1.38e+01, energy_within_threshold: 0.00e+00, loss: 2.97e+00, lr: 5.00e-03, epoch: 2.99e+00, step: 4.70e+02\n",
      "2021-12-17 14:54:05 (INFO): Evaluating on val.\n"
     ]
    },
    {
     "name": "stderr",
     "output_type": "stream",
     "text": [
      "device 0: 100%|███████████████████████████████| 157/157 [02:03<00:00,  1.27it/s]"
     ]
    },
    {
     "name": "stdout",
     "output_type": "stream",
     "text": [
      "2021-12-17 14:56:08 (INFO): energy_mae: 2.1755, energy_mse: 8.5347, energy_within_threshold: 0.0066, loss: 2.1762, epoch: 3.0000\n",
      "2021-12-17 14:56:08 (INFO): Predicting on test.\n"
     ]
    },
    {
     "name": "stderr",
     "output_type": "stream",
     "text": [
      "\n",
      "device 0: 100%|███████████████████████████████| 157/157 [02:04<00:00,  1.26it/s]\n"
     ]
    },
    {
     "name": "stdout",
     "output_type": "stream",
     "text": [
      "2021-12-17 14:58:13 (INFO): Writing results to ./results/2021-12-17-14-33-20-SchNet-example/is2re_predictions.npz\n",
      "energy_mae: 2.14e+00, energy_mse: 8.31e+00, energy_within_threshold: 0.00e+00, loss: 2.14e+00, lr: 5.00e-03, epoch: 3.03e+00, step: 4.75e+02\n",
      "energy_mae: 2.20e+00, energy_mse: 8.64e+00, energy_within_threshold: 0.00e+00, loss: 2.20e+00, lr: 5.00e-03, epoch: 3.06e+00, step: 4.80e+02\n",
      "energy_mae: 1.69e+00, energy_mse: 5.11e+00, energy_within_threshold: 0.00e+00, loss: 1.69e+00, lr: 5.00e-03, epoch: 3.09e+00, step: 4.85e+02\n",
      "energy_mae: 1.80e+00, energy_mse: 5.14e+00, energy_within_threshold: 0.00e+00, loss: 1.80e+00, lr: 5.00e-03, epoch: 3.12e+00, step: 4.90e+02\n",
      "energy_mae: 1.61e+00, energy_mse: 4.21e+00, energy_within_threshold: 0.00e+00, loss: 1.61e+00, lr: 5.00e-03, epoch: 3.15e+00, step: 4.95e+02\n",
      "energy_mae: 2.33e+00, energy_mse: 8.07e+00, energy_within_threshold: 0.00e+00, loss: 2.33e+00, lr: 5.00e-03, epoch: 3.18e+00, step: 5.00e+02\n",
      "energy_mae: 1.54e+00, energy_mse: 4.14e+00, energy_within_threshold: 0.00e+00, loss: 1.54e+00, lr: 5.00e-03, epoch: 3.22e+00, step: 5.05e+02\n",
      "energy_mae: 1.35e+00, energy_mse: 3.00e+00, energy_within_threshold: 3.12e-02, loss: 1.35e+00, lr: 5.00e-03, epoch: 3.25e+00, step: 5.10e+02\n",
      "energy_mae: 1.37e+00, energy_mse: 3.22e+00, energy_within_threshold: 0.00e+00, loss: 1.37e+00, lr: 5.00e-03, epoch: 3.28e+00, step: 5.15e+02\n",
      "energy_mae: 1.53e+00, energy_mse: 3.50e+00, energy_within_threshold: 1.56e-02, loss: 1.53e+00, lr: 5.00e-03, epoch: 3.31e+00, step: 5.20e+02\n",
      "energy_mae: 1.27e+00, energy_mse: 3.12e+00, energy_within_threshold: 1.56e-02, loss: 1.27e+00, lr: 5.00e-03, epoch: 3.34e+00, step: 5.25e+02\n",
      "energy_mae: 1.67e+00, energy_mse: 5.88e+00, energy_within_threshold: 3.12e-02, loss: 1.67e+00, lr: 5.00e-03, epoch: 3.38e+00, step: 5.30e+02\n",
      "energy_mae: 1.41e+00, energy_mse: 3.28e+00, energy_within_threshold: 0.00e+00, loss: 1.41e+00, lr: 5.00e-03, epoch: 3.41e+00, step: 5.35e+02\n",
      "energy_mae: 1.59e+00, energy_mse: 4.61e+00, energy_within_threshold: 0.00e+00, loss: 1.59e+00, lr: 5.00e-03, epoch: 3.44e+00, step: 5.40e+02\n",
      "energy_mae: 1.51e+00, energy_mse: 4.14e+00, energy_within_threshold: 0.00e+00, loss: 1.51e+00, lr: 5.00e-03, epoch: 3.47e+00, step: 5.45e+02\n",
      "energy_mae: 2.35e+00, energy_mse: 9.70e+00, energy_within_threshold: 0.00e+00, loss: 2.35e+00, lr: 5.00e-03, epoch: 3.50e+00, step: 5.50e+02\n",
      "energy_mae: 1.82e+00, energy_mse: 5.29e+00, energy_within_threshold: 0.00e+00, loss: 1.82e+00, lr: 5.00e-03, epoch: 3.54e+00, step: 5.55e+02\n",
      "energy_mae: 1.30e+00, energy_mse: 2.84e+00, energy_within_threshold: 0.00e+00, loss: 1.30e+00, lr: 5.00e-03, epoch: 3.57e+00, step: 5.60e+02\n",
      "energy_mae: 1.69e+00, energy_mse: 6.15e+00, energy_within_threshold: 1.56e-02, loss: 1.69e+00, lr: 5.00e-03, epoch: 3.60e+00, step: 5.65e+02\n",
      "energy_mae: 1.76e+00, energy_mse: 5.15e+00, energy_within_threshold: 1.56e-02, loss: 1.76e+00, lr: 5.00e-03, epoch: 3.63e+00, step: 5.70e+02\n",
      "energy_mae: 2.29e+00, energy_mse: 8.94e+00, energy_within_threshold: 1.56e-02, loss: 2.29e+00, lr: 5.00e-03, epoch: 3.66e+00, step: 5.75e+02\n",
      "energy_mae: 1.45e+00, energy_mse: 3.69e+00, energy_within_threshold: 1.56e-02, loss: 1.45e+00, lr: 5.00e-03, epoch: 3.69e+00, step: 5.80e+02\n",
      "energy_mae: 1.17e+00, energy_mse: 2.30e+00, energy_within_threshold: 1.56e-02, loss: 1.17e+00, lr: 5.00e-03, epoch: 3.73e+00, step: 5.85e+02\n",
      "energy_mae: 2.33e+00, energy_mse: 7.04e+00, energy_within_threshold: 0.00e+00, loss: 2.33e+00, lr: 5.00e-03, epoch: 3.76e+00, step: 5.90e+02\n",
      "energy_mae: 1.51e+00, energy_mse: 4.31e+00, energy_within_threshold: 0.00e+00, loss: 1.51e+00, lr: 5.00e-03, epoch: 3.79e+00, step: 5.95e+02\n",
      "energy_mae: 1.15e+00, energy_mse: 2.59e+00, energy_within_threshold: 0.00e+00, loss: 1.15e+00, lr: 5.00e-03, epoch: 3.82e+00, step: 6.00e+02\n",
      "energy_mae: 1.53e+00, energy_mse: 3.87e+00, energy_within_threshold: 3.12e-02, loss: 1.53e+00, lr: 5.00e-03, epoch: 3.85e+00, step: 6.05e+02\n",
      "energy_mae: 1.18e+00, energy_mse: 2.60e+00, energy_within_threshold: 3.12e-02, loss: 1.18e+00, lr: 5.00e-03, epoch: 3.89e+00, step: 6.10e+02\n",
      "energy_mae: 1.72e+00, energy_mse: 4.42e+00, energy_within_threshold: 0.00e+00, loss: 1.72e+00, lr: 5.00e-03, epoch: 3.92e+00, step: 6.15e+02\n",
      "energy_mae: 2.64e+00, energy_mse: 9.39e+00, energy_within_threshold: 0.00e+00, loss: 2.64e+00, lr: 5.00e-03, epoch: 3.95e+00, step: 6.20e+02\n",
      "energy_mae: 3.61e+00, energy_mse: 1.73e+01, energy_within_threshold: 0.00e+00, loss: 3.61e+00, lr: 5.00e-03, epoch: 3.98e+00, step: 6.25e+02\n",
      "2021-12-17 15:02:11 (INFO): Evaluating on val.\n"
     ]
    },
    {
     "name": "stderr",
     "output_type": "stream",
     "text": [
      "device 0: 100%|███████████████████████████████| 157/157 [02:06<00:00,  1.24it/s]"
     ]
    },
    {
     "name": "stdout",
     "output_type": "stream",
     "text": [
      "2021-12-17 15:04:18 (INFO): energy_mae: 2.1329, energy_mse: 7.7426, energy_within_threshold: 0.0046, loss: 2.1307, epoch: 4.0000\n",
      "2021-12-17 15:04:18 (INFO): Predicting on test.\n"
     ]
    },
    {
     "name": "stderr",
     "output_type": "stream",
     "text": [
      "\n",
      "device 0: 100%|███████████████████████████████| 157/157 [02:01<00:00,  1.29it/s]\n"
     ]
    },
    {
     "name": "stdout",
     "output_type": "stream",
     "text": [
      "2021-12-17 15:06:19 (INFO): Writing results to ./results/2021-12-17-14-33-20-SchNet-example/is2re_predictions.npz\n",
      "energy_mae: 3.33e+00, energy_mse: 1.51e+01, energy_within_threshold: 0.00e+00, loss: 3.33e+00, lr: 5.00e-03, epoch: 4.01e+00, step: 6.30e+02\n",
      "energy_mae: 3.78e+00, energy_mse: 2.16e+01, energy_within_threshold: 0.00e+00, loss: 3.78e+00, lr: 5.00e-03, epoch: 4.04e+00, step: 6.35e+02\n",
      "energy_mae: 1.70e+00, energy_mse: 4.42e+00, energy_within_threshold: 0.00e+00, loss: 1.70e+00, lr: 5.00e-03, epoch: 4.08e+00, step: 6.40e+02\n",
      "energy_mae: 2.00e+00, energy_mse: 6.99e+00, energy_within_threshold: 0.00e+00, loss: 2.00e+00, lr: 5.00e-03, epoch: 4.11e+00, step: 6.45e+02\n",
      "energy_mae: 1.96e+00, energy_mse: 6.76e+00, energy_within_threshold: 1.56e-02, loss: 1.96e+00, lr: 5.00e-03, epoch: 4.14e+00, step: 6.50e+02\n",
      "energy_mae: 1.35e+00, energy_mse: 3.18e+00, energy_within_threshold: 3.12e-02, loss: 1.35e+00, lr: 5.00e-03, epoch: 4.17e+00, step: 6.55e+02\n",
      "energy_mae: 1.96e+00, energy_mse: 6.22e+00, energy_within_threshold: 1.56e-02, loss: 1.96e+00, lr: 5.00e-03, epoch: 4.20e+00, step: 6.60e+02\n",
      "energy_mae: 1.85e+00, energy_mse: 5.05e+00, energy_within_threshold: 0.00e+00, loss: 1.85e+00, lr: 5.00e-03, epoch: 4.24e+00, step: 6.65e+02\n",
      "energy_mae: 2.29e+00, energy_mse: 5.03e+01, energy_within_threshold: 0.00e+00, loss: 2.29e+00, lr: 5.00e-03, epoch: 4.27e+00, step: 6.70e+02\n",
      "energy_mae: 1.85e+00, energy_mse: 4.94e+00, energy_within_threshold: 0.00e+00, loss: 1.85e+00, lr: 5.00e-03, epoch: 4.30e+00, step: 6.75e+02\n",
      "energy_mae: 2.33e+00, energy_mse: 8.30e+00, energy_within_threshold: 0.00e+00, loss: 2.33e+00, lr: 5.00e-03, epoch: 4.33e+00, step: 6.80e+02\n",
      "energy_mae: 2.11e+00, energy_mse: 7.63e+00, energy_within_threshold: 1.56e-02, loss: 2.11e+00, lr: 5.00e-03, epoch: 4.36e+00, step: 6.85e+02\n",
      "energy_mae: 1.90e+00, energy_mse: 5.63e+00, energy_within_threshold: 0.00e+00, loss: 1.90e+00, lr: 5.00e-03, epoch: 4.39e+00, step: 6.90e+02\n",
      "energy_mae: 1.44e+00, energy_mse: 3.75e+00, energy_within_threshold: 3.12e-02, loss: 1.44e+00, lr: 5.00e-03, epoch: 4.43e+00, step: 6.95e+02\n",
      "energy_mae: 1.13e+00, energy_mse: 2.53e+00, energy_within_threshold: 4.69e-02, loss: 1.13e+00, lr: 5.00e-03, epoch: 4.46e+00, step: 7.00e+02\n",
      "energy_mae: 1.94e+00, energy_mse: 6.25e+00, energy_within_threshold: 1.56e-02, loss: 1.94e+00, lr: 5.00e-03, epoch: 4.49e+00, step: 7.05e+02\n",
      "energy_mae: 1.10e+00, energy_mse: 2.40e+00, energy_within_threshold: 0.00e+00, loss: 1.10e+00, lr: 5.00e-03, epoch: 4.52e+00, step: 7.10e+02\n",
      "energy_mae: 1.42e+00, energy_mse: 3.10e+00, energy_within_threshold: 0.00e+00, loss: 1.42e+00, lr: 5.00e-03, epoch: 4.55e+00, step: 7.15e+02\n",
      "energy_mae: 1.19e+00, energy_mse: 2.66e+00, energy_within_threshold: 1.56e-02, loss: 1.19e+00, lr: 5.00e-03, epoch: 4.59e+00, step: 7.20e+02\n",
      "energy_mae: 4.26e+00, energy_mse: 2.82e+01, energy_within_threshold: 0.00e+00, loss: 4.26e+00, lr: 5.00e-03, epoch: 4.62e+00, step: 7.25e+02\n",
      "energy_mae: 1.70e+00, energy_mse: 4.81e+00, energy_within_threshold: 0.00e+00, loss: 1.70e+00, lr: 5.00e-03, epoch: 4.65e+00, step: 7.30e+02\n",
      "energy_mae: 1.40e+00, energy_mse: 3.44e+00, energy_within_threshold: 1.56e-02, loss: 1.40e+00, lr: 5.00e-03, epoch: 4.68e+00, step: 7.35e+02\n",
      "energy_mae: 1.60e+00, energy_mse: 4.39e+00, energy_within_threshold: 0.00e+00, loss: 1.60e+00, lr: 5.00e-03, epoch: 4.71e+00, step: 7.40e+02\n",
      "energy_mae: 1.69e+00, energy_mse: 4.65e+00, energy_within_threshold: 0.00e+00, loss: 1.69e+00, lr: 5.00e-03, epoch: 4.75e+00, step: 7.45e+02\n",
      "energy_mae: 2.45e+00, energy_mse: 1.03e+01, energy_within_threshold: 0.00e+00, loss: 2.45e+00, lr: 5.00e-03, epoch: 4.78e+00, step: 7.50e+02\n",
      "energy_mae: 2.95e+00, energy_mse: 1.42e+01, energy_within_threshold: 0.00e+00, loss: 2.95e+00, lr: 5.00e-03, epoch: 4.81e+00, step: 7.55e+02\n",
      "energy_mae: 2.97e+00, energy_mse: 1.36e+01, energy_within_threshold: 0.00e+00, loss: 2.97e+00, lr: 5.00e-03, epoch: 4.84e+00, step: 7.60e+02\n",
      "energy_mae: 2.63e+00, energy_mse: 1.24e+01, energy_within_threshold: 0.00e+00, loss: 2.63e+00, lr: 5.00e-03, epoch: 4.87e+00, step: 7.65e+02\n",
      "energy_mae: 1.21e+00, energy_mse: 2.50e+00, energy_within_threshold: 1.56e-02, loss: 1.21e+00, lr: 5.00e-03, epoch: 4.90e+00, step: 7.70e+02\n",
      "energy_mae: 1.29e+00, energy_mse: 2.97e+00, energy_within_threshold: 1.56e-02, loss: 1.29e+00, lr: 5.00e-03, epoch: 4.94e+00, step: 7.75e+02\n",
      "energy_mae: 1.26e+00, energy_mse: 2.62e+00, energy_within_threshold: 1.56e-02, loss: 1.26e+00, lr: 5.00e-03, epoch: 4.97e+00, step: 7.80e+02\n",
      "energy_mae: 1.58e+00, energy_mse: 6.43e+00, energy_within_threshold: 0.00e+00, loss: 1.58e+00, lr: 5.00e-03, epoch: 5.00e+00, step: 7.85e+02\n",
      "2021-12-17 15:10:25 (INFO): Evaluating on val.\n"
     ]
    },
    {
     "name": "stderr",
     "output_type": "stream",
     "text": [
      "device 0: 100%|███████████████████████████████| 157/157 [02:04<00:00,  1.26it/s]"
     ]
    },
    {
     "name": "stdout",
     "output_type": "stream",
     "text": [
      "2021-12-17 15:12:30 (INFO): energy_mae: 1.6444, energy_mse: 4.4219, energy_within_threshold: 0.0081, loss: 1.6418, epoch: 5.0000\n",
      "2021-12-17 15:12:30 (INFO): Predicting on test.\n"
     ]
    },
    {
     "name": "stderr",
     "output_type": "stream",
     "text": [
      "\n",
      "device 0: 100%|███████████████████████████████| 157/157 [02:01<00:00,  1.29it/s]\n"
     ]
    },
    {
     "name": "stdout",
     "output_type": "stream",
     "text": [
      "2021-12-17 15:14:31 (INFO): Writing results to ./results/2021-12-17-14-33-20-SchNet-example/is2re_predictions.npz\n",
      "energy_mae: 1.33e+00, energy_mse: 3.11e+00, energy_within_threshold: 1.56e-02, loss: 1.33e+00, lr: 5.00e-03, epoch: 5.03e+00, step: 7.90e+02\n",
      "energy_mae: 1.72e+00, energy_mse: 6.50e+00, energy_within_threshold: 4.69e-02, loss: 1.72e+00, lr: 5.00e-03, epoch: 5.06e+00, step: 7.95e+02\n",
      "energy_mae: 1.08e+00, energy_mse: 1.92e+00, energy_within_threshold: 1.56e-02, loss: 1.08e+00, lr: 5.00e-03, epoch: 5.10e+00, step: 8.00e+02\n",
      "energy_mae: 1.11e+00, energy_mse: 1.96e+00, energy_within_threshold: 0.00e+00, loss: 1.11e+00, lr: 5.00e-03, epoch: 5.13e+00, step: 8.05e+02\n",
      "energy_mae: 1.15e+00, energy_mse: 2.27e+00, energy_within_threshold: 3.12e-02, loss: 1.15e+00, lr: 5.00e-03, epoch: 5.16e+00, step: 8.10e+02\n",
      "energy_mae: 1.01e+00, energy_mse: 2.12e+00, energy_within_threshold: 3.12e-02, loss: 1.01e+00, lr: 5.00e-03, epoch: 5.19e+00, step: 8.15e+02\n",
      "energy_mae: 1.19e+00, energy_mse: 2.30e+00, energy_within_threshold: 1.56e-02, loss: 1.19e+00, lr: 5.00e-03, epoch: 5.22e+00, step: 8.20e+02\n",
      "energy_mae: 1.37e+00, energy_mse: 3.81e+00, energy_within_threshold: 0.00e+00, loss: 1.37e+00, lr: 5.00e-03, epoch: 5.25e+00, step: 8.25e+02\n",
      "energy_mae: 8.27e-01, energy_mse: 1.28e+00, energy_within_threshold: 1.56e-02, loss: 8.27e-01, lr: 5.00e-03, epoch: 5.29e+00, step: 8.30e+02\n",
      "energy_mae: 1.22e+00, energy_mse: 2.37e+00, energy_within_threshold: 0.00e+00, loss: 1.22e+00, lr: 5.00e-03, epoch: 5.32e+00, step: 8.35e+02\n",
      "energy_mae: 1.34e+00, energy_mse: 3.06e+00, energy_within_threshold: 0.00e+00, loss: 1.34e+00, lr: 5.00e-03, epoch: 5.35e+00, step: 8.40e+02\n",
      "energy_mae: 1.61e+00, energy_mse: 5.01e+00, energy_within_threshold: 3.12e-02, loss: 1.61e+00, lr: 5.00e-03, epoch: 5.38e+00, step: 8.45e+02\n",
      "energy_mae: 2.48e+00, energy_mse: 8.59e+00, energy_within_threshold: 0.00e+00, loss: 2.48e+00, lr: 5.00e-03, epoch: 5.41e+00, step: 8.50e+02\n",
      "energy_mae: 1.99e+00, energy_mse: 5.85e+00, energy_within_threshold: 0.00e+00, loss: 1.99e+00, lr: 5.00e-03, epoch: 5.45e+00, step: 8.55e+02\n",
      "energy_mae: 1.11e+00, energy_mse: 2.03e+00, energy_within_threshold: 0.00e+00, loss: 1.11e+00, lr: 5.00e-03, epoch: 5.48e+00, step: 8.60e+02\n",
      "energy_mae: 9.99e-01, energy_mse: 1.57e+00, energy_within_threshold: 0.00e+00, loss: 9.99e-01, lr: 5.00e-03, epoch: 5.51e+00, step: 8.65e+02\n",
      "energy_mae: 1.45e+00, energy_mse: 3.47e+00, energy_within_threshold: 0.00e+00, loss: 1.45e+00, lr: 5.00e-03, epoch: 5.54e+00, step: 8.70e+02\n",
      "energy_mae: 1.38e+00, energy_mse: 3.13e+00, energy_within_threshold: 1.56e-02, loss: 1.38e+00, lr: 5.00e-03, epoch: 5.57e+00, step: 8.75e+02\n",
      "energy_mae: 1.10e+00, energy_mse: 1.97e+00, energy_within_threshold: 0.00e+00, loss: 1.10e+00, lr: 5.00e-03, epoch: 5.61e+00, step: 8.80e+02\n",
      "energy_mae: 1.18e+00, energy_mse: 2.20e+00, energy_within_threshold: 0.00e+00, loss: 1.18e+00, lr: 5.00e-03, epoch: 5.64e+00, step: 8.85e+02\n",
      "energy_mae: 1.13e+00, energy_mse: 2.20e+00, energy_within_threshold: 0.00e+00, loss: 1.13e+00, lr: 5.00e-03, epoch: 5.67e+00, step: 8.90e+02\n",
      "energy_mae: 1.17e+00, energy_mse: 2.15e+00, energy_within_threshold: 0.00e+00, loss: 1.17e+00, lr: 5.00e-03, epoch: 5.70e+00, step: 8.95e+02\n",
      "energy_mae: 1.22e+00, energy_mse: 2.59e+00, energy_within_threshold: 1.56e-02, loss: 1.22e+00, lr: 5.00e-03, epoch: 5.73e+00, step: 9.00e+02\n",
      "energy_mae: 1.46e+00, energy_mse: 3.45e+00, energy_within_threshold: 0.00e+00, loss: 1.46e+00, lr: 5.00e-03, epoch: 5.76e+00, step: 9.05e+02\n",
      "energy_mae: 1.04e+00, energy_mse: 2.38e+00, energy_within_threshold: 1.56e-02, loss: 1.04e+00, lr: 5.00e-03, epoch: 5.80e+00, step: 9.10e+02\n",
      "energy_mae: 2.75e+00, energy_mse: 9.63e+00, energy_within_threshold: 1.56e-02, loss: 2.75e+00, lr: 5.00e-03, epoch: 5.83e+00, step: 9.15e+02\n",
      "energy_mae: 2.34e+00, energy_mse: 9.15e+00, energy_within_threshold: 0.00e+00, loss: 2.34e+00, lr: 5.00e-03, epoch: 5.86e+00, step: 9.20e+02\n",
      "energy_mae: 1.67e+00, energy_mse: 4.92e+00, energy_within_threshold: 1.56e-02, loss: 1.67e+00, lr: 5.00e-03, epoch: 5.89e+00, step: 9.25e+02\n",
      "energy_mae: 1.26e+00, energy_mse: 2.79e+00, energy_within_threshold: 1.56e-02, loss: 1.26e+00, lr: 5.00e-03, epoch: 5.92e+00, step: 9.30e+02\n",
      "energy_mae: 1.22e+00, energy_mse: 2.57e+00, energy_within_threshold: 0.00e+00, loss: 1.22e+00, lr: 5.00e-03, epoch: 5.96e+00, step: 9.35e+02\n",
      "energy_mae: 1.62e+00, energy_mse: 6.28e+00, energy_within_threshold: 1.56e-02, loss: 1.62e+00, lr: 5.00e-03, epoch: 5.99e+00, step: 9.40e+02\n",
      "2021-12-17 15:18:46 (INFO): Evaluating on val.\n"
     ]
    },
    {
     "name": "stderr",
     "output_type": "stream",
     "text": [
      "device 0: 100%|███████████████████████████████| 157/157 [02:02<00:00,  1.28it/s]"
     ]
    },
    {
     "name": "stdout",
     "output_type": "stream",
     "text": [
      "2021-12-17 15:20:49 (INFO): energy_mae: 2.0609, energy_mse: 6.9403, energy_within_threshold: 0.0065, loss: 2.0621, epoch: 6.0000\n"
     ]
    },
    {
     "name": "stderr",
     "output_type": "stream",
     "text": [
      "\n"
     ]
    },
    {
     "name": "stdout",
     "output_type": "stream",
     "text": [
      "energy_mae: 2.37e+00, energy_mse: 7.62e+00, energy_within_threshold: 0.00e+00, loss: 2.37e+00, lr: 5.00e-03, epoch: 6.02e+00, step: 9.45e+02\n",
      "energy_mae: 2.17e+00, energy_mse: 6.69e+00, energy_within_threshold: 0.00e+00, loss: 2.17e+00, lr: 5.00e-03, epoch: 6.05e+00, step: 9.50e+02\n",
      "energy_mae: 2.18e+00, energy_mse: 7.91e+00, energy_within_threshold: 4.69e-02, loss: 2.18e+00, lr: 5.00e-03, epoch: 6.08e+00, step: 9.55e+02\n",
      "energy_mae: 1.12e+00, energy_mse: 2.03e+00, energy_within_threshold: 1.56e-02, loss: 1.12e+00, lr: 5.00e-03, epoch: 6.11e+00, step: 9.60e+02\n",
      "energy_mae: 1.37e+00, energy_mse: 3.07e+00, energy_within_threshold: 4.69e-02, loss: 1.37e+00, lr: 5.00e-03, epoch: 6.15e+00, step: 9.65e+02\n",
      "energy_mae: 1.05e+00, energy_mse: 1.96e+00, energy_within_threshold: 1.56e-02, loss: 1.05e+00, lr: 5.00e-03, epoch: 6.18e+00, step: 9.70e+02\n",
      "energy_mae: 1.54e+00, energy_mse: 4.11e+00, energy_within_threshold: 3.12e-02, loss: 1.54e+00, lr: 5.00e-03, epoch: 6.21e+00, step: 9.75e+02\n",
      "energy_mae: 1.64e+00, energy_mse: 4.08e+00, energy_within_threshold: 0.00e+00, loss: 1.64e+00, lr: 5.00e-03, epoch: 6.24e+00, step: 9.80e+02\n",
      "energy_mae: 1.31e+00, energy_mse: 2.77e+00, energy_within_threshold: 1.56e-02, loss: 1.31e+00, lr: 5.00e-03, epoch: 6.27e+00, step: 9.85e+02\n",
      "energy_mae: 1.75e+00, energy_mse: 4.82e+00, energy_within_threshold: 0.00e+00, loss: 1.75e+00, lr: 5.00e-03, epoch: 6.31e+00, step: 9.90e+02\n",
      "energy_mae: 1.27e+00, energy_mse: 3.08e+00, energy_within_threshold: 3.12e-02, loss: 1.27e+00, lr: 5.00e-03, epoch: 6.34e+00, step: 9.95e+02\n",
      "energy_mae: 1.64e+00, energy_mse: 4.90e+00, energy_within_threshold: 1.56e-02, loss: 1.64e+00, lr: 5.00e-03, epoch: 6.37e+00, step: 1.00e+03\n",
      "energy_mae: 1.67e+00, energy_mse: 4.54e+00, energy_within_threshold: 0.00e+00, loss: 1.67e+00, lr: 5.00e-03, epoch: 6.40e+00, step: 1.00e+03\n",
      "energy_mae: 1.37e+00, energy_mse: 3.99e+00, energy_within_threshold: 1.56e-02, loss: 1.37e+00, lr: 5.00e-03, epoch: 6.43e+00, step: 1.01e+03\n",
      "energy_mae: 9.63e-01, energy_mse: 1.43e+00, energy_within_threshold: 3.12e-02, loss: 9.63e-01, lr: 5.00e-03, epoch: 6.46e+00, step: 1.02e+03\n",
      "energy_mae: 1.13e+00, energy_mse: 2.62e+00, energy_within_threshold: 0.00e+00, loss: 1.13e+00, lr: 5.00e-03, epoch: 6.50e+00, step: 1.02e+03\n",
      "energy_mae: 1.61e+00, energy_mse: 5.14e+00, energy_within_threshold: 0.00e+00, loss: 1.61e+00, lr: 5.00e-03, epoch: 6.53e+00, step: 1.02e+03\n",
      "energy_mae: 1.47e+00, energy_mse: 4.23e+00, energy_within_threshold: 1.56e-02, loss: 1.47e+00, lr: 5.00e-03, epoch: 6.56e+00, step: 1.03e+03\n",
      "energy_mae: 1.03e+00, energy_mse: 2.09e+00, energy_within_threshold: 3.12e-02, loss: 1.03e+00, lr: 5.00e-03, epoch: 6.59e+00, step: 1.04e+03\n",
      "energy_mae: 1.23e+00, energy_mse: 2.36e+00, energy_within_threshold: 1.56e-02, loss: 1.23e+00, lr: 5.00e-03, epoch: 6.62e+00, step: 1.04e+03\n",
      "energy_mae: 1.01e+00, energy_mse: 1.60e+00, energy_within_threshold: 3.12e-02, loss: 1.01e+00, lr: 5.00e-03, epoch: 6.66e+00, step: 1.04e+03\n",
      "energy_mae: 1.25e+00, energy_mse: 3.07e+00, energy_within_threshold: 4.69e-02, loss: 1.25e+00, lr: 5.00e-03, epoch: 6.69e+00, step: 1.05e+03\n",
      "energy_mae: 1.10e+00, energy_mse: 2.47e+00, energy_within_threshold: 4.69e-02, loss: 1.10e+00, lr: 5.00e-03, epoch: 6.72e+00, step: 1.06e+03\n",
      "energy_mae: 1.71e+00, energy_mse: 4.95e+00, energy_within_threshold: 0.00e+00, loss: 1.71e+00, lr: 5.00e-03, epoch: 6.75e+00, step: 1.06e+03\n",
      "energy_mae: 1.10e+00, energy_mse: 2.28e+00, energy_within_threshold: 1.56e-02, loss: 1.10e+00, lr: 5.00e-03, epoch: 6.78e+00, step: 1.06e+03\n",
      "energy_mae: 1.02e+00, energy_mse: 1.63e+00, energy_within_threshold: 1.56e-02, loss: 1.02e+00, lr: 5.00e-03, epoch: 6.82e+00, step: 1.07e+03\n",
      "energy_mae: 1.50e+00, energy_mse: 3.76e+00, energy_within_threshold: 0.00e+00, loss: 1.50e+00, lr: 5.00e-03, epoch: 6.85e+00, step: 1.08e+03\n",
      "energy_mae: 1.45e+00, energy_mse: 3.72e+00, energy_within_threshold: 0.00e+00, loss: 1.45e+00, lr: 5.00e-03, epoch: 6.88e+00, step: 1.08e+03\n",
      "energy_mae: 1.33e+00, energy_mse: 2.50e+00, energy_within_threshold: 0.00e+00, loss: 1.33e+00, lr: 5.00e-03, epoch: 6.91e+00, step: 1.08e+03\n",
      "energy_mae: 2.66e+00, energy_mse: 1.03e+01, energy_within_threshold: 3.12e-02, loss: 2.66e+00, lr: 5.00e-03, epoch: 6.94e+00, step: 1.09e+03\n",
      "energy_mae: 3.17e+00, energy_mse: 1.32e+01, energy_within_threshold: 0.00e+00, loss: 3.17e+00, lr: 5.00e-03, epoch: 6.97e+00, step: 1.10e+03\n",
      "2021-12-17 15:25:00 (INFO): Evaluating on val.\n"
     ]
    },
    {
     "name": "stderr",
     "output_type": "stream",
     "text": [
      "device 0: 100%|███████████████████████████████| 157/157 [02:01<00:00,  1.29it/s]"
     ]
    },
    {
     "name": "stdout",
     "output_type": "stream",
     "text": [
      "2021-12-17 15:27:02 (INFO): energy_mae: 2.1059, energy_mse: 7.4667, energy_within_threshold: 0.0052, loss: 2.1071, epoch: 7.0000\n"
     ]
    },
    {
     "name": "stderr",
     "output_type": "stream",
     "text": [
      "\n"
     ]
    },
    {
     "name": "stdout",
     "output_type": "stream",
     "text": [
      "energy_mae: 2.32e+00, energy_mse: 8.01e+00, energy_within_threshold: 0.00e+00, loss: 2.32e+00, lr: 5.00e-03, epoch: 7.01e+00, step: 1.10e+03\n",
      "energy_mae: 2.20e+00, energy_mse: 6.49e+00, energy_within_threshold: 0.00e+00, loss: 2.20e+00, lr: 5.00e-03, epoch: 7.04e+00, step: 1.10e+03\n",
      "energy_mae: 1.33e+00, energy_mse: 3.22e+00, energy_within_threshold: 0.00e+00, loss: 1.33e+00, lr: 5.00e-03, epoch: 7.07e+00, step: 1.11e+03\n",
      "energy_mae: 1.17e+00, energy_mse: 2.30e+00, energy_within_threshold: 0.00e+00, loss: 1.17e+00, lr: 5.00e-03, epoch: 7.10e+00, step: 1.12e+03\n",
      "energy_mae: 1.31e+00, energy_mse: 3.07e+00, energy_within_threshold: 0.00e+00, loss: 1.31e+00, lr: 5.00e-03, epoch: 7.13e+00, step: 1.12e+03\n",
      "energy_mae: 3.11e+00, energy_mse: 1.34e+01, energy_within_threshold: 0.00e+00, loss: 3.11e+00, lr: 5.00e-03, epoch: 7.17e+00, step: 1.12e+03\n",
      "energy_mae: 1.91e+00, energy_mse: 6.29e+00, energy_within_threshold: 0.00e+00, loss: 1.91e+00, lr: 5.00e-03, epoch: 7.20e+00, step: 1.13e+03\n",
      "energy_mae: 1.35e+00, energy_mse: 2.86e+00, energy_within_threshold: 0.00e+00, loss: 1.35e+00, lr: 5.00e-03, epoch: 7.23e+00, step: 1.14e+03\n",
      "energy_mae: 1.45e+00, energy_mse: 3.94e+00, energy_within_threshold: 0.00e+00, loss: 1.45e+00, lr: 5.00e-03, epoch: 7.26e+00, step: 1.14e+03\n",
      "energy_mae: 1.78e+00, energy_mse: 5.66e+00, energy_within_threshold: 1.56e-02, loss: 1.78e+00, lr: 5.00e-03, epoch: 7.29e+00, step: 1.14e+03\n",
      "energy_mae: 1.51e+00, energy_mse: 3.70e+00, energy_within_threshold: 3.12e-02, loss: 1.51e+00, lr: 5.00e-03, epoch: 7.32e+00, step: 1.15e+03\n",
      "energy_mae: 1.40e+00, energy_mse: 3.69e+00, energy_within_threshold: 0.00e+00, loss: 1.40e+00, lr: 5.00e-03, epoch: 7.36e+00, step: 1.16e+03\n",
      "energy_mae: 1.18e+00, energy_mse: 2.49e+00, energy_within_threshold: 3.12e-02, loss: 1.18e+00, lr: 5.00e-03, epoch: 7.39e+00, step: 1.16e+03\n",
      "energy_mae: 1.19e+00, energy_mse: 2.84e+00, energy_within_threshold: 3.12e-02, loss: 1.19e+00, lr: 5.00e-03, epoch: 7.42e+00, step: 1.16e+03\n",
      "energy_mae: 1.18e+00, energy_mse: 2.15e+00, energy_within_threshold: 3.12e-02, loss: 1.18e+00, lr: 5.00e-03, epoch: 7.45e+00, step: 1.17e+03\n",
      "energy_mae: 1.09e+00, energy_mse: 1.95e+00, energy_within_threshold: 0.00e+00, loss: 1.09e+00, lr: 5.00e-03, epoch: 7.48e+00, step: 1.18e+03\n",
      "energy_mae: 1.69e+00, energy_mse: 6.72e+00, energy_within_threshold: 1.56e-02, loss: 1.69e+00, lr: 5.00e-03, epoch: 7.52e+00, step: 1.18e+03\n",
      "energy_mae: 1.48e+00, energy_mse: 3.75e+00, energy_within_threshold: 0.00e+00, loss: 1.48e+00, lr: 5.00e-03, epoch: 7.55e+00, step: 1.18e+03\n",
      "energy_mae: 2.02e+00, energy_mse: 9.96e+00, energy_within_threshold: 0.00e+00, loss: 2.02e+00, lr: 5.00e-03, epoch: 7.58e+00, step: 1.19e+03\n",
      "energy_mae: 1.71e+00, energy_mse: 4.61e+00, energy_within_threshold: 3.12e-02, loss: 1.71e+00, lr: 5.00e-03, epoch: 7.61e+00, step: 1.20e+03\n",
      "energy_mae: 1.70e+00, energy_mse: 4.99e+00, energy_within_threshold: 0.00e+00, loss: 1.70e+00, lr: 5.00e-03, epoch: 7.64e+00, step: 1.20e+03\n",
      "energy_mae: 1.63e+00, energy_mse: 4.24e+00, energy_within_threshold: 0.00e+00, loss: 1.63e+00, lr: 5.00e-03, epoch: 7.68e+00, step: 1.20e+03\n",
      "energy_mae: 1.30e+00, energy_mse: 2.54e+00, energy_within_threshold: 1.56e-02, loss: 1.30e+00, lr: 5.00e-03, epoch: 7.71e+00, step: 1.21e+03\n",
      "energy_mae: 1.21e+00, energy_mse: 2.45e+00, energy_within_threshold: 0.00e+00, loss: 1.21e+00, lr: 5.00e-03, epoch: 7.74e+00, step: 1.22e+03\n",
      "energy_mae: 1.33e+00, energy_mse: 3.21e+00, energy_within_threshold: 0.00e+00, loss: 1.33e+00, lr: 5.00e-03, epoch: 7.77e+00, step: 1.22e+03\n",
      "energy_mae: 1.19e+00, energy_mse: 2.81e+00, energy_within_threshold: 1.56e-02, loss: 1.19e+00, lr: 5.00e-03, epoch: 7.80e+00, step: 1.22e+03\n",
      "energy_mae: 1.06e+00, energy_mse: 1.95e+00, energy_within_threshold: 4.69e-02, loss: 1.06e+00, lr: 5.00e-03, epoch: 7.83e+00, step: 1.23e+03\n",
      "energy_mae: 1.34e+00, energy_mse: 2.75e+00, energy_within_threshold: 1.56e-02, loss: 1.34e+00, lr: 5.00e-03, epoch: 7.87e+00, step: 1.24e+03\n",
      "energy_mae: 1.08e+00, energy_mse: 1.72e+00, energy_within_threshold: 0.00e+00, loss: 1.08e+00, lr: 5.00e-03, epoch: 7.90e+00, step: 1.24e+03\n",
      "energy_mae: 1.20e+00, energy_mse: 2.66e+00, energy_within_threshold: 0.00e+00, loss: 1.20e+00, lr: 5.00e-03, epoch: 7.93e+00, step: 1.24e+03\n",
      "energy_mae: 1.45e+00, energy_mse: 3.22e+00, energy_within_threshold: 0.00e+00, loss: 1.45e+00, lr: 5.00e-03, epoch: 7.96e+00, step: 1.25e+03\n",
      "energy_mae: 1.03e+00, energy_mse: 1.68e+00, energy_within_threshold: 3.12e-02, loss: 1.03e+00, lr: 5.00e-03, epoch: 7.99e+00, step: 1.26e+03\n",
      "2021-12-17 15:31:18 (INFO): Evaluating on val.\n"
     ]
    },
    {
     "name": "stderr",
     "output_type": "stream",
     "text": [
      "device 0: 100%|███████████████████████████████| 157/157 [01:58<00:00,  1.33it/s]"
     ]
    },
    {
     "name": "stdout",
     "output_type": "stream",
     "text": [
      "2021-12-17 15:33:16 (INFO): energy_mae: 1.4027, energy_mse: 3.5025, energy_within_threshold: 0.0106, loss: 1.4037, epoch: 8.0000\n",
      "2021-12-17 15:33:16 (INFO): Predicting on test.\n"
     ]
    },
    {
     "name": "stderr",
     "output_type": "stream",
     "text": [
      "\n",
      "device 0: 100%|███████████████████████████████| 157/157 [01:58<00:00,  1.33it/s]\n"
     ]
    },
    {
     "name": "stdout",
     "output_type": "stream",
     "text": [
      "2021-12-17 15:35:15 (INFO): Writing results to ./results/2021-12-17-14-33-20-SchNet-example/is2re_predictions.npz\n",
      "energy_mae: 1.59e+00, energy_mse: 5.64e+00, energy_within_threshold: 1.56e-02, loss: 1.59e+00, lr: 5.00e-03, epoch: 8.03e+00, step: 1.26e+03\n",
      "energy_mae: 1.21e+00, energy_mse: 2.59e+00, energy_within_threshold: 0.00e+00, loss: 1.21e+00, lr: 5.00e-03, epoch: 8.06e+00, step: 1.26e+03\n",
      "energy_mae: 1.36e+00, energy_mse: 3.66e+00, energy_within_threshold: 0.00e+00, loss: 1.36e+00, lr: 5.00e-03, epoch: 8.09e+00, step: 1.27e+03\n",
      "energy_mae: 1.25e+00, energy_mse: 4.47e+00, energy_within_threshold: 3.12e-02, loss: 1.25e+00, lr: 5.00e-03, epoch: 8.12e+00, step: 1.28e+03\n",
      "energy_mae: 1.60e+00, energy_mse: 3.95e+00, energy_within_threshold: 0.00e+00, loss: 1.60e+00, lr: 5.00e-03, epoch: 8.15e+00, step: 1.28e+03\n",
      "energy_mae: 1.32e+00, energy_mse: 3.01e+00, energy_within_threshold: 0.00e+00, loss: 1.32e+00, lr: 5.00e-03, epoch: 8.18e+00, step: 1.28e+03\n",
      "energy_mae: 1.34e+00, energy_mse: 2.94e+00, energy_within_threshold: 3.12e-02, loss: 1.34e+00, lr: 5.00e-03, epoch: 8.22e+00, step: 1.29e+03\n",
      "energy_mae: 1.33e+00, energy_mse: 3.47e+00, energy_within_threshold: 0.00e+00, loss: 1.33e+00, lr: 5.00e-03, epoch: 8.25e+00, step: 1.30e+03\n",
      "energy_mae: 1.17e+00, energy_mse: 2.23e+00, energy_within_threshold: 3.12e-02, loss: 1.17e+00, lr: 5.00e-03, epoch: 8.28e+00, step: 1.30e+03\n",
      "energy_mae: 1.63e+00, energy_mse: 6.01e+00, energy_within_threshold: 0.00e+00, loss: 1.63e+00, lr: 5.00e-03, epoch: 8.31e+00, step: 1.30e+03\n",
      "energy_mae: 1.46e+00, energy_mse: 3.35e+00, energy_within_threshold: 0.00e+00, loss: 1.46e+00, lr: 5.00e-03, epoch: 8.34e+00, step: 1.31e+03\n",
      "energy_mae: 1.42e+00, energy_mse: 3.77e+00, energy_within_threshold: 0.00e+00, loss: 1.42e+00, lr: 5.00e-03, epoch: 8.38e+00, step: 1.32e+03\n",
      "energy_mae: 1.50e+00, energy_mse: 3.36e+00, energy_within_threshold: 0.00e+00, loss: 1.50e+00, lr: 5.00e-03, epoch: 8.41e+00, step: 1.32e+03\n",
      "energy_mae: 1.59e+00, energy_mse: 4.07e+00, energy_within_threshold: 0.00e+00, loss: 1.59e+00, lr: 5.00e-03, epoch: 8.44e+00, step: 1.32e+03\n",
      "energy_mae: 1.72e+00, energy_mse: 6.17e+00, energy_within_threshold: 0.00e+00, loss: 1.72e+00, lr: 5.00e-03, epoch: 8.47e+00, step: 1.33e+03\n",
      "energy_mae: 1.34e+00, energy_mse: 3.07e+00, energy_within_threshold: 0.00e+00, loss: 1.34e+00, lr: 5.00e-03, epoch: 8.50e+00, step: 1.34e+03\n",
      "energy_mae: 1.56e+00, energy_mse: 3.76e+00, energy_within_threshold: 0.00e+00, loss: 1.56e+00, lr: 5.00e-03, epoch: 8.54e+00, step: 1.34e+03\n",
      "energy_mae: 1.19e+00, energy_mse: 2.23e+00, energy_within_threshold: 1.56e-02, loss: 1.19e+00, lr: 5.00e-03, epoch: 8.57e+00, step: 1.34e+03\n",
      "energy_mae: 1.51e+00, energy_mse: 3.67e+00, energy_within_threshold: 0.00e+00, loss: 1.51e+00, lr: 5.00e-03, epoch: 8.60e+00, step: 1.35e+03\n",
      "energy_mae: 1.31e+00, energy_mse: 3.06e+00, energy_within_threshold: 1.56e-02, loss: 1.31e+00, lr: 5.00e-03, epoch: 8.63e+00, step: 1.36e+03\n",
      "energy_mae: 1.30e+00, energy_mse: 2.63e+00, energy_within_threshold: 0.00e+00, loss: 1.30e+00, lr: 5.00e-03, epoch: 8.66e+00, step: 1.36e+03\n",
      "energy_mae: 1.05e+00, energy_mse: 1.97e+00, energy_within_threshold: 1.56e-02, loss: 1.05e+00, lr: 5.00e-03, epoch: 8.69e+00, step: 1.36e+03\n",
      "energy_mae: 2.15e+00, energy_mse: 7.19e+00, energy_within_threshold: 0.00e+00, loss: 2.15e+00, lr: 5.00e-03, epoch: 8.73e+00, step: 1.37e+03\n",
      "energy_mae: 2.02e+00, energy_mse: 6.05e+00, energy_within_threshold: 1.56e-02, loss: 2.02e+00, lr: 5.00e-03, epoch: 8.76e+00, step: 1.38e+03\n",
      "energy_mae: 1.46e+00, energy_mse: 3.45e+00, energy_within_threshold: 0.00e+00, loss: 1.46e+00, lr: 5.00e-03, epoch: 8.79e+00, step: 1.38e+03\n",
      "energy_mae: 1.39e+00, energy_mse: 5.66e+00, energy_within_threshold: 0.00e+00, loss: 1.39e+00, lr: 5.00e-03, epoch: 8.82e+00, step: 1.38e+03\n",
      "energy_mae: 2.12e+00, energy_mse: 7.78e+00, energy_within_threshold: 0.00e+00, loss: 2.12e+00, lr: 5.00e-03, epoch: 8.85e+00, step: 1.39e+03\n",
      "energy_mae: 1.42e+00, energy_mse: 3.72e+00, energy_within_threshold: 1.56e-02, loss: 1.42e+00, lr: 5.00e-03, epoch: 8.89e+00, step: 1.40e+03\n",
      "energy_mae: 1.24e+00, energy_mse: 2.76e+00, energy_within_threshold: 0.00e+00, loss: 1.24e+00, lr: 5.00e-03, epoch: 8.92e+00, step: 1.40e+03\n",
      "energy_mae: 1.48e+00, energy_mse: 3.41e+00, energy_within_threshold: 0.00e+00, loss: 1.48e+00, lr: 5.00e-03, epoch: 8.95e+00, step: 1.40e+03\n",
      "energy_mae: 1.15e+00, energy_mse: 2.37e+00, energy_within_threshold: 0.00e+00, loss: 1.15e+00, lr: 5.00e-03, epoch: 8.98e+00, step: 1.41e+03\n",
      "2021-12-17 15:39:14 (INFO): Evaluating on val.\n"
     ]
    },
    {
     "name": "stderr",
     "output_type": "stream",
     "text": [
      "device 0: 100%|███████████████████████████████| 157/157 [02:02<00:00,  1.28it/s]"
     ]
    },
    {
     "name": "stdout",
     "output_type": "stream",
     "text": [
      "2021-12-17 15:41:17 (INFO): energy_mae: 1.4400, energy_mse: 3.5110, energy_within_threshold: 0.0090, loss: 1.4379, epoch: 9.0000\n"
     ]
    },
    {
     "name": "stderr",
     "output_type": "stream",
     "text": [
      "\n"
     ]
    },
    {
     "name": "stdout",
     "output_type": "stream",
     "text": [
      "energy_mae: 1.70e+00, energy_mse: 4.58e+00, energy_within_threshold: 0.00e+00, loss: 1.70e+00, lr: 5.00e-03, epoch: 9.01e+00, step: 1.42e+03\n",
      "energy_mae: 1.62e+00, energy_mse: 4.16e+00, energy_within_threshold: 0.00e+00, loss: 1.62e+00, lr: 5.00e-03, epoch: 9.04e+00, step: 1.42e+03\n",
      "energy_mae: 1.38e+00, energy_mse: 2.74e+00, energy_within_threshold: 0.00e+00, loss: 1.38e+00, lr: 5.00e-03, epoch: 9.08e+00, step: 1.42e+03\n",
      "energy_mae: 1.17e+00, energy_mse: 2.25e+00, energy_within_threshold: 1.56e-02, loss: 1.17e+00, lr: 5.00e-03, epoch: 9.11e+00, step: 1.43e+03\n",
      "energy_mae: 1.26e+00, energy_mse: 2.85e+00, energy_within_threshold: 0.00e+00, loss: 1.26e+00, lr: 5.00e-03, epoch: 9.14e+00, step: 1.44e+03\n",
      "energy_mae: 1.47e+00, energy_mse: 3.50e+00, energy_within_threshold: 0.00e+00, loss: 1.47e+00, lr: 5.00e-03, epoch: 9.17e+00, step: 1.44e+03\n",
      "energy_mae: 9.68e-01, energy_mse: 1.45e+00, energy_within_threshold: 0.00e+00, loss: 9.68e-01, lr: 5.00e-03, epoch: 9.20e+00, step: 1.44e+03\n",
      "energy_mae: 1.61e+00, energy_mse: 6.11e+00, energy_within_threshold: 3.12e-02, loss: 1.61e+00, lr: 5.00e-03, epoch: 9.24e+00, step: 1.45e+03\n",
      "energy_mae: 1.45e+00, energy_mse: 5.03e+00, energy_within_threshold: 3.12e-02, loss: 1.45e+00, lr: 5.00e-03, epoch: 9.27e+00, step: 1.46e+03\n",
      "energy_mae: 1.94e+00, energy_mse: 6.24e+00, energy_within_threshold: 1.56e-02, loss: 1.94e+00, lr: 5.00e-03, epoch: 9.30e+00, step: 1.46e+03\n",
      "energy_mae: 1.50e+00, energy_mse: 4.09e+00, energy_within_threshold: 0.00e+00, loss: 1.50e+00, lr: 5.00e-03, epoch: 9.33e+00, step: 1.46e+03\n",
      "energy_mae: 2.54e+00, energy_mse: 8.95e+00, energy_within_threshold: 0.00e+00, loss: 2.54e+00, lr: 5.00e-03, epoch: 9.36e+00, step: 1.47e+03\n",
      "energy_mae: 1.23e+00, energy_mse: 2.49e+00, energy_within_threshold: 0.00e+00, loss: 1.23e+00, lr: 5.00e-03, epoch: 9.39e+00, step: 1.48e+03\n",
      "energy_mae: 1.70e+00, energy_mse: 5.71e+00, energy_within_threshold: 0.00e+00, loss: 1.70e+00, lr: 5.00e-03, epoch: 9.43e+00, step: 1.48e+03\n",
      "energy_mae: 1.91e+00, energy_mse: 5.59e+00, energy_within_threshold: 1.56e-02, loss: 1.91e+00, lr: 5.00e-03, epoch: 9.46e+00, step: 1.48e+03\n",
      "energy_mae: 2.05e+00, energy_mse: 7.56e+00, energy_within_threshold: 0.00e+00, loss: 2.05e+00, lr: 5.00e-03, epoch: 9.49e+00, step: 1.49e+03\n",
      "energy_mae: 1.35e+00, energy_mse: 2.96e+00, energy_within_threshold: 1.56e-02, loss: 1.35e+00, lr: 5.00e-03, epoch: 9.52e+00, step: 1.50e+03\n",
      "energy_mae: 1.12e+00, energy_mse: 1.97e+00, energy_within_threshold: 0.00e+00, loss: 1.12e+00, lr: 5.00e-03, epoch: 9.55e+00, step: 1.50e+03\n",
      "energy_mae: 1.24e+00, energy_mse: 2.94e+00, energy_within_threshold: 0.00e+00, loss: 1.24e+00, lr: 5.00e-03, epoch: 9.59e+00, step: 1.50e+03\n",
      "energy_mae: 1.08e+00, energy_mse: 1.88e+00, energy_within_threshold: 0.00e+00, loss: 1.08e+00, lr: 5.00e-03, epoch: 9.62e+00, step: 1.51e+03\n",
      "energy_mae: 1.32e+00, energy_mse: 2.94e+00, energy_within_threshold: 0.00e+00, loss: 1.32e+00, lr: 5.00e-03, epoch: 9.65e+00, step: 1.52e+03\n",
      "energy_mae: 1.09e+00, energy_mse: 2.04e+00, energy_within_threshold: 4.69e-02, loss: 1.09e+00, lr: 5.00e-03, epoch: 9.68e+00, step: 1.52e+03\n",
      "energy_mae: 1.81e+00, energy_mse: 5.25e+00, energy_within_threshold: 1.56e-02, loss: 1.81e+00, lr: 5.00e-03, epoch: 9.71e+00, step: 1.52e+03\n",
      "energy_mae: 1.41e+00, energy_mse: 3.32e+00, energy_within_threshold: 1.56e-02, loss: 1.41e+00, lr: 5.00e-03, epoch: 9.75e+00, step: 1.53e+03\n",
      "energy_mae: 1.27e+00, energy_mse: 2.35e+00, energy_within_threshold: 0.00e+00, loss: 1.27e+00, lr: 5.00e-03, epoch: 9.78e+00, step: 1.54e+03\n",
      "energy_mae: 1.34e+00, energy_mse: 3.20e+00, energy_within_threshold: 1.56e-02, loss: 1.34e+00, lr: 5.00e-03, epoch: 9.81e+00, step: 1.54e+03\n",
      "energy_mae: 1.41e+00, energy_mse: 3.49e+00, energy_within_threshold: 0.00e+00, loss: 1.41e+00, lr: 5.00e-03, epoch: 9.84e+00, step: 1.54e+03\n",
      "energy_mae: 1.27e+00, energy_mse: 2.74e+00, energy_within_threshold: 0.00e+00, loss: 1.27e+00, lr: 5.00e-03, epoch: 9.87e+00, step: 1.55e+03\n",
      "energy_mae: 1.06e+00, energy_mse: 2.57e+00, energy_within_threshold: 1.56e-02, loss: 1.06e+00, lr: 5.00e-03, epoch: 9.90e+00, step: 1.56e+03\n",
      "energy_mae: 1.11e+00, energy_mse: 2.28e+00, energy_within_threshold: 0.00e+00, loss: 1.11e+00, lr: 5.00e-03, epoch: 9.94e+00, step: 1.56e+03\n",
      "energy_mae: 1.03e+00, energy_mse: 2.04e+00, energy_within_threshold: 0.00e+00, loss: 1.03e+00, lr: 5.00e-04, epoch: 9.97e+00, step: 1.56e+03\n",
      "energy_mae: 1.78e+00, energy_mse: 6.53e+00, energy_within_threshold: 0.00e+00, loss: 1.78e+00, lr: 5.00e-04, epoch: 1.00e+01, step: 1.57e+03\n",
      "2021-12-17 15:45:20 (INFO): Evaluating on val.\n"
     ]
    },
    {
     "name": "stderr",
     "output_type": "stream",
     "text": [
      "device 0: 100%|███████████████████████████████| 157/157 [01:59<00:00,  1.31it/s]"
     ]
    },
    {
     "name": "stdout",
     "output_type": "stream",
     "text": [
      "2021-12-17 15:47:19 (INFO): energy_mae: 1.0967, energy_mse: 2.4890, energy_within_threshold: 0.0158, loss: 1.0962, epoch: 10.0000\n",
      "2021-12-17 15:47:19 (INFO): Predicting on test.\n"
     ]
    },
    {
     "name": "stderr",
     "output_type": "stream",
     "text": [
      "\n",
      "device 0: 100%|███████████████████████████████| 157/157 [02:00<00:00,  1.30it/s]\n"
     ]
    },
    {
     "name": "stdout",
     "output_type": "stream",
     "text": [
      "2021-12-17 15:49:20 (INFO): Writing results to ./results/2021-12-17-14-33-20-SchNet-example/is2re_predictions.npz\n",
      "energy_mae: 1.13e+00, energy_mse: 2.49e+00, energy_within_threshold: 0.00e+00, loss: 1.13e+00, lr: 5.00e-04, epoch: 1.00e+01, step: 1.58e+03\n",
      "energy_mae: 1.05e+00, energy_mse: 2.21e+00, energy_within_threshold: 3.12e-02, loss: 1.05e+00, lr: 5.00e-04, epoch: 1.01e+01, step: 1.58e+03\n",
      "energy_mae: 9.79e-01, energy_mse: 2.02e+00, energy_within_threshold: 3.12e-02, loss: 9.79e-01, lr: 5.00e-04, epoch: 1.01e+01, step: 1.58e+03\n",
      "energy_mae: 9.29e-01, energy_mse: 1.61e+00, energy_within_threshold: 1.56e-02, loss: 9.29e-01, lr: 5.00e-04, epoch: 1.01e+01, step: 1.59e+03\n",
      "energy_mae: 9.59e-01, energy_mse: 1.79e+00, energy_within_threshold: 3.12e-02, loss: 9.59e-01, lr: 5.00e-04, epoch: 1.02e+01, step: 1.60e+03\n",
      "energy_mae: 1.03e+00, energy_mse: 2.82e+00, energy_within_threshold: 0.00e+00, loss: 1.03e+00, lr: 5.00e-04, epoch: 1.02e+01, step: 1.60e+03\n",
      "energy_mae: 7.88e-01, energy_mse: 1.04e+00, energy_within_threshold: 0.00e+00, loss: 7.88e-01, lr: 5.00e-04, epoch: 1.02e+01, step: 1.60e+03\n",
      "energy_mae: 8.91e-01, energy_mse: 1.69e+00, energy_within_threshold: 3.12e-02, loss: 8.91e-01, lr: 5.00e-04, epoch: 1.03e+01, step: 1.61e+03\n",
      "energy_mae: 1.03e+00, energy_mse: 2.12e+00, energy_within_threshold: 0.00e+00, loss: 1.03e+00, lr: 5.00e-04, epoch: 1.03e+01, step: 1.62e+03\n",
      "energy_mae: 1.29e+00, energy_mse: 4.28e+00, energy_within_threshold: 1.56e-02, loss: 1.29e+00, lr: 5.00e-04, epoch: 1.03e+01, step: 1.62e+03\n",
      "energy_mae: 1.02e+00, energy_mse: 2.74e+00, energy_within_threshold: 1.56e-02, loss: 1.02e+00, lr: 5.00e-04, epoch: 1.04e+01, step: 1.62e+03\n",
      "energy_mae: 9.70e-01, energy_mse: 1.71e+00, energy_within_threshold: 0.00e+00, loss: 9.70e-01, lr: 5.00e-04, epoch: 1.04e+01, step: 1.63e+03\n",
      "energy_mae: 9.88e-01, energy_mse: 2.43e+00, energy_within_threshold: 3.12e-02, loss: 9.88e-01, lr: 5.00e-04, epoch: 1.04e+01, step: 1.64e+03\n",
      "energy_mae: 1.06e+00, energy_mse: 2.35e+00, energy_within_threshold: 1.56e-02, loss: 1.06e+00, lr: 5.00e-04, epoch: 1.04e+01, step: 1.64e+03\n",
      "energy_mae: 7.94e-01, energy_mse: 1.23e+00, energy_within_threshold: 1.56e-02, loss: 7.94e-01, lr: 5.00e-04, epoch: 1.05e+01, step: 1.64e+03\n",
      "energy_mae: 9.25e-01, energy_mse: 1.92e+00, energy_within_threshold: 4.69e-02, loss: 9.25e-01, lr: 5.00e-04, epoch: 1.05e+01, step: 1.65e+03\n",
      "energy_mae: 1.07e+00, energy_mse: 2.20e+00, energy_within_threshold: 0.00e+00, loss: 1.07e+00, lr: 5.00e-04, epoch: 1.05e+01, step: 1.66e+03\n",
      "energy_mae: 9.46e-01, energy_mse: 1.46e+00, energy_within_threshold: 0.00e+00, loss: 9.46e-01, lr: 5.00e-04, epoch: 1.06e+01, step: 1.66e+03\n",
      "energy_mae: 9.92e-01, energy_mse: 1.80e+00, energy_within_threshold: 1.56e-02, loss: 9.92e-01, lr: 5.00e-04, epoch: 1.06e+01, step: 1.66e+03\n",
      "energy_mae: 8.43e-01, energy_mse: 1.54e+00, energy_within_threshold: 0.00e+00, loss: 8.43e-01, lr: 5.00e-04, epoch: 1.06e+01, step: 1.67e+03\n",
      "energy_mae: 8.95e-01, energy_mse: 1.59e+00, energy_within_threshold: 3.12e-02, loss: 8.95e-01, lr: 5.00e-04, epoch: 1.07e+01, step: 1.68e+03\n",
      "energy_mae: 1.09e+00, energy_mse: 2.65e+00, energy_within_threshold: 0.00e+00, loss: 1.09e+00, lr: 5.00e-04, epoch: 1.07e+01, step: 1.68e+03\n",
      "energy_mae: 9.34e-01, energy_mse: 1.58e+00, energy_within_threshold: 0.00e+00, loss: 9.34e-01, lr: 5.00e-04, epoch: 1.07e+01, step: 1.68e+03\n",
      "energy_mae: 9.06e-01, energy_mse: 1.71e+00, energy_within_threshold: 1.56e-02, loss: 9.06e-01, lr: 5.00e-04, epoch: 1.08e+01, step: 1.69e+03\n",
      "energy_mae: 1.06e+00, energy_mse: 2.24e+00, energy_within_threshold: 1.56e-02, loss: 1.06e+00, lr: 5.00e-04, epoch: 1.08e+01, step: 1.70e+03\n",
      "energy_mae: 1.14e+00, energy_mse: 2.67e+00, energy_within_threshold: 1.56e-02, loss: 1.14e+00, lr: 5.00e-04, epoch: 1.08e+01, step: 1.70e+03\n",
      "energy_mae: 8.13e-01, energy_mse: 1.42e+00, energy_within_threshold: 1.56e-02, loss: 8.13e-01, lr: 5.00e-04, epoch: 1.09e+01, step: 1.70e+03\n",
      "energy_mae: 9.47e-01, energy_mse: 1.40e+00, energy_within_threshold: 0.00e+00, loss: 9.47e-01, lr: 5.00e-04, epoch: 1.09e+01, step: 1.71e+03\n",
      "energy_mae: 8.52e-01, energy_mse: 1.32e+00, energy_within_threshold: 1.56e-02, loss: 8.52e-01, lr: 5.00e-04, epoch: 1.09e+01, step: 1.72e+03\n",
      "energy_mae: 8.61e-01, energy_mse: 1.24e+00, energy_within_threshold: 1.56e-02, loss: 8.61e-01, lr: 5.00e-04, epoch: 1.10e+01, step: 1.72e+03\n",
      "energy_mae: 9.74e-01, energy_mse: 1.50e+00, energy_within_threshold: 0.00e+00, loss: 9.74e-01, lr: 5.00e-04, epoch: 1.10e+01, step: 1.72e+03\n",
      "2021-12-17 15:53:16 (INFO): Evaluating on val.\n"
     ]
    },
    {
     "name": "stderr",
     "output_type": "stream",
     "text": [
      "device 0: 100%|███████████████████████████████| 157/157 [02:05<00:00,  1.25it/s]"
     ]
    },
    {
     "name": "stdout",
     "output_type": "stream",
     "text": [
      "2021-12-17 15:55:21 (INFO): energy_mae: 0.9519, energy_mse: 1.9654, energy_within_threshold: 0.0158, loss: 0.9512, epoch: 11.0000\n",
      "2021-12-17 15:55:21 (INFO): Predicting on test.\n"
     ]
    },
    {
     "name": "stderr",
     "output_type": "stream",
     "text": [
      "\n",
      "device 0: 100%|███████████████████████████████| 157/157 [02:06<00:00,  1.24it/s]"
     ]
    },
    {
     "name": "stdout",
     "output_type": "stream",
     "text": [
      "2021-12-17 15:57:28 (INFO): Writing results to ./results/2021-12-17-14-33-20-SchNet-example/is2re_predictions.npz\n"
     ]
    },
    {
     "name": "stderr",
     "output_type": "stream",
     "text": [
      "\n"
     ]
    },
    {
     "name": "stdout",
     "output_type": "stream",
     "text": [
      "energy_mae: 9.06e-01, energy_mse: 1.34e+00, energy_within_threshold: 1.56e-02, loss: 9.06e-01, lr: 5.00e-04, epoch: 1.10e+01, step: 1.73e+03\n",
      "energy_mae: 1.01e+00, energy_mse: 2.67e+00, energy_within_threshold: 1.56e-02, loss: 1.01e+00, lr: 5.00e-04, epoch: 1.11e+01, step: 1.74e+03\n",
      "energy_mae: 1.11e+00, energy_mse: 2.53e+00, energy_within_threshold: 0.00e+00, loss: 1.11e+00, lr: 5.00e-04, epoch: 1.11e+01, step: 1.74e+03\n",
      "energy_mae: 8.84e-01, energy_mse: 1.98e+00, energy_within_threshold: 0.00e+00, loss: 8.84e-01, lr: 5.00e-04, epoch: 1.11e+01, step: 1.74e+03\n",
      "energy_mae: 8.62e-01, energy_mse: 1.17e+00, energy_within_threshold: 1.56e-02, loss: 8.62e-01, lr: 5.00e-04, epoch: 1.11e+01, step: 1.75e+03\n",
      "energy_mae: 1.01e+00, energy_mse: 2.00e+00, energy_within_threshold: 0.00e+00, loss: 1.01e+00, lr: 5.00e-04, epoch: 1.12e+01, step: 1.76e+03\n",
      "energy_mae: 8.83e-01, energy_mse: 1.30e+00, energy_within_threshold: 0.00e+00, loss: 8.83e-01, lr: 5.00e-04, epoch: 1.12e+01, step: 1.76e+03\n",
      "energy_mae: 1.27e+00, energy_mse: 2.79e+00, energy_within_threshold: 1.56e-02, loss: 1.27e+00, lr: 5.00e-04, epoch: 1.12e+01, step: 1.76e+03\n",
      "energy_mae: 1.07e+00, energy_mse: 2.12e+00, energy_within_threshold: 1.56e-02, loss: 1.07e+00, lr: 5.00e-04, epoch: 1.13e+01, step: 1.77e+03\n",
      "energy_mae: 1.05e+00, energy_mse: 2.24e+00, energy_within_threshold: 0.00e+00, loss: 1.05e+00, lr: 5.00e-04, epoch: 1.13e+01, step: 1.78e+03\n",
      "energy_mae: 8.68e-01, energy_mse: 1.29e+00, energy_within_threshold: 3.12e-02, loss: 8.68e-01, lr: 5.00e-04, epoch: 1.13e+01, step: 1.78e+03\n",
      "energy_mae: 8.47e-01, energy_mse: 1.12e+00, energy_within_threshold: 0.00e+00, loss: 8.47e-01, lr: 5.00e-04, epoch: 1.14e+01, step: 1.78e+03\n",
      "energy_mae: 1.04e+00, energy_mse: 4.24e+00, energy_within_threshold: 3.12e-02, loss: 1.04e+00, lr: 5.00e-04, epoch: 1.14e+01, step: 1.79e+03\n",
      "energy_mae: 9.84e-01, energy_mse: 1.74e+00, energy_within_threshold: 0.00e+00, loss: 9.84e-01, lr: 5.00e-04, epoch: 1.14e+01, step: 1.80e+03\n",
      "energy_mae: 9.42e-01, energy_mse: 1.47e+00, energy_within_threshold: 0.00e+00, loss: 9.42e-01, lr: 5.00e-04, epoch: 1.15e+01, step: 1.80e+03\n",
      "energy_mae: 9.96e-01, energy_mse: 1.65e+00, energy_within_threshold: 0.00e+00, loss: 9.96e-01, lr: 5.00e-04, epoch: 1.15e+01, step: 1.80e+03\n",
      "energy_mae: 1.02e+00, energy_mse: 2.14e+00, energy_within_threshold: 1.56e-02, loss: 1.02e+00, lr: 5.00e-04, epoch: 1.15e+01, step: 1.81e+03\n",
      "energy_mae: 1.19e+00, energy_mse: 2.50e+00, energy_within_threshold: 0.00e+00, loss: 1.19e+00, lr: 5.00e-04, epoch: 1.16e+01, step: 1.82e+03\n",
      "energy_mae: 8.85e-01, energy_mse: 1.50e+00, energy_within_threshold: 3.12e-02, loss: 8.85e-01, lr: 5.00e-04, epoch: 1.16e+01, step: 1.82e+03\n",
      "energy_mae: 9.92e-01, energy_mse: 2.27e+00, energy_within_threshold: 0.00e+00, loss: 9.92e-01, lr: 5.00e-04, epoch: 1.16e+01, step: 1.82e+03\n",
      "energy_mae: 8.71e-01, energy_mse: 1.58e+00, energy_within_threshold: 1.56e-02, loss: 8.71e-01, lr: 5.00e-04, epoch: 1.17e+01, step: 1.83e+03\n",
      "energy_mae: 9.93e-01, energy_mse: 1.61e+00, energy_within_threshold: 1.56e-02, loss: 9.93e-01, lr: 5.00e-04, epoch: 1.17e+01, step: 1.84e+03\n",
      "energy_mae: 1.03e+00, energy_mse: 2.14e+00, energy_within_threshold: 3.12e-02, loss: 1.03e+00, lr: 5.00e-04, epoch: 1.17e+01, step: 1.84e+03\n",
      "energy_mae: 8.56e-01, energy_mse: 1.26e+00, energy_within_threshold: 0.00e+00, loss: 8.56e-01, lr: 5.00e-04, epoch: 1.18e+01, step: 1.84e+03\n",
      "energy_mae: 1.12e+00, energy_mse: 2.60e+00, energy_within_threshold: 3.12e-02, loss: 1.12e+00, lr: 5.00e-04, epoch: 1.18e+01, step: 1.85e+03\n",
      "energy_mae: 8.74e-01, energy_mse: 1.40e+00, energy_within_threshold: 0.00e+00, loss: 8.74e-01, lr: 5.00e-04, epoch: 1.18e+01, step: 1.86e+03\n",
      "energy_mae: 1.26e+00, energy_mse: 4.15e+00, energy_within_threshold: 0.00e+00, loss: 1.26e+00, lr: 5.00e-04, epoch: 1.18e+01, step: 1.86e+03\n",
      "energy_mae: 1.11e+00, energy_mse: 2.36e+00, energy_within_threshold: 0.00e+00, loss: 1.11e+00, lr: 5.00e-04, epoch: 1.19e+01, step: 1.86e+03\n",
      "energy_mae: 9.11e-01, energy_mse: 1.83e+00, energy_within_threshold: 3.12e-02, loss: 9.11e-01, lr: 5.00e-04, epoch: 1.19e+01, step: 1.87e+03\n",
      "energy_mae: 7.59e-01, energy_mse: 8.92e-01, energy_within_threshold: 0.00e+00, loss: 7.59e-01, lr: 5.00e-04, epoch: 1.19e+01, step: 1.88e+03\n",
      "energy_mae: 9.24e-01, energy_mse: 1.37e+00, energy_within_threshold: 3.12e-02, loss: 9.24e-01, lr: 5.00e-04, epoch: 1.20e+01, step: 1.88e+03\n",
      "2021-12-17 16:01:31 (INFO): Evaluating on val.\n"
     ]
    },
    {
     "name": "stderr",
     "output_type": "stream",
     "text": [
      "device 0: 100%|███████████████████████████████| 157/157 [01:58<00:00,  1.33it/s]"
     ]
    },
    {
     "name": "stdout",
     "output_type": "stream",
     "text": [
      "2021-12-17 16:03:29 (INFO): energy_mae: 0.9488, energy_mse: 1.9655, energy_within_threshold: 0.0181, loss: 0.9485, epoch: 12.0000\n",
      "2021-12-17 16:03:29 (INFO): Predicting on test.\n"
     ]
    },
    {
     "name": "stderr",
     "output_type": "stream",
     "text": [
      "\n",
      "device 0: 100%|███████████████████████████████| 157/157 [01:58<00:00,  1.33it/s]\n"
     ]
    },
    {
     "name": "stdout",
     "output_type": "stream",
     "text": [
      "2021-12-17 16:05:27 (INFO): Writing results to ./results/2021-12-17-14-33-20-SchNet-example/is2re_predictions.npz\n",
      "energy_mae: 9.19e-01, energy_mse: 2.38e+00, energy_within_threshold: 4.69e-02, loss: 9.19e-01, lr: 5.00e-04, epoch: 1.20e+01, step: 1.88e+03\n",
      "energy_mae: 9.90e-01, energy_mse: 1.69e+00, energy_within_threshold: 0.00e+00, loss: 9.90e-01, lr: 5.00e-04, epoch: 1.20e+01, step: 1.89e+03\n",
      "energy_mae: 8.68e-01, energy_mse: 1.25e+00, energy_within_threshold: 1.56e-02, loss: 8.68e-01, lr: 5.00e-04, epoch: 1.21e+01, step: 1.90e+03\n",
      "energy_mae: 7.95e-01, energy_mse: 1.19e+00, energy_within_threshold: 1.56e-02, loss: 7.95e-01, lr: 5.00e-04, epoch: 1.21e+01, step: 1.90e+03\n",
      "energy_mae: 1.01e+00, energy_mse: 2.00e+00, energy_within_threshold: 0.00e+00, loss: 1.01e+00, lr: 5.00e-04, epoch: 1.21e+01, step: 1.90e+03\n",
      "energy_mae: 8.88e-01, energy_mse: 1.41e+00, energy_within_threshold: 1.56e-02, loss: 8.88e-01, lr: 5.00e-04, epoch: 1.22e+01, step: 1.91e+03\n",
      "energy_mae: 7.83e-01, energy_mse: 1.41e+00, energy_within_threshold: 0.00e+00, loss: 7.83e-01, lr: 5.00e-04, epoch: 1.22e+01, step: 1.92e+03\n",
      "energy_mae: 9.75e-01, energy_mse: 2.00e+00, energy_within_threshold: 1.56e-02, loss: 9.75e-01, lr: 5.00e-04, epoch: 1.22e+01, step: 1.92e+03\n",
      "energy_mae: 9.75e-01, energy_mse: 2.55e+00, energy_within_threshold: 1.56e-02, loss: 9.75e-01, lr: 5.00e-04, epoch: 1.23e+01, step: 1.92e+03\n",
      "energy_mae: 8.27e-01, energy_mse: 1.20e+00, energy_within_threshold: 0.00e+00, loss: 8.27e-01, lr: 5.00e-04, epoch: 1.23e+01, step: 1.93e+03\n",
      "energy_mae: 9.37e-01, energy_mse: 1.46e+00, energy_within_threshold: 1.56e-02, loss: 9.37e-01, lr: 5.00e-04, epoch: 1.23e+01, step: 1.94e+03\n",
      "energy_mae: 9.41e-01, energy_mse: 1.65e+00, energy_within_threshold: 1.56e-02, loss: 9.41e-01, lr: 5.00e-04, epoch: 1.24e+01, step: 1.94e+03\n",
      "energy_mae: 1.11e+00, energy_mse: 2.86e+00, energy_within_threshold: 6.25e-02, loss: 1.11e+00, lr: 5.00e-04, epoch: 1.24e+01, step: 1.94e+03\n",
      "energy_mae: 1.11e+00, energy_mse: 3.43e+00, energy_within_threshold: 1.56e-02, loss: 1.11e+00, lr: 5.00e-04, epoch: 1.24e+01, step: 1.95e+03\n",
      "energy_mae: 1.02e+00, energy_mse: 2.03e+00, energy_within_threshold: 0.00e+00, loss: 1.02e+00, lr: 5.00e-04, epoch: 1.25e+01, step: 1.96e+03\n",
      "energy_mae: 8.86e-01, energy_mse: 1.68e+00, energy_within_threshold: 7.81e-02, loss: 8.86e-01, lr: 5.00e-04, epoch: 1.25e+01, step: 1.96e+03\n",
      "energy_mae: 1.15e+00, energy_mse: 2.78e+00, energy_within_threshold: 1.56e-02, loss: 1.15e+00, lr: 5.00e-04, epoch: 1.25e+01, step: 1.96e+03\n",
      "energy_mae: 8.61e-01, energy_mse: 1.09e+00, energy_within_threshold: 0.00e+00, loss: 8.61e-01, lr: 5.00e-04, epoch: 1.25e+01, step: 1.97e+03\n",
      "energy_mae: 8.16e-01, energy_mse: 1.25e+00, energy_within_threshold: 0.00e+00, loss: 8.16e-01, lr: 5.00e-04, epoch: 1.26e+01, step: 1.98e+03\n",
      "energy_mae: 9.87e-01, energy_mse: 1.96e+00, energy_within_threshold: 3.12e-02, loss: 9.87e-01, lr: 5.00e-04, epoch: 1.26e+01, step: 1.98e+03\n",
      "energy_mae: 9.23e-01, energy_mse: 1.44e+00, energy_within_threshold: 0.00e+00, loss: 9.23e-01, lr: 5.00e-04, epoch: 1.26e+01, step: 1.98e+03\n",
      "energy_mae: 1.17e+00, energy_mse: 2.62e+00, energy_within_threshold: 1.56e-02, loss: 1.17e+00, lr: 5.00e-04, epoch: 1.27e+01, step: 1.99e+03\n",
      "energy_mae: 9.39e-01, energy_mse: 2.62e+00, energy_within_threshold: 1.56e-02, loss: 9.39e-01, lr: 5.00e-04, epoch: 1.27e+01, step: 2.00e+03\n",
      "energy_mae: 8.82e-01, energy_mse: 1.35e+00, energy_within_threshold: 0.00e+00, loss: 8.82e-01, lr: 5.00e-04, epoch: 1.27e+01, step: 2.00e+03\n",
      "energy_mae: 9.45e-01, energy_mse: 2.08e+00, energy_within_threshold: 1.56e-02, loss: 9.45e-01, lr: 5.00e-04, epoch: 1.28e+01, step: 2.00e+03\n",
      "energy_mae: 7.83e-01, energy_mse: 1.12e+00, energy_within_threshold: 6.25e-02, loss: 7.83e-01, lr: 5.00e-04, epoch: 1.28e+01, step: 2.01e+03\n",
      "energy_mae: 9.66e-01, energy_mse: 1.72e+00, energy_within_threshold: 3.12e-02, loss: 9.66e-01, lr: 5.00e-04, epoch: 1.28e+01, step: 2.02e+03\n",
      "energy_mae: 7.20e-01, energy_mse: 9.25e-01, energy_within_threshold: 3.12e-02, loss: 7.20e-01, lr: 5.00e-04, epoch: 1.29e+01, step: 2.02e+03\n",
      "energy_mae: 1.09e+00, energy_mse: 3.21e+00, energy_within_threshold: 0.00e+00, loss: 1.09e+00, lr: 5.00e-04, epoch: 1.29e+01, step: 2.02e+03\n",
      "energy_mae: 8.73e-01, energy_mse: 1.60e+00, energy_within_threshold: 1.56e-02, loss: 8.73e-01, lr: 5.00e-04, epoch: 1.29e+01, step: 2.03e+03\n",
      "energy_mae: 8.27e-01, energy_mse: 1.23e+00, energy_within_threshold: 4.69e-02, loss: 8.27e-01, lr: 5.00e-04, epoch: 1.30e+01, step: 2.04e+03\n",
      "energy_mae: 1.03e+00, energy_mse: 1.86e+00, energy_within_threshold: 0.00e+00, loss: 1.03e+00, lr: 5.00e-04, epoch: 1.30e+01, step: 2.04e+03\n",
      "2021-12-17 16:09:22 (INFO): Evaluating on val.\n"
     ]
    },
    {
     "name": "stderr",
     "output_type": "stream",
     "text": [
      "device 0: 100%|███████████████████████████████| 157/157 [02:01<00:00,  1.30it/s]"
     ]
    },
    {
     "name": "stdout",
     "output_type": "stream",
     "text": [
      "2021-12-17 16:11:24 (INFO): energy_mae: 0.9303, energy_mse: 1.8774, energy_within_threshold: 0.0170, loss: 0.9300, epoch: 13.0000\n",
      "2021-12-17 16:11:24 (INFO): Predicting on test.\n"
     ]
    },
    {
     "name": "stderr",
     "output_type": "stream",
     "text": [
      "\n",
      "device 0: 100%|███████████████████████████████| 157/157 [02:00<00:00,  1.30it/s]\n"
     ]
    },
    {
     "name": "stdout",
     "output_type": "stream",
     "text": [
      "2021-12-17 16:13:24 (INFO): Writing results to ./results/2021-12-17-14-33-20-SchNet-example/is2re_predictions.npz\n",
      "energy_mae: 8.90e-01, energy_mse: 1.31e+00, energy_within_threshold: 1.56e-02, loss: 8.90e-01, lr: 5.00e-04, epoch: 1.30e+01, step: 2.04e+03\n",
      "energy_mae: 1.09e+00, energy_mse: 2.36e+00, energy_within_threshold: 0.00e+00, loss: 1.09e+00, lr: 5.00e-04, epoch: 1.31e+01, step: 2.05e+03\n",
      "energy_mae: 1.08e+00, energy_mse: 3.71e+00, energy_within_threshold: 0.00e+00, loss: 1.08e+00, lr: 5.00e-04, epoch: 1.31e+01, step: 2.06e+03\n",
      "energy_mae: 1.10e+00, energy_mse: 2.15e+00, energy_within_threshold: 0.00e+00, loss: 1.10e+00, lr: 5.00e-04, epoch: 1.31e+01, step: 2.06e+03\n",
      "energy_mae: 1.03e+00, energy_mse: 2.19e+00, energy_within_threshold: 3.12e-02, loss: 1.03e+00, lr: 5.00e-04, epoch: 1.32e+01, step: 2.06e+03\n",
      "energy_mae: 1.11e+00, energy_mse: 2.10e+00, energy_within_threshold: 1.56e-02, loss: 1.11e+00, lr: 5.00e-04, epoch: 1.32e+01, step: 2.07e+03\n",
      "energy_mae: 9.30e-01, energy_mse: 1.70e+00, energy_within_threshold: 1.56e-02, loss: 9.30e-01, lr: 5.00e-04, epoch: 1.32e+01, step: 2.08e+03\n",
      "energy_mae: 1.06e+00, energy_mse: 2.52e+00, energy_within_threshold: 1.56e-02, loss: 1.06e+00, lr: 5.00e-04, epoch: 1.32e+01, step: 2.08e+03\n",
      "energy_mae: 9.90e-01, energy_mse: 2.42e+00, energy_within_threshold: 3.12e-02, loss: 9.90e-01, lr: 5.00e-04, epoch: 1.33e+01, step: 2.08e+03\n",
      "energy_mae: 9.44e-01, energy_mse: 1.67e+00, energy_within_threshold: 3.12e-02, loss: 9.44e-01, lr: 5.00e-04, epoch: 1.33e+01, step: 2.09e+03\n",
      "energy_mae: 9.04e-01, energy_mse: 1.55e+00, energy_within_threshold: 3.12e-02, loss: 9.04e-01, lr: 5.00e-04, epoch: 1.33e+01, step: 2.10e+03\n",
      "energy_mae: 9.12e-01, energy_mse: 2.12e+00, energy_within_threshold: 3.12e-02, loss: 9.12e-01, lr: 5.00e-04, epoch: 1.34e+01, step: 2.10e+03\n",
      "energy_mae: 1.02e+00, energy_mse: 2.30e+00, energy_within_threshold: 0.00e+00, loss: 1.02e+00, lr: 5.00e-04, epoch: 1.34e+01, step: 2.10e+03\n",
      "energy_mae: 8.59e-01, energy_mse: 1.47e+00, energy_within_threshold: 3.12e-02, loss: 8.59e-01, lr: 5.00e-04, epoch: 1.34e+01, step: 2.11e+03\n",
      "energy_mae: 9.34e-01, energy_mse: 1.79e+00, energy_within_threshold: 4.69e-02, loss: 9.34e-01, lr: 5.00e-04, epoch: 1.35e+01, step: 2.12e+03\n",
      "energy_mae: 1.08e+00, energy_mse: 2.28e+00, energy_within_threshold: 1.56e-02, loss: 1.08e+00, lr: 5.00e-04, epoch: 1.35e+01, step: 2.12e+03\n",
      "energy_mae: 8.53e-01, energy_mse: 1.83e+00, energy_within_threshold: 3.12e-02, loss: 8.53e-01, lr: 5.00e-04, epoch: 1.35e+01, step: 2.12e+03\n",
      "energy_mae: 9.03e-01, energy_mse: 1.33e+00, energy_within_threshold: 0.00e+00, loss: 9.03e-01, lr: 5.00e-04, epoch: 1.36e+01, step: 2.13e+03\n",
      "energy_mae: 8.31e-01, energy_mse: 1.23e+00, energy_within_threshold: 0.00e+00, loss: 8.31e-01, lr: 5.00e-04, epoch: 1.36e+01, step: 2.14e+03\n",
      "energy_mae: 9.89e-01, energy_mse: 2.07e+00, energy_within_threshold: 4.69e-02, loss: 9.89e-01, lr: 5.00e-04, epoch: 1.36e+01, step: 2.14e+03\n",
      "energy_mae: 9.00e-01, energy_mse: 1.49e+00, energy_within_threshold: 1.56e-02, loss: 9.00e-01, lr: 5.00e-04, epoch: 1.37e+01, step: 2.14e+03\n",
      "energy_mae: 8.47e-01, energy_mse: 1.22e+00, energy_within_threshold: 0.00e+00, loss: 8.47e-01, lr: 5.00e-04, epoch: 1.37e+01, step: 2.15e+03\n",
      "energy_mae: 8.95e-01, energy_mse: 2.05e+00, energy_within_threshold: 0.00e+00, loss: 8.95e-01, lr: 5.00e-04, epoch: 1.37e+01, step: 2.16e+03\n",
      "energy_mae: 1.16e+00, energy_mse: 2.85e+00, energy_within_threshold: 3.12e-02, loss: 1.16e+00, lr: 5.00e-04, epoch: 1.38e+01, step: 2.16e+03\n",
      "energy_mae: 7.80e-01, energy_mse: 1.35e+00, energy_within_threshold: 0.00e+00, loss: 7.80e-01, lr: 5.00e-04, epoch: 1.38e+01, step: 2.16e+03\n",
      "energy_mae: 6.58e-01, energy_mse: 9.13e-01, energy_within_threshold: 0.00e+00, loss: 6.58e-01, lr: 5.00e-04, epoch: 1.38e+01, step: 2.17e+03\n",
      "energy_mae: 8.24e-01, energy_mse: 1.31e+00, energy_within_threshold: 1.56e-02, loss: 8.24e-01, lr: 5.00e-04, epoch: 1.39e+01, step: 2.18e+03\n",
      "energy_mae: 7.97e-01, energy_mse: 1.24e+00, energy_within_threshold: 1.56e-02, loss: 7.97e-01, lr: 5.00e-04, epoch: 1.39e+01, step: 2.18e+03\n",
      "energy_mae: 1.09e+00, energy_mse: 2.80e+00, energy_within_threshold: 1.56e-02, loss: 1.09e+00, lr: 5.00e-04, epoch: 1.39e+01, step: 2.18e+03\n",
      "energy_mae: 8.30e-01, energy_mse: 1.53e+00, energy_within_threshold: 1.56e-02, loss: 8.30e-01, lr: 5.00e-04, epoch: 1.39e+01, step: 2.19e+03\n",
      "energy_mae: 8.40e-01, energy_mse: 1.32e+00, energy_within_threshold: 1.56e-02, loss: 8.40e-01, lr: 5.00e-04, epoch: 1.40e+01, step: 2.20e+03\n",
      "2021-12-17 16:17:27 (INFO): Evaluating on val.\n"
     ]
    },
    {
     "name": "stderr",
     "output_type": "stream",
     "text": [
      "device 0: 100%|███████████████████████████████| 157/157 [02:01<00:00,  1.29it/s]"
     ]
    },
    {
     "name": "stdout",
     "output_type": "stream",
     "text": [
      "2021-12-17 16:19:29 (INFO): energy_mae: 0.8980, energy_mse: 1.7953, energy_within_threshold: 0.0185, loss: 0.8975, epoch: 14.0000\n",
      "2021-12-17 16:19:29 (INFO): Predicting on test.\n"
     ]
    },
    {
     "name": "stderr",
     "output_type": "stream",
     "text": [
      "\n",
      "device 0: 100%|███████████████████████████████| 157/157 [02:00<00:00,  1.30it/s]\n"
     ]
    },
    {
     "name": "stdout",
     "output_type": "stream",
     "text": [
      "2021-12-17 16:21:30 (INFO): Writing results to ./results/2021-12-17-14-33-20-SchNet-example/is2re_predictions.npz\n",
      "energy_mae: 8.25e-01, energy_mse: 1.30e+00, energy_within_threshold: 0.00e+00, loss: 8.25e-01, lr: 5.00e-04, epoch: 1.40e+01, step: 2.20e+03\n",
      "energy_mae: 1.07e+00, energy_mse: 2.28e+00, energy_within_threshold: 0.00e+00, loss: 1.07e+00, lr: 5.00e-04, epoch: 1.40e+01, step: 2.20e+03\n",
      "energy_mae: 1.39e+00, energy_mse: 4.26e+00, energy_within_threshold: 1.56e-02, loss: 1.39e+00, lr: 5.00e-04, epoch: 1.41e+01, step: 2.21e+03\n",
      "energy_mae: 8.90e-01, energy_mse: 1.43e+00, energy_within_threshold: 0.00e+00, loss: 8.90e-01, lr: 5.00e-04, epoch: 1.41e+01, step: 2.22e+03\n",
      "energy_mae: 9.85e-01, energy_mse: 1.59e+00, energy_within_threshold: 1.56e-02, loss: 9.85e-01, lr: 5.00e-04, epoch: 1.41e+01, step: 2.22e+03\n",
      "energy_mae: 8.73e-01, energy_mse: 1.53e+00, energy_within_threshold: 0.00e+00, loss: 8.73e-01, lr: 5.00e-04, epoch: 1.42e+01, step: 2.22e+03\n",
      "energy_mae: 8.35e-01, energy_mse: 1.16e+00, energy_within_threshold: 0.00e+00, loss: 8.35e-01, lr: 5.00e-04, epoch: 1.42e+01, step: 2.23e+03\n",
      "energy_mae: 7.33e-01, energy_mse: 9.19e-01, energy_within_threshold: 3.12e-02, loss: 7.33e-01, lr: 5.00e-04, epoch: 1.42e+01, step: 2.24e+03\n",
      "energy_mae: 7.96e-01, energy_mse: 1.26e+00, energy_within_threshold: 1.56e-02, loss: 7.96e-01, lr: 5.00e-04, epoch: 1.43e+01, step: 2.24e+03\n",
      "energy_mae: 8.67e-01, energy_mse: 2.96e+00, energy_within_threshold: 3.12e-02, loss: 8.67e-01, lr: 5.00e-04, epoch: 1.43e+01, step: 2.24e+03\n",
      "energy_mae: 9.21e-01, energy_mse: 2.82e+00, energy_within_threshold: 0.00e+00, loss: 9.21e-01, lr: 5.00e-04, epoch: 1.43e+01, step: 2.25e+03\n",
      "energy_mae: 7.69e-01, energy_mse: 1.47e+00, energy_within_threshold: 1.56e-02, loss: 7.69e-01, lr: 5.00e-04, epoch: 1.44e+01, step: 2.26e+03\n",
      "energy_mae: 9.56e-01, energy_mse: 1.56e+00, energy_within_threshold: 3.12e-02, loss: 9.56e-01, lr: 5.00e-04, epoch: 1.44e+01, step: 2.26e+03\n",
      "energy_mae: 9.03e-01, energy_mse: 1.44e+00, energy_within_threshold: 3.12e-02, loss: 9.03e-01, lr: 5.00e-04, epoch: 1.44e+01, step: 2.26e+03\n",
      "energy_mae: 8.20e-01, energy_mse: 1.31e+00, energy_within_threshold: 0.00e+00, loss: 8.20e-01, lr: 5.00e-04, epoch: 1.45e+01, step: 2.27e+03\n",
      "energy_mae: 8.21e-01, energy_mse: 1.16e+00, energy_within_threshold: 3.12e-02, loss: 8.21e-01, lr: 5.00e-04, epoch: 1.45e+01, step: 2.28e+03\n",
      "energy_mae: 8.47e-01, energy_mse: 1.50e+00, energy_within_threshold: 1.56e-02, loss: 8.47e-01, lr: 5.00e-04, epoch: 1.45e+01, step: 2.28e+03\n",
      "energy_mae: 8.41e-01, energy_mse: 1.14e+00, energy_within_threshold: 1.56e-02, loss: 8.41e-01, lr: 5.00e-04, epoch: 1.46e+01, step: 2.28e+03\n",
      "energy_mae: 8.70e-01, energy_mse: 1.45e+00, energy_within_threshold: 0.00e+00, loss: 8.70e-01, lr: 5.00e-04, epoch: 1.46e+01, step: 2.29e+03\n",
      "energy_mae: 1.11e+00, energy_mse: 2.37e+00, energy_within_threshold: 0.00e+00, loss: 1.11e+00, lr: 5.00e-04, epoch: 1.46e+01, step: 2.30e+03\n",
      "energy_mae: 9.06e-01, energy_mse: 1.66e+00, energy_within_threshold: 0.00e+00, loss: 9.06e-01, lr: 5.00e-04, epoch: 1.46e+01, step: 2.30e+03\n",
      "energy_mae: 8.38e-01, energy_mse: 1.12e+00, energy_within_threshold: 0.00e+00, loss: 8.38e-01, lr: 5.00e-04, epoch: 1.47e+01, step: 2.30e+03\n",
      "energy_mae: 8.68e-01, energy_mse: 1.39e+00, energy_within_threshold: 4.69e-02, loss: 8.68e-01, lr: 5.00e-04, epoch: 1.47e+01, step: 2.31e+03\n",
      "energy_mae: 8.92e-01, energy_mse: 1.71e+00, energy_within_threshold: 0.00e+00, loss: 8.92e-01, lr: 5.00e-04, epoch: 1.47e+01, step: 2.32e+03\n",
      "energy_mae: 8.81e-01, energy_mse: 1.94e+00, energy_within_threshold: 3.12e-02, loss: 8.81e-01, lr: 5.00e-04, epoch: 1.48e+01, step: 2.32e+03\n",
      "energy_mae: 9.48e-01, energy_mse: 1.90e+00, energy_within_threshold: 3.12e-02, loss: 9.48e-01, lr: 5.00e-04, epoch: 1.48e+01, step: 2.32e+03\n",
      "energy_mae: 9.63e-01, energy_mse: 1.67e+00, energy_within_threshold: 1.56e-02, loss: 9.63e-01, lr: 5.00e-04, epoch: 1.48e+01, step: 2.33e+03\n",
      "energy_mae: 7.90e-01, energy_mse: 1.11e+00, energy_within_threshold: 4.69e-02, loss: 7.90e-01, lr: 5.00e-04, epoch: 1.49e+01, step: 2.34e+03\n",
      "energy_mae: 7.73e-01, energy_mse: 1.04e+00, energy_within_threshold: 4.69e-02, loss: 7.73e-01, lr: 5.00e-04, epoch: 1.49e+01, step: 2.34e+03\n",
      "energy_mae: 1.15e+00, energy_mse: 3.40e+00, energy_within_threshold: 0.00e+00, loss: 1.15e+00, lr: 5.00e-05, epoch: 1.49e+01, step: 2.34e+03\n",
      "energy_mae: 7.45e-01, energy_mse: 1.11e+00, energy_within_threshold: 1.56e-02, loss: 7.45e-01, lr: 5.00e-05, epoch: 1.50e+01, step: 2.35e+03\n",
      "energy_mae: 7.92e-01, energy_mse: 1.40e+00, energy_within_threshold: 6.25e-02, loss: 7.92e-01, lr: 5.00e-05, epoch: 1.50e+01, step: 2.36e+03\n",
      "2021-12-17 16:25:37 (INFO): Evaluating on val.\n"
     ]
    },
    {
     "name": "stderr",
     "output_type": "stream",
     "text": [
      "device 0: 100%|███████████████████████████████| 157/157 [02:01<00:00,  1.30it/s]"
     ]
    },
    {
     "name": "stdout",
     "output_type": "stream",
     "text": [
      "2021-12-17 16:27:38 (INFO): energy_mae: 0.9038, energy_mse: 1.6496, energy_within_threshold: 0.0169, loss: 0.9031, epoch: 15.0000\n"
     ]
    },
    {
     "name": "stderr",
     "output_type": "stream",
     "text": [
      "\n"
     ]
    },
    {
     "name": "stdout",
     "output_type": "stream",
     "text": [
      "energy_mae: 9.02e-01, energy_mse: 1.66e+00, energy_within_threshold: 0.00e+00, loss: 9.02e-01, lr: 5.00e-05, epoch: 1.50e+01, step: 2.36e+03\n",
      "energy_mae: 9.55e-01, energy_mse: 2.40e+00, energy_within_threshold: 0.00e+00, loss: 9.55e-01, lr: 5.00e-05, epoch: 1.51e+01, step: 2.36e+03\n",
      "energy_mae: 9.50e-01, energy_mse: 1.65e+00, energy_within_threshold: 0.00e+00, loss: 9.50e-01, lr: 5.00e-05, epoch: 1.51e+01, step: 2.37e+03\n",
      "energy_mae: 7.41e-01, energy_mse: 1.01e+00, energy_within_threshold: 1.56e-02, loss: 7.41e-01, lr: 5.00e-05, epoch: 1.51e+01, step: 2.38e+03\n",
      "energy_mae: 9.99e-01, energy_mse: 2.10e+00, energy_within_threshold: 4.69e-02, loss: 9.99e-01, lr: 5.00e-05, epoch: 1.52e+01, step: 2.38e+03\n",
      "energy_mae: 9.01e-01, energy_mse: 2.32e+00, energy_within_threshold: 3.12e-02, loss: 9.01e-01, lr: 5.00e-05, epoch: 1.52e+01, step: 2.38e+03\n",
      "energy_mae: 7.36e-01, energy_mse: 1.16e+00, energy_within_threshold: 4.69e-02, loss: 7.36e-01, lr: 5.00e-05, epoch: 1.52e+01, step: 2.39e+03\n",
      "energy_mae: 9.29e-01, energy_mse: 1.85e+00, energy_within_threshold: 1.56e-02, loss: 9.29e-01, lr: 5.00e-05, epoch: 1.53e+01, step: 2.40e+03\n",
      "energy_mae: 7.75e-01, energy_mse: 1.68e+00, energy_within_threshold: 4.69e-02, loss: 7.75e-01, lr: 5.00e-05, epoch: 1.53e+01, step: 2.40e+03\n",
      "energy_mae: 7.72e-01, energy_mse: 1.17e+00, energy_within_threshold: 1.56e-02, loss: 7.72e-01, lr: 5.00e-05, epoch: 1.53e+01, step: 2.40e+03\n",
      "energy_mae: 9.31e-01, energy_mse: 1.70e+00, energy_within_threshold: 1.56e-02, loss: 9.31e-01, lr: 5.00e-05, epoch: 1.54e+01, step: 2.41e+03\n",
      "energy_mae: 8.82e-01, energy_mse: 1.34e+00, energy_within_threshold: 4.69e-02, loss: 8.82e-01, lr: 5.00e-05, epoch: 1.54e+01, step: 2.42e+03\n",
      "energy_mae: 1.05e+00, energy_mse: 3.09e+00, energy_within_threshold: 1.56e-02, loss: 1.05e+00, lr: 5.00e-05, epoch: 1.54e+01, step: 2.42e+03\n",
      "energy_mae: 7.16e-01, energy_mse: 9.72e-01, energy_within_threshold: 4.69e-02, loss: 7.16e-01, lr: 5.00e-05, epoch: 1.54e+01, step: 2.42e+03\n",
      "energy_mae: 7.33e-01, energy_mse: 1.19e+00, energy_within_threshold: 1.56e-02, loss: 7.33e-01, lr: 5.00e-05, epoch: 1.55e+01, step: 2.43e+03\n",
      "energy_mae: 8.74e-01, energy_mse: 1.44e+00, energy_within_threshold: 0.00e+00, loss: 8.74e-01, lr: 5.00e-05, epoch: 1.55e+01, step: 2.44e+03\n",
      "energy_mae: 7.99e-01, energy_mse: 1.13e+00, energy_within_threshold: 3.12e-02, loss: 7.99e-01, lr: 5.00e-05, epoch: 1.55e+01, step: 2.44e+03\n",
      "energy_mae: 7.86e-01, energy_mse: 1.19e+00, energy_within_threshold: 1.56e-02, loss: 7.86e-01, lr: 5.00e-05, epoch: 1.56e+01, step: 2.44e+03\n",
      "energy_mae: 8.47e-01, energy_mse: 1.57e+00, energy_within_threshold: 1.56e-02, loss: 8.47e-01, lr: 5.00e-05, epoch: 1.56e+01, step: 2.45e+03\n",
      "energy_mae: 8.13e-01, energy_mse: 1.17e+00, energy_within_threshold: 0.00e+00, loss: 8.13e-01, lr: 5.00e-05, epoch: 1.56e+01, step: 2.46e+03\n",
      "energy_mae: 9.62e-01, energy_mse: 2.08e+00, energy_within_threshold: 3.12e-02, loss: 9.62e-01, lr: 5.00e-05, epoch: 1.57e+01, step: 2.46e+03\n",
      "energy_mae: 8.65e-01, energy_mse: 1.62e+00, energy_within_threshold: 0.00e+00, loss: 8.65e-01, lr: 5.00e-05, epoch: 1.57e+01, step: 2.46e+03\n",
      "energy_mae: 1.07e+00, energy_mse: 2.24e+00, energy_within_threshold: 0.00e+00, loss: 1.07e+00, lr: 5.00e-05, epoch: 1.57e+01, step: 2.47e+03\n",
      "energy_mae: 9.56e-01, energy_mse: 1.78e+00, energy_within_threshold: 0.00e+00, loss: 9.56e-01, lr: 5.00e-05, epoch: 1.58e+01, step: 2.48e+03\n",
      "energy_mae: 7.97e-01, energy_mse: 1.53e+00, energy_within_threshold: 1.56e-02, loss: 7.97e-01, lr: 5.00e-05, epoch: 1.58e+01, step: 2.48e+03\n",
      "energy_mae: 7.54e-01, energy_mse: 1.10e+00, energy_within_threshold: 6.25e-02, loss: 7.54e-01, lr: 5.00e-05, epoch: 1.58e+01, step: 2.48e+03\n",
      "energy_mae: 1.26e+00, energy_mse: 3.36e+00, energy_within_threshold: 1.56e-02, loss: 1.26e+00, lr: 5.00e-05, epoch: 1.59e+01, step: 2.49e+03\n",
      "energy_mae: 1.14e+00, energy_mse: 2.78e+00, energy_within_threshold: 0.00e+00, loss: 1.14e+00, lr: 5.00e-05, epoch: 1.59e+01, step: 2.50e+03\n",
      "energy_mae: 1.09e+00, energy_mse: 2.27e+00, energy_within_threshold: 0.00e+00, loss: 1.09e+00, lr: 5.00e-05, epoch: 1.59e+01, step: 2.50e+03\n",
      "energy_mae: 9.94e-01, energy_mse: 1.86e+00, energy_within_threshold: 1.56e-02, loss: 9.94e-01, lr: 5.00e-05, epoch: 1.60e+01, step: 2.50e+03\n",
      "energy_mae: 7.34e-01, energy_mse: 1.20e+00, energy_within_threshold: 3.12e-02, loss: 7.34e-01, lr: 5.00e-05, epoch: 1.60e+01, step: 2.51e+03\n",
      "2021-12-17 16:31:35 (INFO): Evaluating on val.\n"
     ]
    },
    {
     "name": "stderr",
     "output_type": "stream",
     "text": [
      "device 0: 100%|███████████████████████████████| 157/157 [02:02<00:00,  1.28it/s]"
     ]
    },
    {
     "name": "stdout",
     "output_type": "stream",
     "text": [
      "2021-12-17 16:33:37 (INFO): energy_mae: 0.8519, energy_mse: 1.5896, energy_within_threshold: 0.0205, loss: 0.8516, epoch: 16.0000\n",
      "2021-12-17 16:33:37 (INFO): Predicting on test.\n"
     ]
    },
    {
     "name": "stderr",
     "output_type": "stream",
     "text": [
      "\n",
      "device 0: 100%|███████████████████████████████| 157/157 [02:01<00:00,  1.30it/s]\n"
     ]
    },
    {
     "name": "stdout",
     "output_type": "stream",
     "text": [
      "2021-12-17 16:35:38 (INFO): Writing results to ./results/2021-12-17-14-33-20-SchNet-example/is2re_predictions.npz\n",
      "energy_mae: 8.46e-01, energy_mse: 1.36e+00, energy_within_threshold: 0.00e+00, loss: 8.46e-01, lr: 5.00e-05, epoch: 1.60e+01, step: 2.52e+03\n",
      "energy_mae: 8.03e-01, energy_mse: 1.21e+00, energy_within_threshold: 3.12e-02, loss: 8.03e-01, lr: 5.00e-05, epoch: 1.61e+01, step: 2.52e+03\n",
      "energy_mae: 1.13e+00, energy_mse: 2.40e+00, energy_within_threshold: 1.56e-02, loss: 1.13e+00, lr: 5.00e-05, epoch: 1.61e+01, step: 2.52e+03\n",
      "energy_mae: 8.73e-01, energy_mse: 1.43e+00, energy_within_threshold: 1.56e-02, loss: 8.73e-01, lr: 5.00e-05, epoch: 1.61e+01, step: 2.53e+03\n",
      "energy_mae: 7.57e-01, energy_mse: 1.12e+00, energy_within_threshold: 0.00e+00, loss: 7.57e-01, lr: 5.00e-05, epoch: 1.61e+01, step: 2.54e+03\n",
      "energy_mae: 8.19e-01, energy_mse: 1.20e+00, energy_within_threshold: 3.12e-02, loss: 8.19e-01, lr: 5.00e-05, epoch: 1.62e+01, step: 2.54e+03\n",
      "energy_mae: 7.84e-01, energy_mse: 1.00e+00, energy_within_threshold: 3.12e-02, loss: 7.84e-01, lr: 5.00e-05, epoch: 1.62e+01, step: 2.54e+03\n",
      "energy_mae: 8.74e-01, energy_mse: 1.77e+00, energy_within_threshold: 4.69e-02, loss: 8.74e-01, lr: 5.00e-05, epoch: 1.62e+01, step: 2.55e+03\n",
      "energy_mae: 7.30e-01, energy_mse: 1.05e+00, energy_within_threshold: 1.56e-02, loss: 7.30e-01, lr: 5.00e-05, epoch: 1.63e+01, step: 2.56e+03\n",
      "energy_mae: 8.48e-01, energy_mse: 1.45e+00, energy_within_threshold: 4.69e-02, loss: 8.48e-01, lr: 5.00e-05, epoch: 1.63e+01, step: 2.56e+03\n",
      "energy_mae: 1.14e+00, energy_mse: 2.35e+00, energy_within_threshold: 1.56e-02, loss: 1.14e+00, lr: 5.00e-05, epoch: 1.63e+01, step: 2.56e+03\n",
      "energy_mae: 8.81e-01, energy_mse: 1.43e+00, energy_within_threshold: 1.56e-02, loss: 8.81e-01, lr: 5.00e-05, epoch: 1.64e+01, step: 2.57e+03\n",
      "energy_mae: 1.00e+00, energy_mse: 2.30e+00, energy_within_threshold: 4.69e-02, loss: 1.00e+00, lr: 5.00e-05, epoch: 1.64e+01, step: 2.58e+03\n",
      "energy_mae: 8.90e-01, energy_mse: 1.53e+00, energy_within_threshold: 4.69e-02, loss: 8.90e-01, lr: 5.00e-05, epoch: 1.64e+01, step: 2.58e+03\n",
      "energy_mae: 8.13e-01, energy_mse: 1.39e+00, energy_within_threshold: 3.12e-02, loss: 8.13e-01, lr: 5.00e-05, epoch: 1.65e+01, step: 2.58e+03\n",
      "energy_mae: 7.65e-01, energy_mse: 1.15e+00, energy_within_threshold: 1.56e-02, loss: 7.65e-01, lr: 5.00e-05, epoch: 1.65e+01, step: 2.59e+03\n",
      "energy_mae: 8.10e-01, energy_mse: 1.26e+00, energy_within_threshold: 0.00e+00, loss: 8.10e-01, lr: 5.00e-05, epoch: 1.65e+01, step: 2.60e+03\n",
      "energy_mae: 9.46e-01, energy_mse: 1.83e+00, energy_within_threshold: 3.12e-02, loss: 9.46e-01, lr: 5.00e-05, epoch: 1.66e+01, step: 2.60e+03\n",
      "energy_mae: 9.76e-01, energy_mse: 2.09e+00, energy_within_threshold: 1.56e-02, loss: 9.76e-01, lr: 5.00e-05, epoch: 1.66e+01, step: 2.60e+03\n",
      "energy_mae: 8.75e-01, energy_mse: 1.43e+00, energy_within_threshold: 1.56e-02, loss: 8.75e-01, lr: 5.00e-05, epoch: 1.66e+01, step: 2.61e+03\n",
      "energy_mae: 1.10e+00, energy_mse: 2.70e+00, energy_within_threshold: 3.12e-02, loss: 1.10e+00, lr: 5.00e-05, epoch: 1.67e+01, step: 2.62e+03\n",
      "energy_mae: 7.66e-01, energy_mse: 1.15e+00, energy_within_threshold: 4.69e-02, loss: 7.66e-01, lr: 5.00e-05, epoch: 1.67e+01, step: 2.62e+03\n",
      "energy_mae: 7.57e-01, energy_mse: 1.31e+00, energy_within_threshold: 3.12e-02, loss: 7.57e-01, lr: 5.00e-05, epoch: 1.67e+01, step: 2.62e+03\n",
      "energy_mae: 6.96e-01, energy_mse: 1.01e+00, energy_within_threshold: 0.00e+00, loss: 6.96e-01, lr: 5.00e-05, epoch: 1.68e+01, step: 2.63e+03\n",
      "energy_mae: 7.73e-01, energy_mse: 2.24e+00, energy_within_threshold: 1.56e-02, loss: 7.73e-01, lr: 5.00e-05, epoch: 1.68e+01, step: 2.64e+03\n",
      "energy_mae: 7.24e-01, energy_mse: 8.79e-01, energy_within_threshold: 0.00e+00, loss: 7.24e-01, lr: 5.00e-05, epoch: 1.68e+01, step: 2.64e+03\n",
      "energy_mae: 7.69e-01, energy_mse: 1.47e+00, energy_within_threshold: 0.00e+00, loss: 7.69e-01, lr: 5.00e-05, epoch: 1.68e+01, step: 2.64e+03\n",
      "energy_mae: 6.57e-01, energy_mse: 7.24e-01, energy_within_threshold: 1.56e-02, loss: 6.57e-01, lr: 5.00e-05, epoch: 1.69e+01, step: 2.65e+03\n",
      "energy_mae: 8.81e-01, energy_mse: 1.46e+00, energy_within_threshold: 3.12e-02, loss: 8.81e-01, lr: 5.00e-05, epoch: 1.69e+01, step: 2.66e+03\n",
      "energy_mae: 1.05e+00, energy_mse: 2.11e+00, energy_within_threshold: 1.56e-02, loss: 1.05e+00, lr: 5.00e-05, epoch: 1.69e+01, step: 2.66e+03\n",
      "energy_mae: 6.78e-01, energy_mse: 8.27e-01, energy_within_threshold: 1.56e-02, loss: 6.78e-01, lr: 5.00e-05, epoch: 1.70e+01, step: 2.66e+03\n",
      "2021-12-17 16:40:54 (INFO): Evaluating on val.\n"
     ]
    },
    {
     "name": "stderr",
     "output_type": "stream",
     "text": [
      "device 0: 100%|███████████████████████████████| 157/157 [03:28<00:00,  1.33s/it]"
     ]
    },
    {
     "name": "stdout",
     "output_type": "stream",
     "text": [
      "2021-12-17 16:44:22 (INFO): energy_mae: 0.8476, energy_mse: 1.5684, energy_within_threshold: 0.0218, loss: 0.8469, epoch: 17.0000\n",
      "2021-12-17 16:44:22 (INFO): Predicting on test.\n"
     ]
    },
    {
     "name": "stderr",
     "output_type": "stream",
     "text": [
      "\n",
      "device 0: 100%|███████████████████████████████| 157/157 [03:38<00:00,  1.39s/it]"
     ]
    },
    {
     "name": "stdout",
     "output_type": "stream",
     "text": [
      "2021-12-17 16:48:00 (INFO): Writing results to ./results/2021-12-17-14-33-20-SchNet-example/is2re_predictions.npz\n"
     ]
    },
    {
     "name": "stderr",
     "output_type": "stream",
     "text": [
      "\n"
     ]
    },
    {
     "name": "stdout",
     "output_type": "stream",
     "text": [
      "energy_mae: 1.01e+00, energy_mse: 2.90e+00, energy_within_threshold: 0.00e+00, loss: 1.01e+00, lr: 5.00e-05, epoch: 1.70e+01, step: 2.67e+03\n",
      "energy_mae: 8.75e-01, energy_mse: 1.92e+00, energy_within_threshold: 1.56e-02, loss: 8.75e-01, lr: 5.00e-05, epoch: 1.70e+01, step: 2.68e+03\n",
      "energy_mae: 6.79e-01, energy_mse: 9.97e-01, energy_within_threshold: 0.00e+00, loss: 6.79e-01, lr: 5.00e-05, epoch: 1.71e+01, step: 2.68e+03\n",
      "energy_mae: 9.81e-01, energy_mse: 1.91e+00, energy_within_threshold: 3.12e-02, loss: 9.81e-01, lr: 5.00e-05, epoch: 1.71e+01, step: 2.68e+03\n",
      "energy_mae: 9.53e-01, energy_mse: 2.17e+00, energy_within_threshold: 1.56e-02, loss: 9.53e-01, lr: 5.00e-05, epoch: 1.71e+01, step: 2.69e+03\n",
      "energy_mae: 7.72e-01, energy_mse: 1.14e+00, energy_within_threshold: 1.56e-02, loss: 7.72e-01, lr: 5.00e-05, epoch: 1.72e+01, step: 2.70e+03\n",
      "energy_mae: 7.93e-01, energy_mse: 1.48e+00, energy_within_threshold: 3.12e-02, loss: 7.93e-01, lr: 5.00e-05, epoch: 1.72e+01, step: 2.70e+03\n",
      "energy_mae: 7.65e-01, energy_mse: 1.14e+00, energy_within_threshold: 3.12e-02, loss: 7.65e-01, lr: 5.00e-05, epoch: 1.72e+01, step: 2.70e+03\n",
      "energy_mae: 1.01e+00, energy_mse: 2.24e+00, energy_within_threshold: 4.69e-02, loss: 1.01e+00, lr: 5.00e-05, epoch: 1.73e+01, step: 2.71e+03\n",
      "energy_mae: 7.40e-01, energy_mse: 9.73e-01, energy_within_threshold: 1.56e-02, loss: 7.40e-01, lr: 5.00e-05, epoch: 1.73e+01, step: 2.72e+03\n",
      "energy_mae: 7.88e-01, energy_mse: 1.20e+00, energy_within_threshold: 0.00e+00, loss: 7.88e-01, lr: 5.00e-05, epoch: 1.73e+01, step: 2.72e+03\n",
      "energy_mae: 1.10e+00, energy_mse: 3.92e+00, energy_within_threshold: 3.12e-02, loss: 1.10e+00, lr: 5.00e-05, epoch: 1.74e+01, step: 2.72e+03\n",
      "energy_mae: 7.25e-01, energy_mse: 9.05e-01, energy_within_threshold: 0.00e+00, loss: 7.25e-01, lr: 5.00e-05, epoch: 1.74e+01, step: 2.73e+03\n",
      "energy_mae: 9.12e-01, energy_mse: 1.93e+00, energy_within_threshold: 3.12e-02, loss: 9.12e-01, lr: 5.00e-05, epoch: 1.74e+01, step: 2.74e+03\n",
      "energy_mae: 9.02e-01, energy_mse: 2.14e+00, energy_within_threshold: 0.00e+00, loss: 9.02e-01, lr: 5.00e-05, epoch: 1.75e+01, step: 2.74e+03\n",
      "energy_mae: 8.98e-01, energy_mse: 2.00e+00, energy_within_threshold: 3.12e-02, loss: 8.98e-01, lr: 5.00e-05, epoch: 1.75e+01, step: 2.74e+03\n",
      "energy_mae: 9.03e-01, energy_mse: 1.55e+00, energy_within_threshold: 0.00e+00, loss: 9.03e-01, lr: 5.00e-05, epoch: 1.75e+01, step: 2.75e+03\n",
      "energy_mae: 1.07e+00, energy_mse: 2.88e+00, energy_within_threshold: 3.12e-02, loss: 1.07e+00, lr: 5.00e-05, epoch: 1.75e+01, step: 2.76e+03\n",
      "energy_mae: 7.81e-01, energy_mse: 1.36e+00, energy_within_threshold: 6.25e-02, loss: 7.81e-01, lr: 5.00e-05, epoch: 1.76e+01, step: 2.76e+03\n",
      "energy_mae: 8.53e-01, energy_mse: 1.63e+00, energy_within_threshold: 3.12e-02, loss: 8.53e-01, lr: 5.00e-05, epoch: 1.76e+01, step: 2.76e+03\n",
      "energy_mae: 9.21e-01, energy_mse: 1.51e+00, energy_within_threshold: 3.12e-02, loss: 9.21e-01, lr: 5.00e-05, epoch: 1.76e+01, step: 2.77e+03\n",
      "energy_mae: 9.59e-01, energy_mse: 2.05e+00, energy_within_threshold: 4.69e-02, loss: 9.59e-01, lr: 5.00e-05, epoch: 1.77e+01, step: 2.78e+03\n",
      "energy_mae: 8.31e-01, energy_mse: 1.27e+00, energy_within_threshold: 0.00e+00, loss: 8.31e-01, lr: 5.00e-05, epoch: 1.77e+01, step: 2.78e+03\n",
      "energy_mae: 6.72e-01, energy_mse: 9.67e-01, energy_within_threshold: 1.56e-02, loss: 6.72e-01, lr: 5.00e-05, epoch: 1.77e+01, step: 2.78e+03\n",
      "energy_mae: 1.04e+00, energy_mse: 2.50e+00, energy_within_threshold: 6.25e-02, loss: 1.04e+00, lr: 5.00e-05, epoch: 1.78e+01, step: 2.79e+03\n",
      "energy_mae: 7.63e-01, energy_mse: 1.17e+00, energy_within_threshold: 1.56e-02, loss: 7.63e-01, lr: 5.00e-05, epoch: 1.78e+01, step: 2.80e+03\n",
      "energy_mae: 8.53e-01, energy_mse: 1.44e+00, energy_within_threshold: 1.56e-02, loss: 8.53e-01, lr: 5.00e-05, epoch: 1.78e+01, step: 2.80e+03\n",
      "energy_mae: 8.46e-01, energy_mse: 1.67e+00, energy_within_threshold: 1.56e-02, loss: 8.46e-01, lr: 5.00e-05, epoch: 1.79e+01, step: 2.80e+03\n",
      "energy_mae: 1.12e+00, energy_mse: 2.23e+00, energy_within_threshold: 0.00e+00, loss: 1.12e+00, lr: 5.00e-05, epoch: 1.79e+01, step: 2.81e+03\n",
      "energy_mae: 9.99e-01, energy_mse: 3.06e+00, energy_within_threshold: 3.12e-02, loss: 9.99e-01, lr: 5.00e-05, epoch: 1.79e+01, step: 2.82e+03\n",
      "energy_mae: 9.53e-01, energy_mse: 1.69e+00, energy_within_threshold: 1.56e-02, loss: 9.53e-01, lr: 5.00e-05, epoch: 1.80e+01, step: 2.82e+03\n",
      "energy_mae: 1.03e+00, energy_mse: 1.88e+00, energy_within_threshold: 0.00e+00, loss: 1.03e+00, lr: 5.00e-05, epoch: 1.80e+01, step: 2.82e+03\n",
      "2021-12-17 16:54:25 (INFO): Evaluating on val.\n"
     ]
    },
    {
     "name": "stderr",
     "output_type": "stream",
     "text": [
      "device 0: 100%|███████████████████████████████| 157/157 [02:59<00:00,  1.14s/it]"
     ]
    },
    {
     "name": "stdout",
     "output_type": "stream",
     "text": [
      "2021-12-17 16:57:24 (INFO): energy_mae: 0.8436, energy_mse: 1.5300, energy_within_threshold: 0.0199, loss: 0.8430, epoch: 18.0000\n",
      "2021-12-17 16:57:24 (INFO): Predicting on test.\n"
     ]
    },
    {
     "name": "stderr",
     "output_type": "stream",
     "text": [
      "\n",
      "device 0: 100%|███████████████████████████████| 157/157 [03:05<00:00,  1.18s/it]"
     ]
    },
    {
     "name": "stdout",
     "output_type": "stream",
     "text": [
      "2021-12-17 17:00:30 (INFO): Writing results to ./results/2021-12-17-14-33-20-SchNet-example/is2re_predictions.npz\n"
     ]
    },
    {
     "name": "stderr",
     "output_type": "stream",
     "text": [
      "\n"
     ]
    },
    {
     "name": "stdout",
     "output_type": "stream",
     "text": [
      "energy_mae: 8.11e-01, energy_mse: 1.12e+00, energy_within_threshold: 1.56e-02, loss: 8.11e-01, lr: 5.00e-05, epoch: 1.80e+01, step: 2.83e+03\n",
      "energy_mae: 7.61e-01, energy_mse: 1.01e+00, energy_within_threshold: 3.12e-02, loss: 7.61e-01, lr: 5.00e-05, epoch: 1.81e+01, step: 2.84e+03\n",
      "energy_mae: 8.38e-01, energy_mse: 1.36e+00, energy_within_threshold: 3.12e-02, loss: 8.38e-01, lr: 5.00e-05, epoch: 1.81e+01, step: 2.84e+03\n",
      "energy_mae: 7.62e-01, energy_mse: 1.02e+00, energy_within_threshold: 1.56e-02, loss: 7.62e-01, lr: 5.00e-05, epoch: 1.81e+01, step: 2.84e+03\n",
      "energy_mae: 1.04e+00, energy_mse: 2.44e+00, energy_within_threshold: 1.56e-02, loss: 1.04e+00, lr: 5.00e-05, epoch: 1.82e+01, step: 2.85e+03\n",
      "energy_mae: 1.02e+00, energy_mse: 1.96e+00, energy_within_threshold: 0.00e+00, loss: 1.02e+00, lr: 5.00e-05, epoch: 1.82e+01, step: 2.86e+03\n",
      "energy_mae: 8.29e-01, energy_mse: 1.46e+00, energy_within_threshold: 1.56e-02, loss: 8.29e-01, lr: 5.00e-05, epoch: 1.82e+01, step: 2.86e+03\n",
      "energy_mae: 8.27e-01, energy_mse: 1.85e+00, energy_within_threshold: 1.56e-02, loss: 8.27e-01, lr: 5.00e-05, epoch: 1.82e+01, step: 2.86e+03\n",
      "energy_mae: 9.28e-01, energy_mse: 2.14e+00, energy_within_threshold: 0.00e+00, loss: 9.28e-01, lr: 5.00e-05, epoch: 1.83e+01, step: 2.87e+03\n",
      "energy_mae: 1.05e+00, energy_mse: 2.41e+00, energy_within_threshold: 4.69e-02, loss: 1.05e+00, lr: 5.00e-05, epoch: 1.83e+01, step: 2.88e+03\n",
      "energy_mae: 9.65e-01, energy_mse: 2.23e+00, energy_within_threshold: 0.00e+00, loss: 9.65e-01, lr: 5.00e-05, epoch: 1.83e+01, step: 2.88e+03\n",
      "energy_mae: 6.65e-01, energy_mse: 9.50e-01, energy_within_threshold: 4.69e-02, loss: 6.65e-01, lr: 5.00e-05, epoch: 1.84e+01, step: 2.88e+03\n",
      "energy_mae: 7.10e-01, energy_mse: 8.82e-01, energy_within_threshold: 0.00e+00, loss: 7.10e-01, lr: 5.00e-05, epoch: 1.84e+01, step: 2.89e+03\n",
      "energy_mae: 8.99e-01, energy_mse: 1.47e+00, energy_within_threshold: 6.25e-02, loss: 8.99e-01, lr: 5.00e-05, epoch: 1.84e+01, step: 2.90e+03\n",
      "energy_mae: 7.14e-01, energy_mse: 1.12e+00, energy_within_threshold: 4.69e-02, loss: 7.14e-01, lr: 5.00e-05, epoch: 1.85e+01, step: 2.90e+03\n",
      "energy_mae: 8.82e-01, energy_mse: 1.71e+00, energy_within_threshold: 4.69e-02, loss: 8.82e-01, lr: 5.00e-05, epoch: 1.85e+01, step: 2.90e+03\n",
      "energy_mae: 9.55e-01, energy_mse: 1.66e+00, energy_within_threshold: 1.56e-02, loss: 9.55e-01, lr: 5.00e-05, epoch: 1.85e+01, step: 2.91e+03\n",
      "energy_mae: 8.12e-01, energy_mse: 1.76e+00, energy_within_threshold: 0.00e+00, loss: 8.12e-01, lr: 5.00e-05, epoch: 1.86e+01, step: 2.92e+03\n",
      "energy_mae: 8.61e-01, energy_mse: 1.60e+00, energy_within_threshold: 3.12e-02, loss: 8.61e-01, lr: 5.00e-05, epoch: 1.86e+01, step: 2.92e+03\n",
      "energy_mae: 6.97e-01, energy_mse: 8.34e-01, energy_within_threshold: 3.12e-02, loss: 6.97e-01, lr: 5.00e-05, epoch: 1.86e+01, step: 2.92e+03\n",
      "energy_mae: 8.92e-01, energy_mse: 1.72e+00, energy_within_threshold: 0.00e+00, loss: 8.92e-01, lr: 5.00e-05, epoch: 1.87e+01, step: 2.93e+03\n",
      "energy_mae: 8.18e-01, energy_mse: 1.55e+00, energy_within_threshold: 1.56e-02, loss: 8.18e-01, lr: 5.00e-05, epoch: 1.87e+01, step: 2.94e+03\n",
      "energy_mae: 8.95e-01, energy_mse: 1.96e+00, energy_within_threshold: 4.69e-02, loss: 8.95e-01, lr: 5.00e-05, epoch: 1.87e+01, step: 2.94e+03\n",
      "energy_mae: 9.66e-01, energy_mse: 1.95e+00, energy_within_threshold: 4.69e-02, loss: 9.66e-01, lr: 5.00e-05, epoch: 1.88e+01, step: 2.94e+03\n",
      "energy_mae: 9.59e-01, energy_mse: 1.68e+00, energy_within_threshold: 0.00e+00, loss: 9.59e-01, lr: 5.00e-05, epoch: 1.88e+01, step: 2.95e+03\n",
      "energy_mae: 8.69e-01, energy_mse: 1.45e+00, energy_within_threshold: 3.12e-02, loss: 8.69e-01, lr: 5.00e-05, epoch: 1.88e+01, step: 2.96e+03\n",
      "energy_mae: 1.05e+00, energy_mse: 3.55e+00, energy_within_threshold: 3.12e-02, loss: 1.05e+00, lr: 5.00e-05, epoch: 1.89e+01, step: 2.96e+03\n",
      "energy_mae: 9.07e-01, energy_mse: 2.72e+00, energy_within_threshold: 4.69e-02, loss: 9.07e-01, lr: 5.00e-05, epoch: 1.89e+01, step: 2.96e+03\n",
      "energy_mae: 8.96e-01, energy_mse: 1.46e+00, energy_within_threshold: 3.12e-02, loss: 8.96e-01, lr: 5.00e-05, epoch: 1.89e+01, step: 2.97e+03\n",
      "energy_mae: 9.79e-01, energy_mse: 2.11e+00, energy_within_threshold: 3.12e-02, loss: 9.79e-01, lr: 5.00e-05, epoch: 1.89e+01, step: 2.98e+03\n",
      "energy_mae: 9.50e-01, energy_mse: 1.90e+00, energy_within_threshold: 4.69e-02, loss: 9.50e-01, lr: 5.00e-05, epoch: 1.90e+01, step: 2.98e+03\n",
      "2021-12-17 17:06:17 (INFO): Evaluating on val.\n"
     ]
    },
    {
     "name": "stderr",
     "output_type": "stream",
     "text": [
      "device 0: 100%|███████████████████████████████| 157/157 [03:41<00:00,  1.41s/it]"
     ]
    },
    {
     "name": "stdout",
     "output_type": "stream",
     "text": [
      "2021-12-17 17:09:58 (INFO): energy_mae: 0.8381, energy_mse: 1.5141, energy_within_threshold: 0.0235, loss: 0.8376, epoch: 19.0000\n",
      "2021-12-17 17:09:58 (INFO): Predicting on test.\n"
     ]
    },
    {
     "name": "stderr",
     "output_type": "stream",
     "text": [
      "\n",
      "device 0: 100%|███████████████████████████████| 157/157 [03:54<00:00,  1.49s/it]"
     ]
    },
    {
     "name": "stdout",
     "output_type": "stream",
     "text": [
      "2021-12-17 17:13:52 (INFO): Writing results to ./results/2021-12-17-14-33-20-SchNet-example/is2re_predictions.npz\n"
     ]
    },
    {
     "name": "stderr",
     "output_type": "stream",
     "text": [
      "\n"
     ]
    },
    {
     "name": "stdout",
     "output_type": "stream",
     "text": [
      "energy_mae: 8.97e-01, energy_mse: 1.47e+00, energy_within_threshold: 1.56e-02, loss: 8.97e-01, lr: 5.00e-05, epoch: 1.90e+01, step: 2.98e+03\n",
      "energy_mae: 7.52e-01, energy_mse: 1.01e+00, energy_within_threshold: 3.12e-02, loss: 7.52e-01, lr: 5.00e-05, epoch: 1.90e+01, step: 2.99e+03\n",
      "energy_mae: 8.66e-01, energy_mse: 1.60e+00, energy_within_threshold: 4.69e-02, loss: 8.66e-01, lr: 5.00e-05, epoch: 1.91e+01, step: 3.00e+03\n",
      "energy_mae: 7.39e-01, energy_mse: 1.23e+00, energy_within_threshold: 1.56e-02, loss: 7.39e-01, lr: 5.00e-05, epoch: 1.91e+01, step: 3.00e+03\n",
      "energy_mae: 8.05e-01, energy_mse: 1.52e+00, energy_within_threshold: 3.12e-02, loss: 8.05e-01, lr: 5.00e-05, epoch: 1.91e+01, step: 3.00e+03\n",
      "energy_mae: 6.72e-01, energy_mse: 9.07e-01, energy_within_threshold: 3.12e-02, loss: 6.72e-01, lr: 5.00e-05, epoch: 1.92e+01, step: 3.01e+03\n",
      "energy_mae: 6.80e-01, energy_mse: 8.57e-01, energy_within_threshold: 0.00e+00, loss: 6.80e-01, lr: 5.00e-05, epoch: 1.92e+01, step: 3.02e+03\n",
      "energy_mae: 9.65e-01, energy_mse: 1.66e+00, energy_within_threshold: 1.56e-02, loss: 9.65e-01, lr: 5.00e-05, epoch: 1.92e+01, step: 3.02e+03\n",
      "energy_mae: 7.46e-01, energy_mse: 1.08e+00, energy_within_threshold: 4.69e-02, loss: 7.46e-01, lr: 5.00e-05, epoch: 1.93e+01, step: 3.02e+03\n",
      "energy_mae: 7.35e-01, energy_mse: 9.27e-01, energy_within_threshold: 1.56e-02, loss: 7.35e-01, lr: 5.00e-05, epoch: 1.93e+01, step: 3.03e+03\n",
      "energy_mae: 1.01e+00, energy_mse: 1.88e+00, energy_within_threshold: 3.12e-02, loss: 1.01e+00, lr: 5.00e-05, epoch: 1.93e+01, step: 3.04e+03\n",
      "energy_mae: 1.11e+00, energy_mse: 2.46e+00, energy_within_threshold: 3.12e-02, loss: 1.11e+00, lr: 5.00e-05, epoch: 1.94e+01, step: 3.04e+03\n",
      "energy_mae: 8.50e-01, energy_mse: 1.99e+00, energy_within_threshold: 4.69e-02, loss: 8.50e-01, lr: 5.00e-05, epoch: 1.94e+01, step: 3.04e+03\n",
      "energy_mae: 8.14e-01, energy_mse: 2.01e+00, energy_within_threshold: 1.56e-02, loss: 8.14e-01, lr: 5.00e-05, epoch: 1.94e+01, step: 3.05e+03\n",
      "energy_mae: 8.51e-01, energy_mse: 1.29e+00, energy_within_threshold: 1.56e-02, loss: 8.51e-01, lr: 5.00e-05, epoch: 1.95e+01, step: 3.06e+03\n",
      "energy_mae: 8.76e-01, energy_mse: 1.84e+00, energy_within_threshold: 0.00e+00, loss: 8.76e-01, lr: 5.00e-05, epoch: 1.95e+01, step: 3.06e+03\n",
      "energy_mae: 1.03e+00, energy_mse: 2.61e+00, energy_within_threshold: 1.56e-02, loss: 1.03e+00, lr: 5.00e-05, epoch: 1.95e+01, step: 3.06e+03\n",
      "energy_mae: 7.91e-01, energy_mse: 1.51e+00, energy_within_threshold: 3.12e-02, loss: 7.91e-01, lr: 5.00e-05, epoch: 1.96e+01, step: 3.07e+03\n",
      "energy_mae: 8.95e-01, energy_mse: 1.63e+00, energy_within_threshold: 4.69e-02, loss: 8.95e-01, lr: 5.00e-05, epoch: 1.96e+01, step: 3.08e+03\n",
      "energy_mae: 7.44e-01, energy_mse: 1.11e+00, energy_within_threshold: 1.56e-02, loss: 7.44e-01, lr: 5.00e-05, epoch: 1.96e+01, step: 3.08e+03\n",
      "energy_mae: 6.81e-01, energy_mse: 9.20e-01, energy_within_threshold: 1.56e-02, loss: 6.81e-01, lr: 5.00e-05, epoch: 1.96e+01, step: 3.08e+03\n",
      "energy_mae: 8.32e-01, energy_mse: 1.44e+00, energy_within_threshold: 0.00e+00, loss: 8.32e-01, lr: 5.00e-05, epoch: 1.97e+01, step: 3.09e+03\n",
      "energy_mae: 7.26e-01, energy_mse: 8.69e-01, energy_within_threshold: 3.12e-02, loss: 7.26e-01, lr: 5.00e-05, epoch: 1.97e+01, step: 3.10e+03\n",
      "energy_mae: 7.11e-01, energy_mse: 1.03e+00, energy_within_threshold: 0.00e+00, loss: 7.11e-01, lr: 5.00e-05, epoch: 1.97e+01, step: 3.10e+03\n",
      "energy_mae: 8.76e-01, energy_mse: 1.45e+00, energy_within_threshold: 0.00e+00, loss: 8.76e-01, lr: 5.00e-05, epoch: 1.98e+01, step: 3.10e+03\n",
      "energy_mae: 8.65e-01, energy_mse: 1.32e+00, energy_within_threshold: 0.00e+00, loss: 8.65e-01, lr: 5.00e-05, epoch: 1.98e+01, step: 3.11e+03\n",
      "energy_mae: 9.90e-01, energy_mse: 1.90e+00, energy_within_threshold: 0.00e+00, loss: 9.90e-01, lr: 5.00e-05, epoch: 1.98e+01, step: 3.12e+03\n",
      "energy_mae: 8.95e-01, energy_mse: 1.86e+00, energy_within_threshold: 1.56e-02, loss: 8.95e-01, lr: 5.00e-05, epoch: 1.99e+01, step: 3.12e+03\n",
      "energy_mae: 9.74e-01, energy_mse: 2.05e+00, energy_within_threshold: 3.12e-02, loss: 9.74e-01, lr: 5.00e-05, epoch: 1.99e+01, step: 3.12e+03\n",
      "energy_mae: 8.63e-01, energy_mse: 1.41e+00, energy_within_threshold: 1.56e-02, loss: 8.63e-01, lr: 5.00e-06, epoch: 1.99e+01, step: 3.13e+03\n",
      "energy_mae: 8.91e-01, energy_mse: 1.45e+00, energy_within_threshold: 0.00e+00, loss: 8.91e-01, lr: 5.00e-06, epoch: 2.00e+01, step: 3.14e+03\n",
      "energy_mae: 7.39e-01, energy_mse: 1.39e+00, energy_within_threshold: 0.00e+00, loss: 7.39e-01, lr: 5.00e-06, epoch: 2.00e+01, step: 3.14e+03\n",
      "2021-12-17 17:21:13 (INFO): Evaluating on val.\n"
     ]
    },
    {
     "name": "stderr",
     "output_type": "stream",
     "text": [
      "device 0: 100%|███████████████████████████████| 157/157 [03:05<00:00,  1.18s/it]"
     ]
    },
    {
     "name": "stdout",
     "output_type": "stream",
     "text": [
      "2021-12-17 17:24:19 (INFO): energy_mae: 0.8326, energy_mse: 1.5108, energy_within_threshold: 0.0258, loss: 0.8321, epoch: 20.0000\n",
      "2021-12-17 17:24:19 (INFO): Predicting on test.\n"
     ]
    },
    {
     "name": "stderr",
     "output_type": "stream",
     "text": [
      "\n",
      "device 0: 100%|███████████████████████████████| 157/157 [03:04<00:00,  1.17s/it]"
     ]
    },
    {
     "name": "stdout",
     "output_type": "stream",
     "text": [
      "2021-12-17 17:27:24 (INFO): Writing results to ./results/2021-12-17-14-33-20-SchNet-example/is2re_predictions.npz\n"
     ]
    },
    {
     "name": "stderr",
     "output_type": "stream",
     "text": [
      "\n"
     ]
    },
    {
     "name": "stdout",
     "output_type": "stream",
     "text": [
      "energy_mae: 8.43e-01, energy_mse: 1.57e+00, energy_within_threshold: 1.56e-02, loss: 8.43e-01, lr: 5.00e-06, epoch: 2.00e+01, step: 3.14e+03\n",
      "energy_mae: 9.08e-01, energy_mse: 1.85e+00, energy_within_threshold: 1.56e-02, loss: 9.08e-01, lr: 5.00e-06, epoch: 2.01e+01, step: 3.15e+03\n",
      "energy_mae: 7.37e-01, energy_mse: 1.21e+00, energy_within_threshold: 4.69e-02, loss: 7.37e-01, lr: 5.00e-06, epoch: 2.01e+01, step: 3.16e+03\n",
      "energy_mae: 8.37e-01, energy_mse: 1.51e+00, energy_within_threshold: 6.25e-02, loss: 8.37e-01, lr: 5.00e-06, epoch: 2.01e+01, step: 3.16e+03\n",
      "energy_mae: 1.04e+00, energy_mse: 1.98e+00, energy_within_threshold: 4.69e-02, loss: 1.04e+00, lr: 5.00e-06, epoch: 2.02e+01, step: 3.16e+03\n",
      "energy_mae: 8.86e-01, energy_mse: 1.51e+00, energy_within_threshold: 0.00e+00, loss: 8.86e-01, lr: 5.00e-06, epoch: 2.02e+01, step: 3.17e+03\n",
      "energy_mae: 9.17e-01, energy_mse: 1.83e+00, energy_within_threshold: 6.25e-02, loss: 9.17e-01, lr: 5.00e-06, epoch: 2.02e+01, step: 3.18e+03\n",
      "energy_mae: 8.59e-01, energy_mse: 1.45e+00, energy_within_threshold: 6.25e-02, loss: 8.59e-01, lr: 5.00e-06, epoch: 2.03e+01, step: 3.18e+03\n",
      "energy_mae: 8.47e-01, energy_mse: 1.21e+00, energy_within_threshold: 3.12e-02, loss: 8.47e-01, lr: 5.00e-06, epoch: 2.03e+01, step: 3.18e+03\n",
      "energy_mae: 8.80e-01, energy_mse: 1.52e+00, energy_within_threshold: 3.12e-02, loss: 8.80e-01, lr: 5.00e-06, epoch: 2.03e+01, step: 3.19e+03\n",
      "energy_mae: 8.37e-01, energy_mse: 1.23e+00, energy_within_threshold: 0.00e+00, loss: 8.37e-01, lr: 5.00e-06, epoch: 2.04e+01, step: 3.20e+03\n",
      "energy_mae: 8.11e-01, energy_mse: 1.10e+00, energy_within_threshold: 0.00e+00, loss: 8.11e-01, lr: 5.00e-06, epoch: 2.04e+01, step: 3.20e+03\n",
      "energy_mae: 6.09e-01, energy_mse: 7.54e-01, energy_within_threshold: 3.12e-02, loss: 6.09e-01, lr: 5.00e-06, epoch: 2.04e+01, step: 3.20e+03\n",
      "energy_mae: 7.85e-01, energy_mse: 1.18e+00, energy_within_threshold: 0.00e+00, loss: 7.85e-01, lr: 5.00e-06, epoch: 2.04e+01, step: 3.21e+03\n",
      "energy_mae: 8.59e-01, energy_mse: 1.64e+00, energy_within_threshold: 3.12e-02, loss: 8.59e-01, lr: 5.00e-06, epoch: 2.05e+01, step: 3.22e+03\n",
      "energy_mae: 9.49e-01, energy_mse: 2.02e+00, energy_within_threshold: 0.00e+00, loss: 9.49e-01, lr: 5.00e-06, epoch: 2.05e+01, step: 3.22e+03\n",
      "energy_mae: 9.18e-01, energy_mse: 1.63e+00, energy_within_threshold: 1.56e-02, loss: 9.18e-01, lr: 5.00e-06, epoch: 2.05e+01, step: 3.22e+03\n",
      "energy_mae: 8.05e-01, energy_mse: 1.29e+00, energy_within_threshold: 3.12e-02, loss: 8.05e-01, lr: 5.00e-06, epoch: 2.06e+01, step: 3.23e+03\n",
      "energy_mae: 8.30e-01, energy_mse: 1.40e+00, energy_within_threshold: 1.56e-02, loss: 8.30e-01, lr: 5.00e-06, epoch: 2.06e+01, step: 3.24e+03\n",
      "energy_mae: 7.46e-01, energy_mse: 1.03e+00, energy_within_threshold: 6.25e-02, loss: 7.46e-01, lr: 5.00e-06, epoch: 2.06e+01, step: 3.24e+03\n",
      "energy_mae: 8.96e-01, energy_mse: 2.40e+00, energy_within_threshold: 3.12e-02, loss: 8.96e-01, lr: 5.00e-06, epoch: 2.07e+01, step: 3.24e+03\n",
      "energy_mae: 8.32e-01, energy_mse: 1.37e+00, energy_within_threshold: 4.69e-02, loss: 8.32e-01, lr: 5.00e-06, epoch: 2.07e+01, step: 3.25e+03\n",
      "energy_mae: 7.84e-01, energy_mse: 1.12e+00, energy_within_threshold: 4.69e-02, loss: 7.84e-01, lr: 5.00e-06, epoch: 2.07e+01, step: 3.26e+03\n",
      "energy_mae: 6.38e-01, energy_mse: 7.80e-01, energy_within_threshold: 1.56e-02, loss: 6.38e-01, lr: 5.00e-06, epoch: 2.08e+01, step: 3.26e+03\n",
      "energy_mae: 7.06e-01, energy_mse: 8.15e-01, energy_within_threshold: 1.56e-02, loss: 7.06e-01, lr: 5.00e-06, epoch: 2.08e+01, step: 3.26e+03\n",
      "energy_mae: 7.72e-01, energy_mse: 1.15e+00, energy_within_threshold: 1.56e-02, loss: 7.72e-01, lr: 5.00e-06, epoch: 2.08e+01, step: 3.27e+03\n",
      "energy_mae: 6.43e-01, energy_mse: 7.82e-01, energy_within_threshold: 4.69e-02, loss: 6.43e-01, lr: 5.00e-06, epoch: 2.09e+01, step: 3.28e+03\n",
      "energy_mae: 6.86e-01, energy_mse: 8.67e-01, energy_within_threshold: 1.56e-02, loss: 6.86e-01, lr: 5.00e-06, epoch: 2.09e+01, step: 3.28e+03\n",
      "energy_mae: 1.11e+00, energy_mse: 2.29e+00, energy_within_threshold: 1.56e-02, loss: 1.11e+00, lr: 5.00e-06, epoch: 2.09e+01, step: 3.28e+03\n",
      "energy_mae: 7.30e-01, energy_mse: 8.87e-01, energy_within_threshold: 3.12e-02, loss: 7.30e-01, lr: 5.00e-06, epoch: 2.10e+01, step: 3.29e+03\n",
      "energy_mae: 9.24e-01, energy_mse: 1.68e+00, energy_within_threshold: 1.56e-02, loss: 9.24e-01, lr: 5.00e-06, epoch: 2.10e+01, step: 3.30e+03\n",
      "2021-12-17 17:33:02 (INFO): Evaluating on val.\n"
     ]
    },
    {
     "name": "stderr",
     "output_type": "stream",
     "text": [
      "device 0: 100%|███████████████████████████████| 157/157 [03:00<00:00,  1.15s/it]"
     ]
    },
    {
     "name": "stdout",
     "output_type": "stream",
     "text": [
      "2021-12-17 17:36:03 (INFO): energy_mae: 0.8311, energy_mse: 1.5159, energy_within_threshold: 0.0234, loss: 0.8305, epoch: 21.0000\n",
      "2021-12-17 17:36:03 (INFO): Predicting on test.\n"
     ]
    },
    {
     "name": "stderr",
     "output_type": "stream",
     "text": [
      "\n",
      "device 0: 100%|███████████████████████████████| 157/157 [03:21<00:00,  1.28s/it]"
     ]
    },
    {
     "name": "stdout",
     "output_type": "stream",
     "text": [
      "2021-12-17 17:39:25 (INFO): Writing results to ./results/2021-12-17-14-33-20-SchNet-example/is2re_predictions.npz\n"
     ]
    },
    {
     "name": "stderr",
     "output_type": "stream",
     "text": [
      "\n"
     ]
    },
    {
     "name": "stdout",
     "output_type": "stream",
     "text": [
      "energy_mae: 7.99e-01, energy_mse: 1.25e+00, energy_within_threshold: 0.00e+00, loss: 7.99e-01, lr: 5.00e-06, epoch: 2.10e+01, step: 3.30e+03\n",
      "energy_mae: 6.00e-01, energy_mse: 6.86e-01, energy_within_threshold: 1.56e-02, loss: 6.00e-01, lr: 5.00e-06, epoch: 2.11e+01, step: 3.30e+03\n",
      "energy_mae: 9.69e-01, energy_mse: 2.11e+00, energy_within_threshold: 1.56e-02, loss: 9.69e-01, lr: 5.00e-06, epoch: 2.11e+01, step: 3.31e+03\n",
      "energy_mae: 6.55e-01, energy_mse: 7.65e-01, energy_within_threshold: 3.12e-02, loss: 6.55e-01, lr: 5.00e-06, epoch: 2.11e+01, step: 3.32e+03\n",
      "energy_mae: 1.05e+00, energy_mse: 2.40e+00, energy_within_threshold: 1.56e-02, loss: 1.05e+00, lr: 5.00e-06, epoch: 2.11e+01, step: 3.32e+03\n",
      "energy_mae: 9.10e-01, energy_mse: 1.85e+00, energy_within_threshold: 0.00e+00, loss: 9.10e-01, lr: 5.00e-06, epoch: 2.12e+01, step: 3.32e+03\n",
      "energy_mae: 7.96e-01, energy_mse: 1.22e+00, energy_within_threshold: 3.12e-02, loss: 7.96e-01, lr: 5.00e-06, epoch: 2.12e+01, step: 3.33e+03\n",
      "energy_mae: 8.31e-01, energy_mse: 1.28e+00, energy_within_threshold: 3.12e-02, loss: 8.31e-01, lr: 5.00e-06, epoch: 2.12e+01, step: 3.34e+03\n",
      "energy_mae: 8.35e-01, energy_mse: 1.59e+00, energy_within_threshold: 1.56e-02, loss: 8.35e-01, lr: 5.00e-06, epoch: 2.13e+01, step: 3.34e+03\n",
      "energy_mae: 8.91e-01, energy_mse: 3.17e+00, energy_within_threshold: 1.56e-02, loss: 8.91e-01, lr: 5.00e-06, epoch: 2.13e+01, step: 3.34e+03\n",
      "energy_mae: 8.29e-01, energy_mse: 1.29e+00, energy_within_threshold: 1.56e-02, loss: 8.29e-01, lr: 5.00e-06, epoch: 2.13e+01, step: 3.35e+03\n",
      "energy_mae: 7.30e-01, energy_mse: 9.67e-01, energy_within_threshold: 4.69e-02, loss: 7.30e-01, lr: 5.00e-06, epoch: 2.14e+01, step: 3.36e+03\n",
      "energy_mae: 7.15e-01, energy_mse: 9.87e-01, energy_within_threshold: 3.12e-02, loss: 7.15e-01, lr: 5.00e-06, epoch: 2.14e+01, step: 3.36e+03\n",
      "energy_mae: 7.68e-01, energy_mse: 1.21e+00, energy_within_threshold: 1.56e-02, loss: 7.68e-01, lr: 5.00e-06, epoch: 2.14e+01, step: 3.36e+03\n",
      "energy_mae: 8.99e-01, energy_mse: 1.37e+00, energy_within_threshold: 3.12e-02, loss: 8.99e-01, lr: 5.00e-06, epoch: 2.15e+01, step: 3.37e+03\n",
      "energy_mae: 8.33e-01, energy_mse: 1.31e+00, energy_within_threshold: 0.00e+00, loss: 8.33e-01, lr: 5.00e-06, epoch: 2.15e+01, step: 3.38e+03\n",
      "energy_mae: 8.73e-01, energy_mse: 1.99e+00, energy_within_threshold: 0.00e+00, loss: 8.73e-01, lr: 5.00e-06, epoch: 2.15e+01, step: 3.38e+03\n",
      "energy_mae: 9.32e-01, energy_mse: 1.99e+00, energy_within_threshold: 1.56e-02, loss: 9.32e-01, lr: 5.00e-06, epoch: 2.16e+01, step: 3.38e+03\n",
      "energy_mae: 9.03e-01, energy_mse: 1.44e+00, energy_within_threshold: 1.56e-02, loss: 9.03e-01, lr: 5.00e-06, epoch: 2.16e+01, step: 3.39e+03\n",
      "energy_mae: 7.94e-01, energy_mse: 1.18e+00, energy_within_threshold: 3.12e-02, loss: 7.94e-01, lr: 5.00e-06, epoch: 2.16e+01, step: 3.40e+03\n",
      "energy_mae: 6.79e-01, energy_mse: 9.56e-01, energy_within_threshold: 1.56e-02, loss: 6.79e-01, lr: 5.00e-06, epoch: 2.17e+01, step: 3.40e+03\n",
      "energy_mae: 7.04e-01, energy_mse: 1.02e+00, energy_within_threshold: 0.00e+00, loss: 7.04e-01, lr: 5.00e-06, epoch: 2.17e+01, step: 3.40e+03\n",
      "energy_mae: 8.54e-01, energy_mse: 1.20e+00, energy_within_threshold: 1.56e-02, loss: 8.54e-01, lr: 5.00e-06, epoch: 2.17e+01, step: 3.41e+03\n",
      "energy_mae: 9.38e-01, energy_mse: 1.72e+00, energy_within_threshold: 0.00e+00, loss: 9.38e-01, lr: 5.00e-06, epoch: 2.18e+01, step: 3.42e+03\n",
      "energy_mae: 8.11e-01, energy_mse: 2.29e+00, energy_within_threshold: 4.69e-02, loss: 8.11e-01, lr: 5.00e-06, epoch: 2.18e+01, step: 3.42e+03\n",
      "energy_mae: 8.19e-01, energy_mse: 1.28e+00, energy_within_threshold: 3.12e-02, loss: 8.19e-01, lr: 5.00e-06, epoch: 2.18e+01, step: 3.42e+03\n",
      "energy_mae: 9.78e-01, energy_mse: 1.48e+00, energy_within_threshold: 1.56e-02, loss: 9.78e-01, lr: 5.00e-06, epoch: 2.18e+01, step: 3.43e+03\n",
      "energy_mae: 7.39e-01, energy_mse: 9.29e-01, energy_within_threshold: 4.69e-02, loss: 7.39e-01, lr: 5.00e-06, epoch: 2.19e+01, step: 3.44e+03\n",
      "energy_mae: 9.42e-01, energy_mse: 1.95e+00, energy_within_threshold: 1.56e-02, loss: 9.42e-01, lr: 5.00e-06, epoch: 2.19e+01, step: 3.44e+03\n",
      "energy_mae: 8.02e-01, energy_mse: 1.34e+00, energy_within_threshold: 1.56e-02, loss: 8.02e-01, lr: 5.00e-06, epoch: 2.19e+01, step: 3.44e+03\n",
      "energy_mae: 7.52e-01, energy_mse: 1.04e+00, energy_within_threshold: 6.25e-02, loss: 7.52e-01, lr: 5.00e-06, epoch: 2.20e+01, step: 3.45e+03\n",
      "2021-12-17 17:45:57 (INFO): Evaluating on val.\n"
     ]
    },
    {
     "name": "stderr",
     "output_type": "stream",
     "text": [
      "device 0: 100%|███████████████████████████████| 157/157 [03:14<00:00,  1.24s/it]"
     ]
    },
    {
     "name": "stdout",
     "output_type": "stream",
     "text": [
      "2021-12-17 17:49:12 (INFO): energy_mae: 0.8305, energy_mse: 1.5080, energy_within_threshold: 0.0251, loss: 0.8298, epoch: 22.0000\n",
      "2021-12-17 17:49:12 (INFO): Predicting on test.\n"
     ]
    },
    {
     "name": "stderr",
     "output_type": "stream",
     "text": [
      "\n",
      "device 0: 100%|███████████████████████████████| 157/157 [03:01<00:00,  1.15s/it]"
     ]
    },
    {
     "name": "stdout",
     "output_type": "stream",
     "text": [
      "2021-12-17 17:52:14 (INFO): Writing results to ./results/2021-12-17-14-33-20-SchNet-example/is2re_predictions.npz\n"
     ]
    },
    {
     "name": "stderr",
     "output_type": "stream",
     "text": [
      "\n"
     ]
    },
    {
     "name": "stdout",
     "output_type": "stream",
     "text": [
      "energy_mae: 7.11e-01, energy_mse: 9.40e-01, energy_within_threshold: 1.56e-02, loss: 7.11e-01, lr: 5.00e-06, epoch: 2.20e+01, step: 3.46e+03\n",
      "energy_mae: 7.39e-01, energy_mse: 9.06e-01, energy_within_threshold: 0.00e+00, loss: 7.39e-01, lr: 5.00e-06, epoch: 2.20e+01, step: 3.46e+03\n",
      "energy_mae: 1.05e+00, energy_mse: 2.33e+00, energy_within_threshold: 4.69e-02, loss: 1.05e+00, lr: 5.00e-06, epoch: 2.21e+01, step: 3.46e+03\n",
      "energy_mae: 9.69e-01, energy_mse: 1.96e+00, energy_within_threshold: 3.12e-02, loss: 9.69e-01, lr: 5.00e-06, epoch: 2.21e+01, step: 3.47e+03\n",
      "energy_mae: 8.97e-01, energy_mse: 1.81e+00, energy_within_threshold: 3.12e-02, loss: 8.97e-01, lr: 5.00e-06, epoch: 2.21e+01, step: 3.48e+03\n",
      "energy_mae: 9.32e-01, energy_mse: 2.08e+00, energy_within_threshold: 1.56e-02, loss: 9.32e-01, lr: 5.00e-06, epoch: 2.22e+01, step: 3.48e+03\n",
      "energy_mae: 8.05e-01, energy_mse: 1.45e+00, energy_within_threshold: 9.38e-02, loss: 8.05e-01, lr: 5.00e-06, epoch: 2.22e+01, step: 3.48e+03\n",
      "energy_mae: 7.66e-01, energy_mse: 1.15e+00, energy_within_threshold: 1.56e-02, loss: 7.66e-01, lr: 5.00e-06, epoch: 2.22e+01, step: 3.49e+03\n",
      "energy_mae: 8.65e-01, energy_mse: 1.87e+00, energy_within_threshold: 1.56e-02, loss: 8.65e-01, lr: 5.00e-06, epoch: 2.23e+01, step: 3.50e+03\n",
      "energy_mae: 9.43e-01, energy_mse: 2.14e+00, energy_within_threshold: 1.56e-02, loss: 9.43e-01, lr: 5.00e-06, epoch: 2.23e+01, step: 3.50e+03\n",
      "energy_mae: 9.09e-01, energy_mse: 1.66e+00, energy_within_threshold: 3.12e-02, loss: 9.09e-01, lr: 5.00e-06, epoch: 2.23e+01, step: 3.50e+03\n",
      "energy_mae: 8.46e-01, energy_mse: 1.23e+00, energy_within_threshold: 1.56e-02, loss: 8.46e-01, lr: 5.00e-06, epoch: 2.24e+01, step: 3.51e+03\n",
      "energy_mae: 9.20e-01, energy_mse: 1.98e+00, energy_within_threshold: 1.56e-02, loss: 9.20e-01, lr: 5.00e-06, epoch: 2.24e+01, step: 3.52e+03\n",
      "energy_mae: 7.93e-01, energy_mse: 1.52e+00, energy_within_threshold: 0.00e+00, loss: 7.93e-01, lr: 5.00e-06, epoch: 2.24e+01, step: 3.52e+03\n",
      "energy_mae: 9.18e-01, energy_mse: 1.89e+00, energy_within_threshold: 1.56e-02, loss: 9.18e-01, lr: 5.00e-06, epoch: 2.25e+01, step: 3.52e+03\n",
      "energy_mae: 8.53e-01, energy_mse: 1.41e+00, energy_within_threshold: 3.12e-02, loss: 8.53e-01, lr: 5.00e-06, epoch: 2.25e+01, step: 3.53e+03\n",
      "energy_mae: 8.91e-01, energy_mse: 1.72e+00, energy_within_threshold: 4.69e-02, loss: 8.91e-01, lr: 5.00e-06, epoch: 2.25e+01, step: 3.54e+03\n",
      "energy_mae: 8.11e-01, energy_mse: 1.20e+00, energy_within_threshold: 4.69e-02, loss: 8.11e-01, lr: 5.00e-06, epoch: 2.25e+01, step: 3.54e+03\n",
      "energy_mae: 8.60e-01, energy_mse: 1.47e+00, energy_within_threshold: 1.56e-02, loss: 8.60e-01, lr: 5.00e-06, epoch: 2.26e+01, step: 3.54e+03\n",
      "energy_mae: 7.61e-01, energy_mse: 1.10e+00, energy_within_threshold: 0.00e+00, loss: 7.61e-01, lr: 5.00e-06, epoch: 2.26e+01, step: 3.55e+03\n",
      "energy_mae: 7.31e-01, energy_mse: 1.28e+00, energy_within_threshold: 4.69e-02, loss: 7.31e-01, lr: 5.00e-06, epoch: 2.26e+01, step: 3.56e+03\n",
      "energy_mae: 8.32e-01, energy_mse: 1.43e+00, energy_within_threshold: 4.69e-02, loss: 8.32e-01, lr: 5.00e-06, epoch: 2.27e+01, step: 3.56e+03\n",
      "energy_mae: 8.12e-01, energy_mse: 1.36e+00, energy_within_threshold: 1.56e-02, loss: 8.12e-01, lr: 5.00e-06, epoch: 2.27e+01, step: 3.56e+03\n",
      "energy_mae: 8.12e-01, energy_mse: 1.13e+00, energy_within_threshold: 1.56e-02, loss: 8.12e-01, lr: 5.00e-06, epoch: 2.27e+01, step: 3.57e+03\n",
      "energy_mae: 7.43e-01, energy_mse: 1.09e+00, energy_within_threshold: 3.12e-02, loss: 7.43e-01, lr: 5.00e-06, epoch: 2.28e+01, step: 3.58e+03\n",
      "energy_mae: 7.49e-01, energy_mse: 8.97e-01, energy_within_threshold: 3.12e-02, loss: 7.49e-01, lr: 5.00e-06, epoch: 2.28e+01, step: 3.58e+03\n",
      "energy_mae: 8.46e-01, energy_mse: 1.23e+00, energy_within_threshold: 0.00e+00, loss: 8.46e-01, lr: 5.00e-06, epoch: 2.28e+01, step: 3.58e+03\n",
      "energy_mae: 6.94e-01, energy_mse: 1.05e+00, energy_within_threshold: 6.25e-02, loss: 6.94e-01, lr: 5.00e-06, epoch: 2.29e+01, step: 3.59e+03\n",
      "energy_mae: 9.28e-01, energy_mse: 1.78e+00, energy_within_threshold: 1.56e-02, loss: 9.28e-01, lr: 5.00e-06, epoch: 2.29e+01, step: 3.60e+03\n",
      "energy_mae: 8.54e-01, energy_mse: 1.75e+00, energy_within_threshold: 1.56e-02, loss: 8.54e-01, lr: 5.00e-06, epoch: 2.29e+01, step: 3.60e+03\n",
      "energy_mae: 6.41e-01, energy_mse: 1.11e+00, energy_within_threshold: 4.69e-02, loss: 6.41e-01, lr: 5.00e-06, epoch: 2.30e+01, step: 3.60e+03\n",
      "energy_mae: 6.78e-01, energy_mse: 9.45e-01, energy_within_threshold: 1.56e-02, loss: 6.78e-01, lr: 5.00e-06, epoch: 2.30e+01, step: 3.61e+03\n",
      "2021-12-17 17:57:56 (INFO): Evaluating on val.\n"
     ]
    },
    {
     "name": "stderr",
     "output_type": "stream",
     "text": [
      "device 0: 100%|███████████████████████████████| 157/157 [03:18<00:00,  1.27s/it]"
     ]
    },
    {
     "name": "stdout",
     "output_type": "stream",
     "text": [
      "2021-12-17 18:01:15 (INFO): energy_mae: 0.8292, energy_mse: 1.5096, energy_within_threshold: 0.0249, loss: 0.8285, epoch: 23.0000\n",
      "2021-12-17 18:01:15 (INFO): Predicting on test.\n"
     ]
    },
    {
     "name": "stderr",
     "output_type": "stream",
     "text": [
      "\n",
      "device 0: 100%|███████████████████████████████| 157/157 [03:26<00:00,  1.32s/it]"
     ]
    },
    {
     "name": "stdout",
     "output_type": "stream",
     "text": [
      "2021-12-17 18:04:42 (INFO): Writing results to ./results/2021-12-17-14-33-20-SchNet-example/is2re_predictions.npz\n"
     ]
    },
    {
     "name": "stderr",
     "output_type": "stream",
     "text": [
      "\n"
     ]
    },
    {
     "name": "stdout",
     "output_type": "stream",
     "text": [
      "energy_mae: 7.91e-01, energy_mse: 1.51e+00, energy_within_threshold: 3.12e-02, loss: 7.91e-01, lr: 5.00e-06, epoch: 2.30e+01, step: 3.62e+03\n",
      "energy_mae: 7.36e-01, energy_mse: 1.21e+00, energy_within_threshold: 4.69e-02, loss: 7.36e-01, lr: 5.00e-06, epoch: 2.31e+01, step: 3.62e+03\n",
      "energy_mae: 8.28e-01, energy_mse: 1.31e+00, energy_within_threshold: 1.56e-02, loss: 8.28e-01, lr: 5.00e-06, epoch: 2.31e+01, step: 3.62e+03\n",
      "energy_mae: 9.03e-01, energy_mse: 1.69e+00, energy_within_threshold: 4.69e-02, loss: 9.03e-01, lr: 5.00e-06, epoch: 2.31e+01, step: 3.63e+03\n",
      "energy_mae: 8.81e-01, energy_mse: 1.65e+00, energy_within_threshold: 1.56e-02, loss: 8.81e-01, lr: 5.00e-06, epoch: 2.32e+01, step: 3.64e+03\n",
      "energy_mae: 7.91e-01, energy_mse: 1.24e+00, energy_within_threshold: 0.00e+00, loss: 7.91e-01, lr: 5.00e-06, epoch: 2.32e+01, step: 3.64e+03\n",
      "energy_mae: 7.13e-01, energy_mse: 9.33e-01, energy_within_threshold: 3.12e-02, loss: 7.13e-01, lr: 5.00e-06, epoch: 2.32e+01, step: 3.64e+03\n",
      "energy_mae: 7.88e-01, energy_mse: 1.43e+00, energy_within_threshold: 4.69e-02, loss: 7.88e-01, lr: 5.00e-06, epoch: 2.32e+01, step: 3.65e+03\n",
      "energy_mae: 9.11e-01, energy_mse: 2.66e+00, energy_within_threshold: 4.69e-02, loss: 9.11e-01, lr: 5.00e-06, epoch: 2.33e+01, step: 3.66e+03\n",
      "energy_mae: 7.42e-01, energy_mse: 1.47e+00, energy_within_threshold: 3.12e-02, loss: 7.42e-01, lr: 5.00e-06, epoch: 2.33e+01, step: 3.66e+03\n",
      "energy_mae: 7.72e-01, energy_mse: 1.77e+00, energy_within_threshold: 1.56e-02, loss: 7.72e-01, lr: 5.00e-06, epoch: 2.33e+01, step: 3.66e+03\n",
      "energy_mae: 9.71e-01, energy_mse: 2.50e+00, energy_within_threshold: 4.69e-02, loss: 9.71e-01, lr: 5.00e-06, epoch: 2.34e+01, step: 3.67e+03\n",
      "energy_mae: 1.14e+00, energy_mse: 2.93e+00, energy_within_threshold: 0.00e+00, loss: 1.14e+00, lr: 5.00e-06, epoch: 2.34e+01, step: 3.68e+03\n",
      "energy_mae: 7.20e-01, energy_mse: 1.01e+00, energy_within_threshold: 4.69e-02, loss: 7.20e-01, lr: 5.00e-06, epoch: 2.34e+01, step: 3.68e+03\n",
      "energy_mae: 6.81e-01, energy_mse: 8.63e-01, energy_within_threshold: 3.12e-02, loss: 6.81e-01, lr: 5.00e-06, epoch: 2.35e+01, step: 3.68e+03\n",
      "energy_mae: 1.00e+00, energy_mse: 2.54e+00, energy_within_threshold: 1.56e-02, loss: 1.00e+00, lr: 5.00e-06, epoch: 2.35e+01, step: 3.69e+03\n",
      "energy_mae: 8.18e-01, energy_mse: 1.85e+00, energy_within_threshold: 3.12e-02, loss: 8.18e-01, lr: 5.00e-06, epoch: 2.35e+01, step: 3.70e+03\n",
      "energy_mae: 6.24e-01, energy_mse: 7.46e-01, energy_within_threshold: 3.12e-02, loss: 6.24e-01, lr: 5.00e-06, epoch: 2.36e+01, step: 3.70e+03\n",
      "energy_mae: 7.21e-01, energy_mse: 1.22e+00, energy_within_threshold: 3.12e-02, loss: 7.21e-01, lr: 5.00e-06, epoch: 2.36e+01, step: 3.70e+03\n",
      "energy_mae: 6.90e-01, energy_mse: 8.83e-01, energy_within_threshold: 0.00e+00, loss: 6.90e-01, lr: 5.00e-06, epoch: 2.36e+01, step: 3.71e+03\n",
      "energy_mae: 8.84e-01, energy_mse: 1.33e+00, energy_within_threshold: 0.00e+00, loss: 8.84e-01, lr: 5.00e-06, epoch: 2.37e+01, step: 3.72e+03\n",
      "energy_mae: 8.00e-01, energy_mse: 1.10e+00, energy_within_threshold: 1.56e-02, loss: 8.00e-01, lr: 5.00e-06, epoch: 2.37e+01, step: 3.72e+03\n",
      "energy_mae: 9.89e-01, energy_mse: 1.66e+00, energy_within_threshold: 0.00e+00, loss: 9.89e-01, lr: 5.00e-06, epoch: 2.37e+01, step: 3.72e+03\n",
      "energy_mae: 8.22e-01, energy_mse: 1.27e+00, energy_within_threshold: 0.00e+00, loss: 8.22e-01, lr: 5.00e-06, epoch: 2.38e+01, step: 3.73e+03\n",
      "energy_mae: 1.05e+00, energy_mse: 2.49e+00, energy_within_threshold: 1.56e-02, loss: 1.05e+00, lr: 5.00e-06, epoch: 2.38e+01, step: 3.74e+03\n",
      "energy_mae: 8.58e-01, energy_mse: 1.64e+00, energy_within_threshold: 3.12e-02, loss: 8.58e-01, lr: 5.00e-06, epoch: 2.38e+01, step: 3.74e+03\n",
      "energy_mae: 9.18e-01, energy_mse: 1.83e+00, energy_within_threshold: 0.00e+00, loss: 9.18e-01, lr: 5.00e-06, epoch: 2.39e+01, step: 3.74e+03\n",
      "energy_mae: 9.37e-01, energy_mse: 1.74e+00, energy_within_threshold: 0.00e+00, loss: 9.37e-01, lr: 5.00e-06, epoch: 2.39e+01, step: 3.75e+03\n",
      "energy_mae: 7.66e-01, energy_mse: 1.17e+00, energy_within_threshold: 3.12e-02, loss: 7.66e-01, lr: 5.00e-06, epoch: 2.39e+01, step: 3.76e+03\n",
      "energy_mae: 8.75e-01, energy_mse: 1.47e+00, energy_within_threshold: 1.56e-02, loss: 8.75e-01, lr: 5.00e-06, epoch: 2.39e+01, step: 3.76e+03\n",
      "energy_mae: 8.63e-01, energy_mse: 1.55e+00, energy_within_threshold: 1.56e-02, loss: 8.63e-01, lr: 5.00e-06, epoch: 2.40e+01, step: 3.76e+03\n",
      "2021-12-17 18:11:28 (INFO): Evaluating on val.\n"
     ]
    },
    {
     "name": "stderr",
     "output_type": "stream",
     "text": [
      "device 0: 100%|███████████████████████████████| 157/157 [02:56<00:00,  1.13s/it]"
     ]
    },
    {
     "name": "stdout",
     "output_type": "stream",
     "text": [
      "2021-12-17 18:14:25 (INFO): energy_mae: 0.8285, energy_mse: 1.5051, energy_within_threshold: 0.0254, loss: 0.8278, epoch: 24.0000\n",
      "2021-12-17 18:14:25 (INFO): Predicting on test.\n"
     ]
    },
    {
     "name": "stderr",
     "output_type": "stream",
     "text": [
      "\n",
      "device 0: 100%|███████████████████████████████| 157/157 [03:04<00:00,  1.17s/it]"
     ]
    },
    {
     "name": "stdout",
     "output_type": "stream",
     "text": [
      "2021-12-17 18:17:29 (INFO): Writing results to ./results/2021-12-17-14-33-20-SchNet-example/is2re_predictions.npz\n"
     ]
    },
    {
     "name": "stderr",
     "output_type": "stream",
     "text": [
      "\n"
     ]
    },
    {
     "name": "stdout",
     "output_type": "stream",
     "text": [
      "energy_mae: 7.90e-01, energy_mse: 1.32e+00, energy_within_threshold: 3.12e-02, loss: 7.90e-01, lr: 5.00e-06, epoch: 2.40e+01, step: 3.77e+03\n",
      "energy_mae: 8.52e-01, energy_mse: 1.40e+00, energy_within_threshold: 7.81e-02, loss: 8.52e-01, lr: 5.00e-06, epoch: 2.40e+01, step: 3.78e+03\n",
      "energy_mae: 7.77e-01, energy_mse: 1.19e+00, energy_within_threshold: 3.12e-02, loss: 7.77e-01, lr: 5.00e-06, epoch: 2.41e+01, step: 3.78e+03\n",
      "energy_mae: 8.71e-01, energy_mse: 1.57e+00, energy_within_threshold: 1.56e-02, loss: 8.71e-01, lr: 5.00e-06, epoch: 2.41e+01, step: 3.78e+03\n",
      "energy_mae: 9.97e-01, energy_mse: 2.03e+00, energy_within_threshold: 0.00e+00, loss: 9.97e-01, lr: 5.00e-06, epoch: 2.41e+01, step: 3.79e+03\n",
      "energy_mae: 6.52e-01, energy_mse: 1.00e+00, energy_within_threshold: 3.12e-02, loss: 6.52e-01, lr: 5.00e-06, epoch: 2.42e+01, step: 3.80e+03\n",
      "energy_mae: 7.60e-01, energy_mse: 1.03e+00, energy_within_threshold: 1.56e-02, loss: 7.60e-01, lr: 5.00e-06, epoch: 2.42e+01, step: 3.80e+03\n",
      "energy_mae: 8.69e-01, energy_mse: 2.77e+00, energy_within_threshold: 3.12e-02, loss: 8.69e-01, lr: 5.00e-06, epoch: 2.42e+01, step: 3.80e+03\n",
      "energy_mae: 7.27e-01, energy_mse: 1.11e+00, energy_within_threshold: 3.12e-02, loss: 7.27e-01, lr: 5.00e-06, epoch: 2.43e+01, step: 3.81e+03\n",
      "energy_mae: 1.06e+00, energy_mse: 2.39e+00, energy_within_threshold: 0.00e+00, loss: 1.06e+00, lr: 5.00e-06, epoch: 2.43e+01, step: 3.82e+03\n",
      "energy_mae: 7.65e-01, energy_mse: 1.22e+00, energy_within_threshold: 4.69e-02, loss: 7.65e-01, lr: 5.00e-06, epoch: 2.43e+01, step: 3.82e+03\n",
      "energy_mae: 7.23e-01, energy_mse: 1.27e+00, energy_within_threshold: 0.00e+00, loss: 7.23e-01, lr: 5.00e-06, epoch: 2.44e+01, step: 3.82e+03\n",
      "energy_mae: 7.82e-01, energy_mse: 1.42e+00, energy_within_threshold: 1.56e-02, loss: 7.82e-01, lr: 5.00e-06, epoch: 2.44e+01, step: 3.83e+03\n",
      "energy_mae: 8.77e-01, energy_mse: 1.78e+00, energy_within_threshold: 6.25e-02, loss: 8.77e-01, lr: 5.00e-06, epoch: 2.44e+01, step: 3.84e+03\n",
      "energy_mae: 7.59e-01, energy_mse: 1.21e+00, energy_within_threshold: 1.56e-02, loss: 7.59e-01, lr: 5.00e-06, epoch: 2.45e+01, step: 3.84e+03\n",
      "energy_mae: 9.69e-01, energy_mse: 2.79e+00, energy_within_threshold: 3.12e-02, loss: 9.69e-01, lr: 5.00e-06, epoch: 2.45e+01, step: 3.84e+03\n",
      "energy_mae: 8.79e-01, energy_mse: 1.51e+00, energy_within_threshold: 6.25e-02, loss: 8.79e-01, lr: 5.00e-06, epoch: 2.45e+01, step: 3.85e+03\n",
      "energy_mae: 9.11e-01, energy_mse: 1.45e+00, energy_within_threshold: 3.12e-02, loss: 9.11e-01, lr: 5.00e-06, epoch: 2.46e+01, step: 3.86e+03\n",
      "energy_mae: 7.58e-01, energy_mse: 1.39e+00, energy_within_threshold: 4.69e-02, loss: 7.58e-01, lr: 5.00e-06, epoch: 2.46e+01, step: 3.86e+03\n",
      "energy_mae: 8.06e-01, energy_mse: 1.49e+00, energy_within_threshold: 4.69e-02, loss: 8.06e-01, lr: 5.00e-06, epoch: 2.46e+01, step: 3.86e+03\n",
      "energy_mae: 9.59e-01, energy_mse: 1.89e+00, energy_within_threshold: 0.00e+00, loss: 9.59e-01, lr: 5.00e-06, epoch: 2.46e+01, step: 3.87e+03\n",
      "energy_mae: 8.87e-01, energy_mse: 2.02e+00, energy_within_threshold: 0.00e+00, loss: 8.87e-01, lr: 5.00e-06, epoch: 2.47e+01, step: 3.88e+03\n",
      "energy_mae: 8.30e-01, energy_mse: 1.40e+00, energy_within_threshold: 1.56e-02, loss: 8.30e-01, lr: 5.00e-06, epoch: 2.47e+01, step: 3.88e+03\n",
      "energy_mae: 7.68e-01, energy_mse: 1.11e+00, energy_within_threshold: 1.56e-02, loss: 7.68e-01, lr: 5.00e-06, epoch: 2.47e+01, step: 3.88e+03\n",
      "energy_mae: 9.40e-01, energy_mse: 2.81e+00, energy_within_threshold: 0.00e+00, loss: 9.40e-01, lr: 5.00e-06, epoch: 2.48e+01, step: 3.89e+03\n",
      "energy_mae: 8.35e-01, energy_mse: 1.55e+00, energy_within_threshold: 4.69e-02, loss: 8.35e-01, lr: 5.00e-06, epoch: 2.48e+01, step: 3.90e+03\n",
      "energy_mae: 9.85e-01, energy_mse: 2.04e+00, energy_within_threshold: 4.69e-02, loss: 9.85e-01, lr: 5.00e-06, epoch: 2.48e+01, step: 3.90e+03\n",
      "energy_mae: 8.03e-01, energy_mse: 1.40e+00, energy_within_threshold: 6.25e-02, loss: 8.03e-01, lr: 5.00e-06, epoch: 2.49e+01, step: 3.90e+03\n",
      "energy_mae: 8.73e-01, energy_mse: 1.45e+00, energy_within_threshold: 0.00e+00, loss: 8.73e-01, lr: 5.00e-06, epoch: 2.49e+01, step: 3.91e+03\n",
      "energy_mae: 9.00e-01, energy_mse: 1.23e+00, energy_within_threshold: 0.00e+00, loss: 9.00e-01, lr: 5.00e-06, epoch: 2.49e+01, step: 3.92e+03\n",
      "energy_mae: 8.75e-01, energy_mse: 2.12e+00, energy_within_threshold: 1.56e-02, loss: 8.75e-01, lr: 5.00e-06, epoch: 2.50e+01, step: 3.92e+03\n",
      "energy_mae: 3.94e-01, energy_mse: 3.17e-01, energy_within_threshold: 6.25e-02, loss: 3.94e-01, lr: 5.00e-06, epoch: 2.50e+01, step: 3.92e+03\n",
      "2021-12-17 18:23:04 (INFO): Evaluating on val.\n"
     ]
    },
    {
     "name": "stderr",
     "output_type": "stream",
     "text": [
      "device 0: 100%|███████████████████████████████| 157/157 [03:19<00:00,  1.27s/it]"
     ]
    },
    {
     "name": "stdout",
     "output_type": "stream",
     "text": [
      "2021-12-17 18:26:24 (INFO): energy_mae: 0.8282, energy_mse: 1.5004, energy_within_threshold: 0.0252, loss: 0.8275, epoch: 25.0000\n",
      "2021-12-17 18:26:24 (INFO): Predicting on test.\n"
     ]
    },
    {
     "name": "stderr",
     "output_type": "stream",
     "text": [
      "\n",
      "device 0: 100%|███████████████████████████████| 157/157 [03:28<00:00,  1.33s/it]"
     ]
    },
    {
     "name": "stdout",
     "output_type": "stream",
     "text": [
      "2021-12-17 18:29:53 (INFO): Writing results to ./results/2021-12-17-14-33-20-SchNet-example/is2re_predictions.npz\n"
     ]
    },
    {
     "name": "stderr",
     "output_type": "stream",
     "text": [
      "\n"
     ]
    },
    {
     "name": "stdout",
     "output_type": "stream",
     "text": [
      "energy_mae: 8.76e-01, energy_mse: 1.62e+00, energy_within_threshold: 4.69e-02, loss: 8.76e-01, lr: 5.00e-06, epoch: 2.50e+01, step: 3.93e+03\n",
      "energy_mae: 9.04e-01, energy_mse: 2.60e+00, energy_within_threshold: 3.12e-02, loss: 9.04e-01, lr: 5.00e-06, epoch: 2.51e+01, step: 3.94e+03\n",
      "energy_mae: 8.23e-01, energy_mse: 1.54e+00, energy_within_threshold: 6.25e-02, loss: 8.23e-01, lr: 5.00e-06, epoch: 2.51e+01, step: 3.94e+03\n",
      "energy_mae: 7.78e-01, energy_mse: 1.09e+00, energy_within_threshold: 3.12e-02, loss: 7.78e-01, lr: 5.00e-06, epoch: 2.51e+01, step: 3.94e+03\n",
      "energy_mae: 6.95e-01, energy_mse: 8.99e-01, energy_within_threshold: 4.69e-02, loss: 6.95e-01, lr: 5.00e-06, epoch: 2.52e+01, step: 3.95e+03\n",
      "energy_mae: 8.00e-01, energy_mse: 1.29e+00, energy_within_threshold: 3.12e-02, loss: 8.00e-01, lr: 5.00e-06, epoch: 2.52e+01, step: 3.96e+03\n",
      "energy_mae: 8.59e-01, energy_mse: 1.27e+00, energy_within_threshold: 0.00e+00, loss: 8.59e-01, lr: 5.00e-06, epoch: 2.52e+01, step: 3.96e+03\n",
      "energy_mae: 9.05e-01, energy_mse: 2.04e+00, energy_within_threshold: 3.12e-02, loss: 9.05e-01, lr: 5.00e-06, epoch: 2.53e+01, step: 3.96e+03\n",
      "energy_mae: 8.77e-01, energy_mse: 2.08e+00, energy_within_threshold: 4.69e-02, loss: 8.77e-01, lr: 5.00e-06, epoch: 2.53e+01, step: 3.97e+03\n",
      "energy_mae: 8.02e-01, energy_mse: 1.31e+00, energy_within_threshold: 3.12e-02, loss: 8.02e-01, lr: 5.00e-06, epoch: 2.53e+01, step: 3.98e+03\n",
      "energy_mae: 6.42e-01, energy_mse: 1.02e+00, energy_within_threshold: 1.56e-02, loss: 6.42e-01, lr: 5.00e-06, epoch: 2.54e+01, step: 3.98e+03\n",
      "energy_mae: 8.52e-01, energy_mse: 1.28e+00, energy_within_threshold: 0.00e+00, loss: 8.52e-01, lr: 5.00e-06, epoch: 2.54e+01, step: 3.98e+03\n",
      "energy_mae: 8.48e-01, energy_mse: 1.81e+00, energy_within_threshold: 4.69e-02, loss: 8.48e-01, lr: 5.00e-06, epoch: 2.54e+01, step: 3.99e+03\n",
      "energy_mae: 1.32e+00, energy_mse: 3.84e+00, energy_within_threshold: 1.56e-02, loss: 1.32e+00, lr: 5.00e-06, epoch: 2.54e+01, step: 4.00e+03\n",
      "energy_mae: 8.49e-01, energy_mse: 1.38e+00, energy_within_threshold: 1.56e-02, loss: 8.49e-01, lr: 5.00e-06, epoch: 2.55e+01, step: 4.00e+03\n",
      "energy_mae: 9.06e-01, energy_mse: 1.91e+00, energy_within_threshold: 3.12e-02, loss: 9.06e-01, lr: 5.00e-06, epoch: 2.55e+01, step: 4.00e+03\n",
      "energy_mae: 6.73e-01, energy_mse: 8.64e-01, energy_within_threshold: 4.69e-02, loss: 6.73e-01, lr: 5.00e-06, epoch: 2.55e+01, step: 4.01e+03\n",
      "energy_mae: 7.81e-01, energy_mse: 1.24e+00, energy_within_threshold: 1.56e-02, loss: 7.81e-01, lr: 5.00e-06, epoch: 2.56e+01, step: 4.02e+03\n",
      "energy_mae: 8.26e-01, energy_mse: 1.33e+00, energy_within_threshold: 4.69e-02, loss: 8.26e-01, lr: 5.00e-06, epoch: 2.56e+01, step: 4.02e+03\n",
      "energy_mae: 8.82e-01, energy_mse: 1.79e+00, energy_within_threshold: 3.12e-02, loss: 8.82e-01, lr: 5.00e-06, epoch: 2.56e+01, step: 4.02e+03\n",
      "energy_mae: 7.35e-01, energy_mse: 8.83e-01, energy_within_threshold: 1.56e-02, loss: 7.35e-01, lr: 5.00e-06, epoch: 2.57e+01, step: 4.03e+03\n",
      "energy_mae: 1.08e+00, energy_mse: 3.09e+00, energy_within_threshold: 0.00e+00, loss: 1.08e+00, lr: 5.00e-06, epoch: 2.57e+01, step: 4.04e+03\n",
      "energy_mae: 7.87e-01, energy_mse: 1.23e+00, energy_within_threshold: 4.69e-02, loss: 7.87e-01, lr: 5.00e-06, epoch: 2.57e+01, step: 4.04e+03\n",
      "energy_mae: 6.77e-01, energy_mse: 8.36e-01, energy_within_threshold: 4.69e-02, loss: 6.77e-01, lr: 5.00e-06, epoch: 2.58e+01, step: 4.04e+03\n",
      "energy_mae: 6.82e-01, energy_mse: 9.24e-01, energy_within_threshold: 6.25e-02, loss: 6.82e-01, lr: 5.00e-06, epoch: 2.58e+01, step: 4.05e+03\n",
      "energy_mae: 8.55e-01, energy_mse: 1.49e+00, energy_within_threshold: 0.00e+00, loss: 8.55e-01, lr: 5.00e-06, epoch: 2.58e+01, step: 4.06e+03\n",
      "energy_mae: 8.12e-01, energy_mse: 1.28e+00, energy_within_threshold: 0.00e+00, loss: 8.12e-01, lr: 5.00e-06, epoch: 2.59e+01, step: 4.06e+03\n",
      "energy_mae: 8.95e-01, energy_mse: 1.35e+00, energy_within_threshold: 1.56e-02, loss: 8.95e-01, lr: 5.00e-06, epoch: 2.59e+01, step: 4.06e+03\n",
      "energy_mae: 8.90e-01, energy_mse: 1.36e+00, energy_within_threshold: 0.00e+00, loss: 8.90e-01, lr: 5.00e-06, epoch: 2.59e+01, step: 4.07e+03\n",
      "energy_mae: 9.94e-01, energy_mse: 2.18e+00, energy_within_threshold: 1.56e-02, loss: 9.94e-01, lr: 5.00e-06, epoch: 2.60e+01, step: 4.08e+03\n",
      "energy_mae: 7.68e-01, energy_mse: 1.26e+00, energy_within_threshold: 1.56e-02, loss: 7.68e-01, lr: 5.00e-06, epoch: 2.60e+01, step: 4.08e+03\n",
      "2021-12-17 18:36:43 (INFO): Evaluating on val.\n"
     ]
    },
    {
     "name": "stderr",
     "output_type": "stream",
     "text": [
      "device 0: 100%|███████████████████████████████| 157/157 [03:11<00:00,  1.22s/it]"
     ]
    },
    {
     "name": "stdout",
     "output_type": "stream",
     "text": [
      "2021-12-17 18:39:55 (INFO): energy_mae: 0.8272, energy_mse: 1.5034, energy_within_threshold: 0.0251, loss: 0.8266, epoch: 26.0000\n",
      "2021-12-17 18:39:55 (INFO): Predicting on test.\n"
     ]
    },
    {
     "name": "stderr",
     "output_type": "stream",
     "text": [
      "\n",
      "device 0: 100%|███████████████████████████████| 157/157 [03:03<00:00,  1.17s/it]"
     ]
    },
    {
     "name": "stdout",
     "output_type": "stream",
     "text": [
      "2021-12-17 18:42:58 (INFO): Writing results to ./results/2021-12-17-14-33-20-SchNet-example/is2re_predictions.npz\n"
     ]
    },
    {
     "name": "stderr",
     "output_type": "stream",
     "text": [
      "\n"
     ]
    },
    {
     "name": "stdout",
     "output_type": "stream",
     "text": [
      "energy_mae: 7.88e-01, energy_mse: 1.16e+00, energy_within_threshold: 0.00e+00, loss: 7.88e-01, lr: 5.00e-06, epoch: 2.60e+01, step: 4.08e+03\n",
      "energy_mae: 8.52e-01, energy_mse: 1.44e+00, energy_within_threshold: 6.25e-02, loss: 8.52e-01, lr: 5.00e-06, epoch: 2.61e+01, step: 4.09e+03\n",
      "energy_mae: 7.78e-01, energy_mse: 1.47e+00, energy_within_threshold: 3.12e-02, loss: 7.78e-01, lr: 5.00e-06, epoch: 2.61e+01, step: 4.10e+03\n",
      "energy_mae: 8.40e-01, energy_mse: 1.62e+00, energy_within_threshold: 7.81e-02, loss: 8.40e-01, lr: 5.00e-06, epoch: 2.61e+01, step: 4.10e+03\n",
      "energy_mae: 6.55e-01, energy_mse: 8.96e-01, energy_within_threshold: 3.12e-02, loss: 6.55e-01, lr: 5.00e-06, epoch: 2.61e+01, step: 4.10e+03\n",
      "energy_mae: 7.35e-01, energy_mse: 1.18e+00, energy_within_threshold: 1.56e-02, loss: 7.35e-01, lr: 5.00e-06, epoch: 2.62e+01, step: 4.11e+03\n",
      "energy_mae: 8.26e-01, energy_mse: 1.32e+00, energy_within_threshold: 0.00e+00, loss: 8.26e-01, lr: 5.00e-06, epoch: 2.62e+01, step: 4.12e+03\n",
      "energy_mae: 6.24e-01, energy_mse: 7.06e-01, energy_within_threshold: 7.81e-02, loss: 6.24e-01, lr: 5.00e-06, epoch: 2.62e+01, step: 4.12e+03\n",
      "energy_mae: 7.52e-01, energy_mse: 1.28e+00, energy_within_threshold: 0.00e+00, loss: 7.52e-01, lr: 5.00e-06, epoch: 2.63e+01, step: 4.12e+03\n",
      "energy_mae: 6.91e-01, energy_mse: 7.49e-01, energy_within_threshold: 1.56e-02, loss: 6.91e-01, lr: 5.00e-06, epoch: 2.63e+01, step: 4.13e+03\n",
      "energy_mae: 7.26e-01, energy_mse: 1.04e+00, energy_within_threshold: 1.56e-02, loss: 7.26e-01, lr: 5.00e-06, epoch: 2.63e+01, step: 4.14e+03\n",
      "energy_mae: 7.63e-01, energy_mse: 1.04e+00, energy_within_threshold: 6.25e-02, loss: 7.63e-01, lr: 5.00e-06, epoch: 2.64e+01, step: 4.14e+03\n",
      "energy_mae: 8.55e-01, energy_mse: 1.48e+00, energy_within_threshold: 4.69e-02, loss: 8.55e-01, lr: 5.00e-06, epoch: 2.64e+01, step: 4.14e+03\n",
      "energy_mae: 7.73e-01, energy_mse: 1.09e+00, energy_within_threshold: 1.56e-02, loss: 7.73e-01, lr: 5.00e-06, epoch: 2.64e+01, step: 4.15e+03\n",
      "energy_mae: 8.87e-01, energy_mse: 1.47e+00, energy_within_threshold: 0.00e+00, loss: 8.87e-01, lr: 5.00e-06, epoch: 2.65e+01, step: 4.16e+03\n",
      "energy_mae: 1.06e+00, energy_mse: 2.38e+00, energy_within_threshold: 0.00e+00, loss: 1.06e+00, lr: 5.00e-06, epoch: 2.65e+01, step: 4.16e+03\n",
      "energy_mae: 1.05e+00, energy_mse: 2.39e+00, energy_within_threshold: 1.56e-02, loss: 1.05e+00, lr: 5.00e-06, epoch: 2.65e+01, step: 4.16e+03\n",
      "energy_mae: 8.49e-01, energy_mse: 2.17e+00, energy_within_threshold: 3.12e-02, loss: 8.49e-01, lr: 5.00e-06, epoch: 2.66e+01, step: 4.17e+03\n",
      "energy_mae: 6.88e-01, energy_mse: 8.35e-01, energy_within_threshold: 0.00e+00, loss: 6.88e-01, lr: 5.00e-06, epoch: 2.66e+01, step: 4.18e+03\n",
      "energy_mae: 7.32e-01, energy_mse: 1.05e+00, energy_within_threshold: 4.69e-02, loss: 7.32e-01, lr: 5.00e-06, epoch: 2.66e+01, step: 4.18e+03\n",
      "energy_mae: 7.66e-01, energy_mse: 1.07e+00, energy_within_threshold: 1.56e-02, loss: 7.66e-01, lr: 5.00e-06, epoch: 2.67e+01, step: 4.18e+03\n",
      "energy_mae: 9.18e-01, energy_mse: 1.50e+00, energy_within_threshold: 0.00e+00, loss: 9.18e-01, lr: 5.00e-06, epoch: 2.67e+01, step: 4.19e+03\n",
      "energy_mae: 1.02e+00, energy_mse: 1.95e+00, energy_within_threshold: 1.56e-02, loss: 1.02e+00, lr: 5.00e-06, epoch: 2.67e+01, step: 4.20e+03\n",
      "energy_mae: 9.64e-01, energy_mse: 1.87e+00, energy_within_threshold: 4.69e-02, loss: 9.64e-01, lr: 5.00e-06, epoch: 2.68e+01, step: 4.20e+03\n",
      "energy_mae: 8.62e-01, energy_mse: 1.79e+00, energy_within_threshold: 0.00e+00, loss: 8.62e-01, lr: 5.00e-06, epoch: 2.68e+01, step: 4.20e+03\n",
      "energy_mae: 6.65e-01, energy_mse: 8.63e-01, energy_within_threshold: 3.12e-02, loss: 6.65e-01, lr: 5.00e-06, epoch: 2.68e+01, step: 4.21e+03\n",
      "energy_mae: 9.23e-01, energy_mse: 2.12e+00, energy_within_threshold: 1.56e-02, loss: 9.23e-01, lr: 5.00e-06, epoch: 2.68e+01, step: 4.22e+03\n",
      "energy_mae: 9.43e-01, energy_mse: 1.56e+00, energy_within_threshold: 1.56e-02, loss: 9.43e-01, lr: 5.00e-06, epoch: 2.69e+01, step: 4.22e+03\n",
      "energy_mae: 8.34e-01, energy_mse: 1.25e+00, energy_within_threshold: 0.00e+00, loss: 8.34e-01, lr: 5.00e-06, epoch: 2.69e+01, step: 4.22e+03\n",
      "energy_mae: 7.30e-01, energy_mse: 1.02e+00, energy_within_threshold: 4.69e-02, loss: 7.30e-01, lr: 5.00e-06, epoch: 2.69e+01, step: 4.23e+03\n",
      "energy_mae: 8.98e-01, energy_mse: 1.59e+00, energy_within_threshold: 1.56e-02, loss: 8.98e-01, lr: 5.00e-06, epoch: 2.70e+01, step: 4.24e+03\n",
      "2021-12-17 18:48:33 (INFO): Evaluating on val.\n"
     ]
    },
    {
     "name": "stderr",
     "output_type": "stream",
     "text": [
      "device 0: 100%|███████████████████████████████| 157/157 [03:02<00:00,  1.16s/it]"
     ]
    },
    {
     "name": "stdout",
     "output_type": "stream",
     "text": [
      "2021-12-17 18:51:35 (INFO): energy_mae: 0.8265, energy_mse: 1.4997, energy_within_threshold: 0.0263, loss: 0.8258, epoch: 27.0000\n",
      "2021-12-17 18:51:35 (INFO): Predicting on test.\n"
     ]
    },
    {
     "name": "stderr",
     "output_type": "stream",
     "text": [
      "\n",
      "device 0: 100%|███████████████████████████████| 157/157 [03:23<00:00,  1.30s/it]"
     ]
    },
    {
     "name": "stdout",
     "output_type": "stream",
     "text": [
      "2021-12-17 18:54:59 (INFO): Writing results to ./results/2021-12-17-14-33-20-SchNet-example/is2re_predictions.npz\n"
     ]
    },
    {
     "name": "stderr",
     "output_type": "stream",
     "text": [
      "\n"
     ]
    },
    {
     "name": "stdout",
     "output_type": "stream",
     "text": [
      "energy_mae: 8.16e-01, energy_mse: 1.61e+00, energy_within_threshold: 4.69e-02, loss: 8.16e-01, lr: 5.00e-06, epoch: 2.70e+01, step: 4.24e+03\n",
      "energy_mae: 8.08e-01, energy_mse: 1.20e+00, energy_within_threshold: 1.56e-02, loss: 8.08e-01, lr: 5.00e-06, epoch: 2.70e+01, step: 4.24e+03\n",
      "energy_mae: 7.92e-01, energy_mse: 1.14e+00, energy_within_threshold: 1.56e-02, loss: 7.92e-01, lr: 5.00e-06, epoch: 2.71e+01, step: 4.25e+03\n",
      "energy_mae: 7.87e-01, energy_mse: 1.24e+00, energy_within_threshold: 4.69e-02, loss: 7.87e-01, lr: 5.00e-06, epoch: 2.71e+01, step: 4.26e+03\n",
      "energy_mae: 7.68e-01, energy_mse: 1.23e+00, energy_within_threshold: 4.69e-02, loss: 7.68e-01, lr: 5.00e-06, epoch: 2.71e+01, step: 4.26e+03\n",
      "energy_mae: 8.74e-01, energy_mse: 1.61e+00, energy_within_threshold: 3.12e-02, loss: 8.74e-01, lr: 5.00e-06, epoch: 2.72e+01, step: 4.26e+03\n",
      "energy_mae: 7.10e-01, energy_mse: 1.21e+00, energy_within_threshold: 6.25e-02, loss: 7.10e-01, lr: 5.00e-06, epoch: 2.72e+01, step: 4.27e+03\n",
      "energy_mae: 7.30e-01, energy_mse: 1.26e+00, energy_within_threshold: 0.00e+00, loss: 7.30e-01, lr: 5.00e-06, epoch: 2.72e+01, step: 4.28e+03\n",
      "energy_mae: 7.04e-01, energy_mse: 9.02e-01, energy_within_threshold: 0.00e+00, loss: 7.04e-01, lr: 5.00e-06, epoch: 2.73e+01, step: 4.28e+03\n",
      "energy_mae: 9.81e-01, energy_mse: 2.33e+00, energy_within_threshold: 0.00e+00, loss: 9.81e-01, lr: 5.00e-06, epoch: 2.73e+01, step: 4.28e+03\n",
      "energy_mae: 7.74e-01, energy_mse: 1.12e+00, energy_within_threshold: 0.00e+00, loss: 7.74e-01, lr: 5.00e-06, epoch: 2.73e+01, step: 4.29e+03\n",
      "energy_mae: 7.53e-01, energy_mse: 1.01e+00, energy_within_threshold: 3.12e-02, loss: 7.53e-01, lr: 5.00e-06, epoch: 2.74e+01, step: 4.30e+03\n",
      "energy_mae: 8.71e-01, energy_mse: 1.45e+00, energy_within_threshold: 1.56e-02, loss: 8.71e-01, lr: 5.00e-06, epoch: 2.74e+01, step: 4.30e+03\n",
      "energy_mae: 7.22e-01, energy_mse: 9.18e-01, energy_within_threshold: 1.56e-02, loss: 7.22e-01, lr: 5.00e-06, epoch: 2.74e+01, step: 4.30e+03\n",
      "energy_mae: 7.81e-01, energy_mse: 1.06e+00, energy_within_threshold: 3.12e-02, loss: 7.81e-01, lr: 5.00e-06, epoch: 2.75e+01, step: 4.31e+03\n",
      "energy_mae: 7.57e-01, energy_mse: 1.00e+00, energy_within_threshold: 3.12e-02, loss: 7.57e-01, lr: 5.00e-06, epoch: 2.75e+01, step: 4.32e+03\n",
      "energy_mae: 7.67e-01, energy_mse: 1.34e+00, energy_within_threshold: 3.12e-02, loss: 7.67e-01, lr: 5.00e-06, epoch: 2.75e+01, step: 4.32e+03\n",
      "energy_mae: 7.07e-01, energy_mse: 1.09e+00, energy_within_threshold: 0.00e+00, loss: 7.07e-01, lr: 5.00e-06, epoch: 2.75e+01, step: 4.32e+03\n",
      "energy_mae: 8.15e-01, energy_mse: 1.20e+00, energy_within_threshold: 1.56e-02, loss: 8.15e-01, lr: 5.00e-06, epoch: 2.76e+01, step: 4.33e+03\n",
      "energy_mae: 8.36e-01, energy_mse: 1.84e+00, energy_within_threshold: 6.25e-02, loss: 8.36e-01, lr: 5.00e-06, epoch: 2.76e+01, step: 4.34e+03\n",
      "energy_mae: 6.91e-01, energy_mse: 8.38e-01, energy_within_threshold: 0.00e+00, loss: 6.91e-01, lr: 5.00e-06, epoch: 2.76e+01, step: 4.34e+03\n",
      "energy_mae: 7.11e-01, energy_mse: 1.27e+00, energy_within_threshold: 1.56e-02, loss: 7.11e-01, lr: 5.00e-06, epoch: 2.77e+01, step: 4.34e+03\n",
      "energy_mae: 8.38e-01, energy_mse: 1.44e+00, energy_within_threshold: 0.00e+00, loss: 8.38e-01, lr: 5.00e-06, epoch: 2.77e+01, step: 4.35e+03\n",
      "energy_mae: 1.11e+00, energy_mse: 3.37e+00, energy_within_threshold: 4.69e-02, loss: 1.11e+00, lr: 5.00e-06, epoch: 2.77e+01, step: 4.36e+03\n",
      "energy_mae: 6.62e-01, energy_mse: 8.74e-01, energy_within_threshold: 4.69e-02, loss: 6.62e-01, lr: 5.00e-06, epoch: 2.78e+01, step: 4.36e+03\n",
      "energy_mae: 7.58e-01, energy_mse: 1.25e+00, energy_within_threshold: 3.12e-02, loss: 7.58e-01, lr: 5.00e-06, epoch: 2.78e+01, step: 4.36e+03\n",
      "energy_mae: 8.00e-01, energy_mse: 1.12e+00, energy_within_threshold: 3.12e-02, loss: 8.00e-01, lr: 5.00e-06, epoch: 2.78e+01, step: 4.37e+03\n",
      "energy_mae: 9.93e-01, energy_mse: 1.87e+00, energy_within_threshold: 0.00e+00, loss: 9.93e-01, lr: 5.00e-06, epoch: 2.79e+01, step: 4.38e+03\n",
      "energy_mae: 9.27e-01, energy_mse: 2.25e+00, energy_within_threshold: 1.56e-02, loss: 9.27e-01, lr: 5.00e-06, epoch: 2.79e+01, step: 4.38e+03\n",
      "energy_mae: 8.51e-01, energy_mse: 1.46e+00, energy_within_threshold: 1.56e-02, loss: 8.51e-01, lr: 5.00e-06, epoch: 2.79e+01, step: 4.38e+03\n",
      "energy_mae: 8.07e-01, energy_mse: 1.34e+00, energy_within_threshold: 4.69e-02, loss: 8.07e-01, lr: 5.00e-06, epoch: 2.80e+01, step: 4.39e+03\n",
      "energy_mae: 7.92e-01, energy_mse: 1.13e+00, energy_within_threshold: 0.00e+00, loss: 7.92e-01, lr: 5.00e-06, epoch: 2.80e+01, step: 4.40e+03\n",
      "2021-12-17 19:01:47 (INFO): Evaluating on val.\n"
     ]
    },
    {
     "name": "stderr",
     "output_type": "stream",
     "text": [
      "device 0: 100%|███████████████████████████████| 157/157 [03:13<00:00,  1.23s/it]"
     ]
    },
    {
     "name": "stdout",
     "output_type": "stream",
     "text": [
      "2021-12-17 19:05:00 (INFO): energy_mae: 0.8257, energy_mse: 1.4952, energy_within_threshold: 0.0269, loss: 0.8251, epoch: 28.0000\n",
      "2021-12-17 19:05:00 (INFO): Predicting on test.\n"
     ]
    },
    {
     "name": "stderr",
     "output_type": "stream",
     "text": [
      "\n",
      "device 0: 100%|███████████████████████████████| 157/157 [03:05<00:00,  1.18s/it]"
     ]
    },
    {
     "name": "stdout",
     "output_type": "stream",
     "text": [
      "2021-12-17 19:08:05 (INFO): Writing results to ./results/2021-12-17-14-33-20-SchNet-example/is2re_predictions.npz\n"
     ]
    },
    {
     "name": "stderr",
     "output_type": "stream",
     "text": [
      "\n"
     ]
    },
    {
     "name": "stdout",
     "output_type": "stream",
     "text": [
      "energy_mae: 7.84e-01, energy_mse: 1.34e+00, energy_within_threshold: 1.56e-02, loss: 7.84e-01, lr: 5.00e-06, epoch: 2.80e+01, step: 4.40e+03\n",
      "energy_mae: 8.86e-01, energy_mse: 1.52e+00, energy_within_threshold: 4.69e-02, loss: 8.86e-01, lr: 5.00e-06, epoch: 2.81e+01, step: 4.40e+03\n",
      "energy_mae: 9.91e-01, energy_mse: 1.87e+00, energy_within_threshold: 6.25e-02, loss: 9.91e-01, lr: 5.00e-06, epoch: 2.81e+01, step: 4.41e+03\n",
      "energy_mae: 6.98e-01, energy_mse: 7.58e-01, energy_within_threshold: 0.00e+00, loss: 6.98e-01, lr: 5.00e-06, epoch: 2.81e+01, step: 4.42e+03\n",
      "energy_mae: 6.71e-01, energy_mse: 1.28e+00, energy_within_threshold: 4.69e-02, loss: 6.71e-01, lr: 5.00e-06, epoch: 2.82e+01, step: 4.42e+03\n",
      "energy_mae: 7.96e-01, energy_mse: 1.32e+00, energy_within_threshold: 1.56e-02, loss: 7.96e-01, lr: 5.00e-06, epoch: 2.82e+01, step: 4.42e+03\n",
      "energy_mae: 1.07e+00, energy_mse: 2.23e+00, energy_within_threshold: 1.56e-02, loss: 1.07e+00, lr: 5.00e-06, epoch: 2.82e+01, step: 4.43e+03\n",
      "energy_mae: 6.57e-01, energy_mse: 7.24e-01, energy_within_threshold: 0.00e+00, loss: 6.57e-01, lr: 5.00e-06, epoch: 2.82e+01, step: 4.44e+03\n",
      "energy_mae: 6.89e-01, energy_mse: 1.04e+00, energy_within_threshold: 4.69e-02, loss: 6.89e-01, lr: 5.00e-06, epoch: 2.83e+01, step: 4.44e+03\n",
      "energy_mae: 7.47e-01, energy_mse: 1.08e+00, energy_within_threshold: 1.56e-02, loss: 7.47e-01, lr: 5.00e-06, epoch: 2.83e+01, step: 4.44e+03\n",
      "energy_mae: 8.28e-01, energy_mse: 1.06e+00, energy_within_threshold: 1.56e-02, loss: 8.28e-01, lr: 5.00e-06, epoch: 2.83e+01, step: 4.45e+03\n",
      "energy_mae: 9.64e-01, energy_mse: 2.40e+00, energy_within_threshold: 0.00e+00, loss: 9.64e-01, lr: 5.00e-06, epoch: 2.84e+01, step: 4.46e+03\n",
      "energy_mae: 8.88e-01, energy_mse: 1.64e+00, energy_within_threshold: 0.00e+00, loss: 8.88e-01, lr: 5.00e-06, epoch: 2.84e+01, step: 4.46e+03\n",
      "energy_mae: 8.77e-01, energy_mse: 1.51e+00, energy_within_threshold: 0.00e+00, loss: 8.77e-01, lr: 5.00e-06, epoch: 2.84e+01, step: 4.46e+03\n",
      "energy_mae: 9.58e-01, energy_mse: 2.04e+00, energy_within_threshold: 1.56e-02, loss: 9.58e-01, lr: 5.00e-06, epoch: 2.85e+01, step: 4.47e+03\n",
      "energy_mae: 8.75e-01, energy_mse: 1.64e+00, energy_within_threshold: 3.12e-02, loss: 8.75e-01, lr: 5.00e-06, epoch: 2.85e+01, step: 4.48e+03\n",
      "energy_mae: 9.50e-01, energy_mse: 2.01e+00, energy_within_threshold: 0.00e+00, loss: 9.50e-01, lr: 5.00e-06, epoch: 2.85e+01, step: 4.48e+03\n",
      "energy_mae: 7.22e-01, energy_mse: 1.01e+00, energy_within_threshold: 3.12e-02, loss: 7.22e-01, lr: 5.00e-06, epoch: 2.86e+01, step: 4.48e+03\n",
      "energy_mae: 7.48e-01, energy_mse: 9.83e-01, energy_within_threshold: 3.12e-02, loss: 7.48e-01, lr: 5.00e-06, epoch: 2.86e+01, step: 4.49e+03\n",
      "energy_mae: 9.51e-01, energy_mse: 2.38e+00, energy_within_threshold: 1.56e-02, loss: 9.51e-01, lr: 5.00e-06, epoch: 2.86e+01, step: 4.50e+03\n",
      "energy_mae: 9.06e-01, energy_mse: 1.59e+00, energy_within_threshold: 4.69e-02, loss: 9.06e-01, lr: 5.00e-06, epoch: 2.87e+01, step: 4.50e+03\n",
      "energy_mae: 7.58e-01, energy_mse: 1.01e+00, energy_within_threshold: 3.12e-02, loss: 7.58e-01, lr: 5.00e-06, epoch: 2.87e+01, step: 4.50e+03\n",
      "energy_mae: 6.14e-01, energy_mse: 8.70e-01, energy_within_threshold: 1.56e-02, loss: 6.14e-01, lr: 5.00e-06, epoch: 2.87e+01, step: 4.51e+03\n",
      "energy_mae: 8.89e-01, energy_mse: 2.00e+00, energy_within_threshold: 1.56e-02, loss: 8.89e-01, lr: 5.00e-06, epoch: 2.88e+01, step: 4.52e+03\n",
      "energy_mae: 7.87e-01, energy_mse: 1.17e+00, energy_within_threshold: 3.12e-02, loss: 7.87e-01, lr: 5.00e-06, epoch: 2.88e+01, step: 4.52e+03\n",
      "energy_mae: 7.68e-01, energy_mse: 1.11e+00, energy_within_threshold: 6.25e-02, loss: 7.68e-01, lr: 5.00e-06, epoch: 2.88e+01, step: 4.52e+03\n",
      "energy_mae: 8.25e-01, energy_mse: 1.49e+00, energy_within_threshold: 3.12e-02, loss: 8.25e-01, lr: 5.00e-06, epoch: 2.89e+01, step: 4.53e+03\n",
      "energy_mae: 5.79e-01, energy_mse: 7.01e-01, energy_within_threshold: 1.56e-02, loss: 5.79e-01, lr: 5.00e-06, epoch: 2.89e+01, step: 4.54e+03\n",
      "energy_mae: 7.71e-01, energy_mse: 1.42e+00, energy_within_threshold: 1.56e-02, loss: 7.71e-01, lr: 5.00e-06, epoch: 2.89e+01, step: 4.54e+03\n",
      "energy_mae: 9.28e-01, energy_mse: 1.73e+00, energy_within_threshold: 1.56e-02, loss: 9.28e-01, lr: 5.00e-06, epoch: 2.89e+01, step: 4.54e+03\n",
      "energy_mae: 6.25e-01, energy_mse: 9.01e-01, energy_within_threshold: 3.12e-02, loss: 6.25e-01, lr: 5.00e-06, epoch: 2.90e+01, step: 4.55e+03\n",
      "2021-12-17 19:13:30 (INFO): Evaluating on val.\n"
     ]
    },
    {
     "name": "stderr",
     "output_type": "stream",
     "text": [
      "device 0: 100%|███████████████████████████████| 157/157 [02:55<00:00,  1.12s/it]"
     ]
    },
    {
     "name": "stdout",
     "output_type": "stream",
     "text": [
      "2021-12-17 19:16:26 (INFO): energy_mae: 0.8250, energy_mse: 1.4968, energy_within_threshold: 0.0274, loss: 0.8244, epoch: 29.0000\n",
      "2021-12-17 19:16:26 (INFO): Predicting on test.\n"
     ]
    },
    {
     "name": "stderr",
     "output_type": "stream",
     "text": [
      "\n",
      "device 0: 100%|███████████████████████████████| 157/157 [02:53<00:00,  1.11s/it]"
     ]
    },
    {
     "name": "stdout",
     "output_type": "stream",
     "text": [
      "2021-12-17 19:19:20 (INFO): Writing results to ./results/2021-12-17-14-33-20-SchNet-example/is2re_predictions.npz\n"
     ]
    },
    {
     "name": "stderr",
     "output_type": "stream",
     "text": [
      "\n"
     ]
    },
    {
     "name": "stdout",
     "output_type": "stream",
     "text": [
      "energy_mae: 6.94e-01, energy_mse: 1.07e+00, energy_within_threshold: 1.56e-02, loss: 6.94e-01, lr: 5.00e-06, epoch: 2.90e+01, step: 4.56e+03\n",
      "energy_mae: 5.94e-01, energy_mse: 7.31e-01, energy_within_threshold: 3.12e-02, loss: 5.94e-01, lr: 5.00e-06, epoch: 2.90e+01, step: 4.56e+03\n",
      "energy_mae: 9.17e-01, energy_mse: 2.05e+00, energy_within_threshold: 1.56e-02, loss: 9.17e-01, lr: 5.00e-06, epoch: 2.91e+01, step: 4.56e+03\n",
      "energy_mae: 8.01e-01, energy_mse: 1.28e+00, energy_within_threshold: 4.69e-02, loss: 8.01e-01, lr: 5.00e-06, epoch: 2.91e+01, step: 4.57e+03\n",
      "energy_mae: 7.50e-01, energy_mse: 1.15e+00, energy_within_threshold: 3.12e-02, loss: 7.50e-01, lr: 5.00e-06, epoch: 2.91e+01, step: 4.58e+03\n",
      "energy_mae: 7.53e-01, energy_mse: 1.25e+00, energy_within_threshold: 4.69e-02, loss: 7.53e-01, lr: 5.00e-06, epoch: 2.92e+01, step: 4.58e+03\n",
      "energy_mae: 8.70e-01, energy_mse: 1.60e+00, energy_within_threshold: 3.12e-02, loss: 8.70e-01, lr: 5.00e-06, epoch: 2.92e+01, step: 4.58e+03\n",
      "energy_mae: 9.74e-01, energy_mse: 2.30e+00, energy_within_threshold: 4.69e-02, loss: 9.74e-01, lr: 5.00e-06, epoch: 2.92e+01, step: 4.59e+03\n",
      "energy_mae: 6.98e-01, energy_mse: 8.42e-01, energy_within_threshold: 1.56e-02, loss: 6.98e-01, lr: 5.00e-06, epoch: 2.93e+01, step: 4.60e+03\n",
      "energy_mae: 7.51e-01, energy_mse: 1.05e+00, energy_within_threshold: 0.00e+00, loss: 7.51e-01, lr: 5.00e-06, epoch: 2.93e+01, step: 4.60e+03\n",
      "energy_mae: 8.41e-01, energy_mse: 1.26e+00, energy_within_threshold: 1.56e-02, loss: 8.41e-01, lr: 5.00e-06, epoch: 2.93e+01, step: 4.60e+03\n",
      "energy_mae: 7.94e-01, energy_mse: 1.13e+00, energy_within_threshold: 3.12e-02, loss: 7.94e-01, lr: 5.00e-06, epoch: 2.94e+01, step: 4.61e+03\n",
      "energy_mae: 7.63e-01, energy_mse: 1.10e+00, energy_within_threshold: 3.12e-02, loss: 7.63e-01, lr: 5.00e-06, epoch: 2.94e+01, step: 4.62e+03\n",
      "energy_mae: 7.05e-01, energy_mse: 1.01e+00, energy_within_threshold: 4.69e-02, loss: 7.05e-01, lr: 5.00e-06, epoch: 2.94e+01, step: 4.62e+03\n",
      "energy_mae: 1.17e+00, energy_mse: 2.88e+00, energy_within_threshold: 0.00e+00, loss: 1.17e+00, lr: 5.00e-06, epoch: 2.95e+01, step: 4.62e+03\n",
      "energy_mae: 6.61e-01, energy_mse: 9.27e-01, energy_within_threshold: 6.25e-02, loss: 6.61e-01, lr: 5.00e-06, epoch: 2.95e+01, step: 4.63e+03\n",
      "energy_mae: 7.41e-01, energy_mse: 1.08e+00, energy_within_threshold: 1.56e-02, loss: 7.41e-01, lr: 5.00e-06, epoch: 2.95e+01, step: 4.64e+03\n",
      "energy_mae: 7.95e-01, energy_mse: 1.30e+00, energy_within_threshold: 4.69e-02, loss: 7.95e-01, lr: 5.00e-06, epoch: 2.96e+01, step: 4.64e+03\n",
      "energy_mae: 7.20e-01, energy_mse: 8.57e-01, energy_within_threshold: 1.56e-02, loss: 7.20e-01, lr: 5.00e-06, epoch: 2.96e+01, step: 4.64e+03\n",
      "energy_mae: 8.07e-01, energy_mse: 1.24e+00, energy_within_threshold: 3.12e-02, loss: 8.07e-01, lr: 5.00e-06, epoch: 2.96e+01, step: 4.65e+03\n",
      "energy_mae: 7.15e-01, energy_mse: 9.69e-01, energy_within_threshold: 0.00e+00, loss: 7.15e-01, lr: 5.00e-06, epoch: 2.96e+01, step: 4.66e+03\n",
      "energy_mae: 7.97e-01, energy_mse: 1.17e+00, energy_within_threshold: 1.56e-02, loss: 7.97e-01, lr: 5.00e-06, epoch: 2.97e+01, step: 4.66e+03\n",
      "energy_mae: 7.26e-01, energy_mse: 1.00e+00, energy_within_threshold: 0.00e+00, loss: 7.26e-01, lr: 5.00e-06, epoch: 2.97e+01, step: 4.66e+03\n",
      "energy_mae: 7.57e-01, energy_mse: 1.05e+00, energy_within_threshold: 0.00e+00, loss: 7.57e-01, lr: 5.00e-06, epoch: 2.97e+01, step: 4.67e+03\n",
      "energy_mae: 7.59e-01, energy_mse: 1.10e+00, energy_within_threshold: 3.12e-02, loss: 7.59e-01, lr: 5.00e-06, epoch: 2.98e+01, step: 4.68e+03\n",
      "energy_mae: 9.04e-01, energy_mse: 1.77e+00, energy_within_threshold: 3.12e-02, loss: 9.04e-01, lr: 5.00e-06, epoch: 2.98e+01, step: 4.68e+03\n",
      "energy_mae: 7.73e-01, energy_mse: 1.07e+00, energy_within_threshold: 1.56e-02, loss: 7.73e-01, lr: 5.00e-06, epoch: 2.98e+01, step: 4.68e+03\n",
      "energy_mae: 7.79e-01, energy_mse: 1.39e+00, energy_within_threshold: 1.56e-02, loss: 7.79e-01, lr: 5.00e-06, epoch: 2.99e+01, step: 4.69e+03\n",
      "energy_mae: 1.08e+00, energy_mse: 2.63e+00, energy_within_threshold: 0.00e+00, loss: 1.08e+00, lr: 5.00e-06, epoch: 2.99e+01, step: 4.70e+03\n",
      "energy_mae: 7.36e-01, energy_mse: 1.05e+00, energy_within_threshold: 0.00e+00, loss: 7.36e-01, lr: 5.00e-06, epoch: 2.99e+01, step: 4.70e+03\n",
      "energy_mae: 7.29e-01, energy_mse: 9.31e-01, energy_within_threshold: 0.00e+00, loss: 7.29e-01, lr: 5.00e-06, epoch: 3.00e+01, step: 4.70e+03\n",
      "energy_mae: 1.36e+00, energy_mse: 3.53e+00, energy_within_threshold: 0.00e+00, loss: 1.36e+00, lr: 5.00e-06, epoch: 3.00e+01, step: 4.71e+03\n",
      "2021-12-17 19:26:04 (INFO): Evaluating on val.\n"
     ]
    },
    {
     "name": "stderr",
     "output_type": "stream",
     "text": [
      "device 0: 100%|███████████████████████████████| 157/157 [03:17<00:00,  1.26s/it]"
     ]
    },
    {
     "name": "stdout",
     "output_type": "stream",
     "text": [
      "2021-12-17 19:29:22 (INFO): energy_mae: 0.8264, energy_mse: 1.5034, energy_within_threshold: 0.0204, loss: 0.8258, epoch: 30.0000\n"
     ]
    },
    {
     "name": "stderr",
     "output_type": "stream",
     "text": [
      "\n"
     ]
    }
   ],
   "source": [
    "trainer.train()"
   ]
  },
  {
   "cell_type": "markdown",
   "metadata": {},
   "source": [
    "### Load Checkpoint\n",
    "Once training has completed a `Trainer` class, by default, is loaded with the best checkpoint as determined by training or validation (if available) metrics. To load a `Trainer` class directly with a pretrained model, specify the `checkpoint_path` as defined by your previously trained model (`checkpoint_dir`):"
   ]
  },
  {
   "cell_type": "code",
   "execution_count": 32,
   "metadata": {},
   "outputs": [
    {
     "data": {
      "text/plain": [
       "'./checkpoints/2021-12-17-14-33-20-SchNet-example/checkpoint.pt'"
      ]
     },
     "execution_count": 32,
     "metadata": {},
     "output_type": "execute_result"
    }
   ],
   "source": [
    "checkpoint_path = os.path.join(trainer.config[\"cmd\"][\"checkpoint_dir\"], \"checkpoint.pt\")\n",
    "checkpoint_path"
   ]
  },
  {
   "cell_type": "code",
   "execution_count": 36,
   "metadata": {},
   "outputs": [
    {
     "name": "stdout",
     "output_type": "stream",
     "text": [
      "amp: false\n",
      "cmd:\n",
      "  checkpoint_dir: ./checkpoints/2021-12-17-22-39-44-SchNet-example\n",
      "  commit: null\n",
      "  identifier: SchNet-example\n",
      "  logs_dir: ./logs/tensorboard/2021-12-17-22-39-44-SchNet-example\n",
      "  print_every: 10\n",
      "  results_dir: ./results/2021-12-17-22-39-44-SchNet-example\n",
      "  seed: 0\n",
      "  timestamp_id: 2021-12-17-22-39-44-SchNet-example\n",
      "dataset:\n",
      "  normalize_labels: false\n",
      "  src: /Users/ssharlin/Desktop/Fall 2021/CMSC 678/ML project/is2res_train_val_test_lmdbs/data/is2re/10k/train/data.lmdb\n",
      "gpus: 0\n",
      "logger: tensorboard\n",
      "model: schnet\n",
      "model_attributes:\n",
      "  cutoff: 6.0\n",
      "  hidden_channels: 256\n",
      "  num_filters: 128\n",
      "  num_gaussians: 100\n",
      "  num_interactions: 3\n",
      "optim:\n",
      "  batch_size: 64\n",
      "  eval_batch_size: 64\n",
      "  lr_gamma: 0.1\n",
      "  lr_initial: 0.005\n",
      "  lr_milestones:\n",
      "  - 1562\n",
      "  - 2343\n",
      "  - 3125\n",
      "  max_epochs: 30\n",
      "  num_workers: 0\n",
      "  warmup_factor: 0.2\n",
      "  warmup_steps: 468\n",
      "slurm: {}\n",
      "task:\n",
      "  dataset: single_point_lmdb\n",
      "  description: Regressing to energies and forces for DFT trajectories from OCP\n",
      "  eval_on_free_atoms: true\n",
      "  grad_input: atomic forces\n",
      "  labels:\n",
      "  - potential energy\n",
      "  metric: mae\n",
      "  train_on_free_atoms: true\n",
      "  type: regression\n",
      "test_dataset:\n",
      "  src: /Users/ssharlin/Desktop/Fall 2021/CMSC 678/ML project/is2res_train_val_test_lmdbs/data/is2re/10k/train/data.lmdb\n",
      "val_dataset:\n",
      "  src: /Users/ssharlin/Desktop/Fall 2021/CMSC 678/ML project/is2res_train_val_test_lmdbs/data/is2re/10k/train/data.lmdb\n",
      "\n",
      "2021-12-17 22:39:55 (INFO): Loading dataset: single_point_lmdb\n",
      "2021-12-17 22:39:55 (INFO): Loading model: schnet\n",
      "2021-12-17 22:39:55 (INFO): Loaded SchNetWrap with 541697 parameters.\n"
     ]
    },
    {
     "name": "stderr",
     "output_type": "stream",
     "text": [
      "fatal: Not a valid object name HEAD\n",
      "2021-12-17 22:39:55 (WARNING): Model gradient logging to tensorboard not yet supported.\n"
     ]
    },
    {
     "name": "stdout",
     "output_type": "stream",
     "text": [
      "2021-12-17 22:39:55 (INFO): Loading checkpoint from: ./checkpoints/2021-12-17-14-33-20-SchNet-example/checkpoint.pt\n"
     ]
    }
   ],
   "source": [
    "model = {\n",
    "    'name': 'schnet',\n",
    "    'hidden_channels': 256, # if training is too slow for example purposes reduce the number of hidden channels\n",
    "    'num_filters': 128,\n",
    "    'num_interactions': 3,\n",
    "    'num_gaussians': 100,\n",
    "    'cutoff': 6.0\n",
    "}\n",
    "\n",
    "\n",
    "pretrained_trainer = EnergyTrainer(\n",
    "    task=task,\n",
    "    model=model,\n",
    "    dataset=dataset,\n",
    "    optimizer=optimizer,\n",
    "    identifier=\"SchNet-example\",\n",
    "    run_dir=\"./\", # directory to save results if is_debug=False. Prediction files are saved here so be careful not to override!\n",
    "    is_debug=False, # if True, do not save checkpoint, logs, or results\n",
    "    is_vis=False,\n",
    "    print_every=10,\n",
    "    seed=0, # random seed to use\n",
    "    logger=\"tensorboard\", # logger of choice (tensorboard and wandb supported)\n",
    "    local_rank=0,\n",
    "    amp=False, # use PyTorch Automatic Mixed Precision (faster training and less memory usage)\n",
    ")\n",
    "\n",
    "pretrained_trainer.load_checkpoint(checkpoint_path=checkpoint_path)"
   ]
  },
  {
   "cell_type": "markdown",
   "metadata": {},
   "source": [
    "## Predict"
   ]
  },
  {
   "cell_type": "markdown",
   "metadata": {},
   "source": [
    "If a test has been provided in your config, predictions are generated and written to disk automatically upon training completion. Otherwise, to make predictions on unseen data a `torch.utils.data` DataLoader object must be constructed. Here we reference our test set to make predictions on. Predictions are saved in `{results_file}.npz` in your `results_dir`."
   ]
  },
  {
   "cell_type": "code",
   "execution_count": null,
   "metadata": {},
   "outputs": [],
   "source": []
  }
 ],
 "metadata": {
  "kernelspec": {
   "display_name": "Python 3 (ipykernel)",
   "language": "python",
   "name": "python3"
  },
  "language_info": {
   "codemirror_mode": {
    "name": "ipython",
    "version": 3
   },
   "file_extension": ".py",
   "mimetype": "text/x-python",
   "name": "python",
   "nbconvert_exporter": "python",
   "pygments_lexer": "ipython3",
   "version": "3.8.12"
  }
 },
 "nbformat": 4,
 "nbformat_minor": 4
}
