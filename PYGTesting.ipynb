{
 "cells": [
  {
   "cell_type": "code",
   "execution_count": 1,
   "id": "4a8374b6-ac59-4ef9-81c2-a26f00d5888c",
   "metadata": {},
   "outputs": [],
   "source": [
    "import torch\n",
    "import torch_geometric\n",
    "from torch_geometric.data import Data\n",
    "\n",
    "edge_index = torch.tensor([[0, 1, 1, 2],\n",
    "                           [1, 0, 2, 1]], dtype=torch.long)\n",
    "x = torch.tensor([[-1], [0], [1]], dtype=torch.float)\n",
    "\n",
    "data = Data(x=x, edge_index=edge_index)"
   ]
  },
  {
   "cell_type": "code",
   "execution_count": 2,
   "id": "7756d99c-5fe0-4772-a1e6-3bdaf0e546f0",
   "metadata": {},
   "outputs": [],
   "source": [
    "from torch_geometric.datasets import TUDataset\n",
    "\n",
    "dataset = TUDataset(root='/tmp/ENZYMES', name='ENZYMES')"
   ]
  },
  {
   "cell_type": "code",
   "execution_count": 3,
   "id": "188866a4-28e0-4338-8b87-2c0fefaafa4b",
   "metadata": {},
   "outputs": [
    {
     "name": "stdout",
     "output_type": "stream",
     "text": [
      "shapes of list of edges, list of nodes w/ features and of class to predict\n",
      "Data(edge_index=[2, 168], x=[37, 3], y=[1])\n",
      "data is undirected? True\n",
      "data has self loops? False\n"
     ]
    }
   ],
   "source": [
    "data = dataset[0]\n",
    "print(\"shapes of list of edges, list of nodes w/ features and of class to predict\")\n",
    "print(data)\n",
    "print(\"data is undirected?\", data.is_undirected())\n",
    "print(\"data has self loops?\", data.contains_self_loops())"
   ]
  },
  {
   "cell_type": "code",
   "execution_count": null,
   "id": "6d2f71d0-8c1f-427e-a329-fd0d22998232",
   "metadata": {},
   "outputs": [],
   "source": [
    "import networkx as nx\n",
    "import torch_geometric\n",
    "g = torch_geometric.utils.to_networkx(data, to_undirected=True)\n",
    "nx.draw(g)"
   ]
  },
  {
   "cell_type": "code",
   "execution_count": 5,
   "id": "9b6067a3-f9f0-492a-9d9a-c7261aa4817e",
   "metadata": {},
   "outputs": [],
   "source": [
    "from torch_geometric.datasets import Planetoid\n",
    "\n",
    "dataset = Planetoid(root='/tmp/Cora', name='Cora')"
   ]
  },
  {
   "cell_type": "code",
   "execution_count": 6,
   "id": "7792d619-df53-4d18-996b-bc6e56058bf6",
   "metadata": {},
   "outputs": [
    {
     "data": {
      "image/png": "[encoded data removed]",
      "text/plain": [
       "<Figure size 432x288 with 1 Axes>"
      ]
     },
     "metadata": {},
     "output_type": "display_data"
    }
   ],
   "source": [
    "import networkx as nx\n",
    "import torch_geometric\n",
    "g = torch_geometric.utils.to_networkx(dataset[0], to_undirected=True)\n",
    "nx.draw(g)"
   ]
  },
  {
   "cell_type": "code",
   "execution_count": 4,
   "id": "d98bdc1d-c04d-47fd-aed5-8a9be79f899f",
   "metadata": {},
   "outputs": [],
   "source": [
    "from ocpmodels.preprocessing import AtomsToGraphs\n",
    "from ocpmodels.datasets import SinglePointLmdbDataset, TrajectoryLmdbDataset\n",
    "import ase.io\n",
    "from ase.build import bulk\n",
    "from ase.build import fcc100, add_adsorbate, molecule\n",
    "from ase.constraints import FixAtoms\n",
    "from ase.calculators.emt import EMT\n",
    "from ase.optimize import BFGS\n",
    "import matplotlib.pyplot as plt\n",
    "import lmdb\n",
    "import pickle\n",
    "from tqdm import tqdm\n",
    "import torch\n",
    "import os"
   ]
  },
  {
   "cell_type": "code",
   "execution_count": 105,
   "id": "25f24351-bbf2-4574-b30e-2ca97c560b28",
   "metadata": {},
   "outputs": [
    {
     "name": "stdout",
     "output_type": "stream",
     "text": [
      "10000\n"
     ]
    }
   ],
   "source": [
    "# dataset at D:\\is2res_train_val_test_lmdbs\\data\\is2re\\10k\\train\n",
    "\n",
    "dataset = SinglePointLmdbDataset({\"src\": \"D:\\\\is2res_train_val_test_lmdbs\\\\data\\\\is2re\\\\10k\\\\train\\\\data.lmdb\"})\n",
    "print(len(dataset))"
   ]
  },
  {
   "cell_type": "code",
   "execution_count": 106,
   "id": "f9099aaf-121a-41d2-b437-7b3021fdb0e3",
   "metadata": {},
   "outputs": [
    {
     "name": "stdout",
     "output_type": "stream",
     "text": [
      "Data(atomic_numbers=[86], cell=[1, 3, 3], cell_offsets=[2964, 3], distances=[2964], edge_index=[2, 2964], fixed=[86], force=[86, 3], natoms=86, pos=[86, 3], pos_relaxed=[86, 3], sid=2472718, tags=[86], y_init=6.282500615000004, y_relaxed=-0.025550085000020317)\n"
     ]
    }
   ],
   "source": [
    "print(dataset[0])"
   ]
  },
  {
   "cell_type": "code",
   "execution_count": null,
   "id": "20c5122d-169d-4376-b051-187e2a972073",
   "metadata": {},
   "outputs": [],
   "source": [
    "from mpl_toolkits import mplot3d\n",
    "import numpy as np\n",
    "\n",
    "#print(dataset[0].pos)\n",
    "x = dataset[0].pos[:,0]\n",
    "y = dataset[0].pos[:,1]\n",
    "z = dataset[0].pos[:,2]\n",
    "\n",
    "# Creating figure\n",
    "fig = plt.figure(figsize = (10, 7))\n",
    "ax = plt.axes(projection =\"3d\")\n",
    " \n",
    "# Creating plot\n",
    "ax.scatter3D(x, y, z)\n",
    " \n",
    "# show plot\n",
    "plt.show()"
   ]
  },
  {
   "cell_type": "code",
   "execution_count": 7,
   "id": "b6fa6c84-0041-4452-8c00-3602e58c85d6",
   "metadata": {},
   "outputs": [],
   "source": [
    "symbols = [\"H\", \"He\", \"Li\", \"Be\", \"B\", \"C\", \"N\", \"O\", \"F\", \"Ne\", \"Na\", \"Mg\", \"Al\", \"Si\", \"P\", \"S\", \"Cl\", \"Ar\", \"K\", \"Ca\", \"Sc\", \"Ti\", \"V\", \"Cr\", \"Mn\", \"Fe\", \"Co\", \"Ni\", \"Cu\", \"Zn\", \"Ga\", \"Ge\", \"As\", \"Se\", \"Br\", \"Kr\", \"Rb\", \"Sr\", \"Y\", \"Zr\", \"Nb\", \"Mo\", \"Tc\", \"Ru\", \"Rh\", \"Pd\", \"Ag\", \"Cd\", \"In\", \"Sn\", \"Sb\", \"Te\", \"I\", \"Xe\", \"Cs\", \"Ba\", \"La\", \"Ce\", \"Pr\", \"Nd\", \"Pm\", \"Sm\", \"Eu\", \"Gd\", \"Tb\", \"Dy\", \"Ho\", \"Er\", \"Tm\", \"Yb\", \"Lu\", \"Hf\", \"Ta\", \"W\", \"Re\", \"Os\", \"Ir\", \"Pt\", \"Au\", \"Hg\", \"Tl\", \"Pb\", \"Bi\", \"Po\", \"At\", \"Rn\", \"Fr\", \"Ra\", \"Ac\", \"Th\", \"Pa\", \"U\", \"Np\", \"Pu\", \"Am\", \"Cm\", \"Bk\", \"Cf\", \"Es\", \"Fm\", \"Md\", \"No\", \"Lr\", \"Rf\", \"Db\", \"Sg\", \"Bh\", \"Hs\", \"Mt\", \"Ds\", \"Rg\", \"Cn\", \"Uut\", \"Fl\", \"Uup\", \"Lv\", \"Uus\", \"Uuo\"]"
   ]
  },
  {
   "cell_type": "code",
   "execution_count": 12,
   "id": "1ef69868-4257-4be6-9eee-5665dbe6e6b1",
   "metadata": {},
   "outputs": [
    {
     "name": "stdout",
     "output_type": "stream",
     "text": [
      "Data(atomic_numbers=[86], cell=[1, 3, 3], cell_offsets=[2964, 3], distances=[2964], edge_index=[2, 2964], fixed=[86], force=[86, 3], natoms=86, pos=[86, 3], pos_relaxed=[86, 3], sid=2472718, tags=[86], y_init=6.282500615000004, y_relaxed=-0.025550085000020317)\n"
     ]
    },
    {
     "data": {
      "text/plain": [
       "<subprocess.Popen at 0x1d61ab55f10>"
      ]
     },
     "execution_count": 12,
     "metadata": {},
     "output_type": "execute_result"
    }
   ],
   "source": [
    "from ase.io import read\n",
    "from ase.visualize import view\n",
    "\n",
    "i = 0\n",
    "print(dataset[i])\n",
    "\n",
    "x = dataset[i].pos[:,0]\n",
    "y = dataset[i].pos[:,1]\n",
    "z = dataset[i].pos[:,2]\n",
    "atom = dataset[i].atomic_numbers\n",
    "\n",
    "f = open(\"adsPicture.xyz\", \"w\")\n",
    "f.write(str(len(atom))+\"\\n\")\n",
    "for i in range(len(atom)):\n",
    "    f.write(\"\\n{}\\t {}\\t {}\\t {}\".format(symbols[int(atom[i])-1],x[i],y[i],z[i]))\n",
    "f.close()\n",
    "\n",
    "\n",
    "pic = read(\"adsPicture.xyz\")\n",
    "view(pic)"
   ]
  },
  {
   "cell_type": "code",
   "execution_count": 8,
   "id": "b83e9292-a668-422b-a174-8551aaa0d0c1",
   "metadata": {},
   "outputs": [
    {
     "name": "stdout",
     "output_type": "stream",
     "text": [
      "Data(atomic_numbers=[86], cell=[1, 3, 3], cell_offsets=[2964, 3], distances=[2964], edge_index=[2, 2964], fixed=[86], force=[86, 3], natoms=86, pos=[86, 3], pos_relaxed=[86, 3], sid=2472718, tags=[86], y_init=6.282500615000004, y_relaxed=-0.025550085000020317)\n"
     ]
    }
   ],
   "source": [
    "print(dataset[0])"
   ]
  },
  {
   "cell_type": "code",
   "execution_count": 127,
   "id": "5d509b66-020d-41e0-a439-7c7622eaa57e",
   "metadata": {},
   "outputs": [
    {
     "name": "stdout",
     "output_type": "stream",
     "text": [
      "10000\n"
     ]
    }
   ],
   "source": [
    "from torch_geometric.data import DataLoader\n",
    "print(len(dataset))\n",
    "train_loader = DataLoader(dataset, batch_size=64, shuffle=True)"
   ]
  },
  {
   "cell_type": "code",
   "execution_count": 128,
   "id": "9a391563-3e26-478e-bd15-a2e339904dfa",
   "metadata": {},
   "outputs": [],
   "source": [
    "import torch\n",
    "import torch.nn.functional as F\n",
    "from torch_geometric.nn import GCNConv\n",
    "\n",
    "class GCN(torch.nn.Module):\n",
    "    def __init__(self):\n",
    "        super().__init__()\n",
    "        self.conv1 = GCNConv(3, 16)\n",
    "        self.conv2 = GCNConv(16, 3)\n",
    "\n",
    "    def forward(self, data):\n",
    "        x, edge_index = data.pos, data.edge_index\n",
    "\n",
    "        x = self.conv1(x, edge_index)\n",
    "        x = F.relu(x)\n",
    "        x = F.dropout(x, training=self.training)\n",
    "        x = self.conv2(x, edge_index)\n",
    "\n",
    "        return F.log_softmax(x, dim=1)"
   ]
  },
  {
   "cell_type": "code",
   "execution_count": 206,
   "id": "821be721-2275-4ee3-bc9a-edc46120fd50",
   "metadata": {},
   "outputs": [],
   "source": [
    "from torch_geometric.nn import MessagePassing, global_mean_pool\n",
    "from torch_geometric.utils import add_self_loops, degree\n",
    "from ocpmodels.datasets.embeddings import KHOT_EMBEDDINGS, QMOF_KHOT_EMBEDDINGS, ATOMIC_RADII\n",
    "\n",
    "class messageLayer(MessagePassing):\n",
    "    \n",
    "    def __init__(self, my_node_dim, edge_dim):\n",
    "        super(messageLayer, self).__init__(aggr=\"mean\", node_dim=-2)\n",
    "        self.my_node_dim = my_node_dim\n",
    "        self.edge_dim = edge_dim\n",
    "        \n",
    "        self.msg1 = nn.Linear(2*self.my_node_dim + self.edge_dim, self.my_node_dim)\n",
    "        self.msg2 = nn.Linear(self.my_node_dim, self.my_node_dim)\n",
    "        \n",
    "    def forward(self, x_emb, x_rad, edge_index, edge_attr, energy):\n",
    "        num_nodes = x_emb.shape[0]\n",
    "        #print(\"num_nodes =\", num_nodes)\n",
    "        \n",
    "        # Step 1: Add self-loops to the adjacency matrix.\n",
    "        #edge_index, _ = add_self_loops(edge_index, num_nodes=num_nodes)\n",
    "        \n",
    "        #print(\"x.shape =\", x_emb.shape)\n",
    "        #print(\"x.size(0) =\", x_emb.size(0))\n",
    "        #print(\"edge_index =\", edge_index.shape)\n",
    "        #print(\"edge_attr =\", edge_attr.shape)\n",
    "        #print(energy.shape)\n",
    "        x = torch.cat([x_emb, x_rad, energy], dim=1)\n",
    "        return self.propagate(edge_index, x=x, edge_attr=edge_attr, size=(x.size(0), x.size(0)))\n",
    "        \n",
    "    def message(self, x_i, x_j, edge_attr):\n",
    "        #print(x_i.shape)\n",
    "        #print(x_j.shape)\n",
    "        edge_attr = edge_attr.view(edge_attr.size(0), 1)\n",
    "        #print(edge_attr.shape)\n",
    "        z = self.msg1(torch.cat([x_i, x_j, edge_attr], dim=1))\n",
    "        z = F.leaky_relu(z)\n",
    "        z = self.msg2(z)\n",
    "        return z\n",
    "    \n",
    "    def update(self, aggr_out):\n",
    "        return aggr_out\n",
    "        "
   ]
  },
  {
   "cell_type": "code",
   "execution_count": 223,
   "id": "9ae8dbc1-edd0-4283-9dd3-493d50461180",
   "metadata": {},
   "outputs": [],
   "source": [
    "from torch import nn\n",
    "\n",
    "class messageGNN(torch.nn.Module):\n",
    "    \n",
    "    def __init__(self, atom_embedding_size, edge_embedding_size):\n",
    "        super(messageGNN, self).__init__()\n",
    "        \n",
    "        self.atom_embedding_size = atom_embedding_size\n",
    "        self.edge_embedding_size = edge_embedding_size\n",
    "        \n",
    "        # atomic radii\n",
    "        radii = ATOMIC_RADII\n",
    "        self.radii = torch.zeros(101, 1)\n",
    "        for i in range(101): \n",
    "            self.radii[i] = torch.tensor(radii[i])\n",
    "        \n",
    "        # get embeddings list\n",
    "        embeddings = KHOT_EMBEDDINGS\n",
    "        # create copy of embeddings as torch tensor\n",
    "        self.embedding = torch.zeros(100, len(embeddings[1]))\n",
    "        for i in range(100):\n",
    "            # don't forget that elements start at 1 \n",
    "            self.embedding[i] = torch.tensor(embeddings[i + 1])\n",
    "        # learnable layer to compress embedding\n",
    "        self.embedding_fc1 = nn.Linear(len(embeddings[1]), self.atom_embedding_size)\n",
    "        self.embedding_fc2 = nn.Linear(self.atom_embedding_size, self.atom_embedding_size)\n",
    "        \n",
    "        #print(self.atom_embedding_size)\n",
    "        #print(self.edge_embedding_size)\n",
    "        self.msg1 = messageLayer(self.atom_embedding_size + 1 + 1, self.edge_embedding_size)\n",
    "        \n",
    "        self.lin1 = nn.Linear(self.atom_embedding_size + 1 + 3 + 1, self.atom_embedding_size)\n",
    "        self.linOut = nn.Linear(self.atom_embedding_size, 3)\n",
    "        \n",
    "        self.eng1 = nn.Linear(self.atom_embedding_size + 1 + 1, self.atom_embedding_size)\n",
    "        self.engOut = nn.Linear(self.atom_embedding_size, 1)\n",
    "        \n",
    "    def forward(self, data):\n",
    "        #print(data)\n",
    "        # get attributes from data\n",
    "        x_atom, x_pos = data.atomic_numbers, data.pos\n",
    "        edge_index, edge_dist = data.edge_index, data.distances\n",
    "        batch = data.batch\n",
    "        energy = data.y_init\n",
    "        #print(\"x_atom.shape =\", x_atom.shape)\n",
    "        #print(\"batch.shape =\", batch.shape)\n",
    "        #print(\"energy.shape =\", energy.shape)\n",
    "        energyCopy = energy.clone().detach().numpy()\n",
    "        energy = torch.zeros(batch.shape[0], 1)\n",
    "        j = 0\n",
    "        for i in batch:\n",
    "            energy[j] = torch.tensor(energyCopy[i])\n",
    "            j += 1\n",
    "        #print(\"energies.shape =\", energies.shape)\n",
    "        \n",
    "        # find condensed embeddings for atoms\n",
    "        # element number -> big embedding -> small embedding\n",
    "        x_emb = self.embedding_fc1(self.embedding[x_atom.long()])\n",
    "        x_emb = F.leaky_relu(x_emb)\n",
    "        x_emb = self.embedding_fc2(x_emb)\n",
    "        \n",
    "        # find radii \n",
    "        x_rad = self.radii[x_atom.long()]\n",
    "        #print(x_emb.shape)\n",
    "        #print(x_rad.shape)\n",
    "        \n",
    "        # do message passing with embeddings \n",
    "        x = self.msg1(x_emb, x_rad, edge_index, edge_dist, energy)\n",
    "        z = global_mean_pool(x, batch)\n",
    "        \n",
    "        # turn result from size of node embedding to size of goal\n",
    "        x = self.lin1(torch.cat([x, x_pos], dim=1))\n",
    "        x = F.leaky_relu(x)\n",
    "        x = self.linOut(x)\n",
    "        \n",
    "        # calculate total energy\n",
    "        #z = global_mean_pool(x, batch)\n",
    "        z = F.dropout(z, p=0.3, training=self.training)\n",
    "        z = self.eng1(z)\n",
    "        z = F.leaky_relu(z)\n",
    "        z = self.engOut(z)\n",
    "        \n",
    "        return x, z\n",
    "        "
   ]
  },
  {
   "cell_type": "code",
   "execution_count": 224,
   "id": "f1baae8f-1029-41a0-b2db-bdf8f36a0d33",
   "metadata": {},
   "outputs": [
    {
     "name": "stderr",
     "output_type": "stream",
     "text": [
      "C:\\Users\\ipunc\\AppData\\Local\\Temp/ipykernel_6600/2137216186.py:52: UserWarning: To copy construct from a tensor, it is recommended to use sourceTensor.clone().detach() or sourceTensor.clone().detach().requires_grad_(True), rather than torch.tensor(sourceTensor).\n",
      "  energy[j] = torch.tensor(energyCopy[i])\n"
     ]
    },
    {
     "name": "stdout",
     "output_type": "stream",
     "text": [
      "loss = 4128.027784472656 eng loss = 11664.455554296876\n",
      "loss = 325.5091760742188 eng loss = 9240.173178125\n",
      "loss = 182.26807817382812 eng loss = 9565.845580859375\n",
      "loss = 180.55560192871093 eng loss = 10031.427580859376\n",
      "loss = 179.99999150390624 eng loss = 10216.446145898437\n",
      "loss = 179.78672934570312 eng loss = 10342.21423359375\n",
      "loss = 179.48857747802734 eng loss = 10300.991773046875\n",
      "loss = 179.85551459960936 eng loss = 10364.3096859375\n",
      "loss = 179.6115073486328 eng loss = 10211.41513125\n",
      "loss = 179.5494567138672 eng loss = 10166.88345390625\n",
      "loss = 179.52657722167967 eng loss = 9959.480923046875\n",
      "loss = 178.81321557617187 eng loss = 9749.308491796875\n",
      "loss = 178.84955107421874 eng loss = 9900.646127734375\n",
      "loss = 178.80979702148437 eng loss = 9720.223628125\n",
      "loss = 178.9947372314453 eng loss = 9714.1207578125\n",
      "loss = 179.00353208007812 eng loss = 9301.112981640625\n"
     ]
    },
    {
     "ename": "KeyboardInterrupt",
     "evalue": "",
     "output_type": "error",
     "traceback": [
      "\u001b[1;31m---------------------------------------------------------------------------\u001b[0m",
      "\u001b[1;31mKeyboardInterrupt\u001b[0m                         Traceback (most recent call last)",
      "\u001b[1;32m~\\AppData\\Local\\Temp/ipykernel_6600/1994926906.py\u001b[0m in \u001b[0;36m<module>\u001b[1;34m\u001b[0m\n\u001b[0;32m     23\u001b[0m         \u001b[1;31m#print(loss.shape)\u001b[0m\u001b[1;33m\u001b[0m\u001b[1;33m\u001b[0m\u001b[1;33m\u001b[0m\u001b[0m\n\u001b[0;32m     24\u001b[0m         \u001b[1;31m#loss = torch.cdist(out, data.pos_relaxed)\u001b[0m\u001b[1;33m\u001b[0m\u001b[1;33m\u001b[0m\u001b[1;33m\u001b[0m\u001b[0m\n\u001b[1;32m---> 25\u001b[1;33m         \u001b[0mloss\u001b[0m\u001b[1;33m.\u001b[0m\u001b[0mbackward\u001b[0m\u001b[1;33m(\u001b[0m\u001b[1;33m)\u001b[0m\u001b[1;33m\u001b[0m\u001b[1;33m\u001b[0m\u001b[0m\n\u001b[0m\u001b[0;32m     26\u001b[0m         \u001b[0moptimizer\u001b[0m\u001b[1;33m.\u001b[0m\u001b[0mstep\u001b[0m\u001b[1;33m(\u001b[0m\u001b[1;33m)\u001b[0m\u001b[1;33m\u001b[0m\u001b[1;33m\u001b[0m\u001b[0m\n\u001b[0;32m     27\u001b[0m     \u001b[0mprint\u001b[0m\u001b[1;33m(\u001b[0m\u001b[1;34m\"loss =\"\u001b[0m\u001b[1;33m,\u001b[0m \u001b[0mtotalLoss\u001b[0m\u001b[1;33m/\u001b[0m\u001b[0mlen\u001b[0m\u001b[1;33m(\u001b[0m\u001b[0mdata\u001b[0m\u001b[1;33m.\u001b[0m\u001b[0mdataset\u001b[0m\u001b[1;33m)\u001b[0m\u001b[1;33m,\u001b[0m \u001b[1;34m\"eng loss =\"\u001b[0m\u001b[1;33m,\u001b[0m \u001b[0mtotalEngLoss\u001b[0m\u001b[1;33m/\u001b[0m\u001b[0mlen\u001b[0m\u001b[1;33m(\u001b[0m\u001b[0mdata\u001b[0m\u001b[1;33m.\u001b[0m\u001b[0mdataset\u001b[0m\u001b[1;33m)\u001b[0m\u001b[1;33m)\u001b[0m\u001b[1;33m\u001b[0m\u001b[1;33m\u001b[0m\u001b[0m\n",
      "\u001b[1;32m~\\anaconda3\\envs\\ocp-models\\lib\\site-packages\\torch\\tensor.py\u001b[0m in \u001b[0;36mbackward\u001b[1;34m(self, gradient, retain_graph, create_graph, inputs)\u001b[0m\n\u001b[0;32m    243\u001b[0m                 \u001b[0mcreate_graph\u001b[0m\u001b[1;33m=\u001b[0m\u001b[0mcreate_graph\u001b[0m\u001b[1;33m,\u001b[0m\u001b[1;33m\u001b[0m\u001b[1;33m\u001b[0m\u001b[0m\n\u001b[0;32m    244\u001b[0m                 inputs=inputs)\n\u001b[1;32m--> 245\u001b[1;33m         \u001b[0mtorch\u001b[0m\u001b[1;33m.\u001b[0m\u001b[0mautograd\u001b[0m\u001b[1;33m.\u001b[0m\u001b[0mbackward\u001b[0m\u001b[1;33m(\u001b[0m\u001b[0mself\u001b[0m\u001b[1;33m,\u001b[0m \u001b[0mgradient\u001b[0m\u001b[1;33m,\u001b[0m \u001b[0mretain_graph\u001b[0m\u001b[1;33m,\u001b[0m \u001b[0mcreate_graph\u001b[0m\u001b[1;33m,\u001b[0m \u001b[0minputs\u001b[0m\u001b[1;33m=\u001b[0m\u001b[0minputs\u001b[0m\u001b[1;33m)\u001b[0m\u001b[1;33m\u001b[0m\u001b[1;33m\u001b[0m\u001b[0m\n\u001b[0m\u001b[0;32m    246\u001b[0m \u001b[1;33m\u001b[0m\u001b[0m\n\u001b[0;32m    247\u001b[0m     \u001b[1;32mdef\u001b[0m \u001b[0mregister_hook\u001b[0m\u001b[1;33m(\u001b[0m\u001b[0mself\u001b[0m\u001b[1;33m,\u001b[0m \u001b[0mhook\u001b[0m\u001b[1;33m)\u001b[0m\u001b[1;33m:\u001b[0m\u001b[1;33m\u001b[0m\u001b[1;33m\u001b[0m\u001b[0m\n",
      "\u001b[1;32m~\\anaconda3\\envs\\ocp-models\\lib\\site-packages\\torch\\autograd\\__init__.py\u001b[0m in \u001b[0;36mbackward\u001b[1;34m(tensors, grad_tensors, retain_graph, create_graph, grad_variables, inputs)\u001b[0m\n\u001b[0;32m    143\u001b[0m         \u001b[0mretain_graph\u001b[0m \u001b[1;33m=\u001b[0m \u001b[0mcreate_graph\u001b[0m\u001b[1;33m\u001b[0m\u001b[1;33m\u001b[0m\u001b[0m\n\u001b[0;32m    144\u001b[0m \u001b[1;33m\u001b[0m\u001b[0m\n\u001b[1;32m--> 145\u001b[1;33m     Variable._execution_engine.run_backward(\n\u001b[0m\u001b[0;32m    146\u001b[0m         \u001b[0mtensors\u001b[0m\u001b[1;33m,\u001b[0m \u001b[0mgrad_tensors_\u001b[0m\u001b[1;33m,\u001b[0m \u001b[0mretain_graph\u001b[0m\u001b[1;33m,\u001b[0m \u001b[0mcreate_graph\u001b[0m\u001b[1;33m,\u001b[0m \u001b[0minputs\u001b[0m\u001b[1;33m,\u001b[0m\u001b[1;33m\u001b[0m\u001b[1;33m\u001b[0m\u001b[0m\n\u001b[0;32m    147\u001b[0m         allow_unreachable=True, accumulate_grad=True)  # allow_unreachable flag\n",
      "\u001b[1;31mKeyboardInterrupt\u001b[0m: "
     ]
    }
   ],
   "source": [
    "# Message GNN\n",
    "device = torch.device('cuda' if torch.cuda.is_available() else 'cpu')\n",
    "model = messageGNN(16, 1).to(device)\n",
    "data = train_loader\n",
    "optimizer = torch.optim.Adam(model.parameters(), lr=0.002, weight_decay=5e-4)\n",
    "batchSize = 16\n",
    "\n",
    "model.train()\n",
    "for epoch in range(1000):\n",
    "    totalLoss = 0\n",
    "    totalEngLoss = 0\n",
    "    for batch in data:\n",
    "        optimizer.zero_grad()\n",
    "        out, engPred = model(batch)\n",
    "        #print(batch.natoms.sum())\n",
    "        #print(out.shape)\n",
    "        #print(data.pos_relaxed)\n",
    "        loss = ((out-batch.pos_relaxed)**2).sum()\n",
    "        engLoss = ((engPred - batch.y_relaxed)**2).sum() * batchSize\n",
    "        totalEngLoss += engLoss.detach().numpy()\n",
    "        # uncomment below to optimize for both position and global energy\n",
    "        #loss += engLoss\n",
    "        totalLoss += loss.detach().numpy()\n",
    "        #print(loss.shape)\n",
    "        #loss = torch.cdist(out, data.pos_relaxed)\n",
    "        loss.backward()\n",
    "        optimizer.step()\n",
    "    print(\"loss =\", totalLoss/len(data.dataset), \"eng loss =\", totalEngLoss/len(data.dataset))"
   ]
  },
  {
   "cell_type": "code",
   "execution_count": null,
   "id": "829885c5-a22a-4ba2-9170-480b5b8c4158",
   "metadata": {},
   "outputs": [],
   "source": [
    "device = torch.device('cuda' if torch.cuda.is_available() else 'cpu')\n",
    "model = GCN().to(device)\n",
    "data = dataset[0].to(device)\n",
    "optimizer = torch.optim.Adam(model.parameters(), lr=0.01, weight_decay=5e-4)\n",
    "\n",
    "model.train()\n",
    "for epoch in range(20000):\n",
    "    optimizer.zero_grad()\n",
    "    out = model(data)\n",
    "    #print(out.shape)\n",
    "    #print(data.pos_relaxed)\n",
    "    loss = ((out-data.pos_relaxed)**2).sum()\n",
    "    #print(loss.shape)\n",
    "    print(\"loss =\", loss.detach().numpy())\n",
    "    #loss = torch.cdist(out, data.pos_relaxed)\n",
    "    loss.backward()\n",
    "    optimizer.step()"
   ]
  },
  {
   "cell_type": "code",
   "execution_count": 174,
   "id": "73ab4a42-7e12-4fed-84b5-88a839958ac6",
   "metadata": {},
   "outputs": [
    {
     "name": "stdout",
     "output_type": "stream",
     "text": [
      "10000\n"
     ]
    }
   ],
   "source": [
    "dataset = SinglePointLmdbDataset({\"src\": \"D:\\\\is2res_train_val_test_lmdbs\\\\data\\\\is2re\\\\10k\\\\train\\\\data.lmdb\"})\n",
    "print(len(dataset))\n",
    "test_loader = DataLoader(dataset, batch_size=1, shuffle=True)"
   ]
  },
  {
   "cell_type": "code",
   "execution_count": 176,
   "id": "31c0df31-a959-437c-9dc2-0674b115db8c",
   "metadata": {},
   "outputs": [
    {
     "name": "stdout",
     "output_type": "stream",
     "text": [
      "Batch(atomic_numbers=[125], batch=[125], cell=[1, 3, 3], cell_offsets=[4022, 3], distances=[4022], edge_index=[2, 4022], fixed=[125], force=[125, 3], natoms=[1], pos=[125, 3], pos_relaxed=[125, 3], ptr=[2], sid=[1], tags=[125], y_init=[1], y_relaxed=[1])\n",
      "125\n"
     ]
    },
    {
     "data": {
      "text/plain": [
       "<subprocess.Popen at 0x204ca660250>"
      ]
     },
     "execution_count": 176,
     "metadata": {},
     "output_type": "execute_result"
    }
   ],
   "source": [
    "from ase.io import read\n",
    "from ase.visualize import view\n",
    "from ase.io import write\n",
    "import time\n",
    "\n",
    "data = next(iter(test_loader))\n",
    "print(data)\n",
    "\n",
    "out = model(data).detach().numpy()\n",
    "#print(out)\n",
    "\n",
    "xInit = data.pos[:,0]\n",
    "yInit = data.pos[:,1]\n",
    "zInit = data.pos[:,2]\n",
    "xTrue = data.pos_relaxed[:,0]\n",
    "yTrue = data.pos_relaxed[:,1]\n",
    "zTrue = data.pos_relaxed[:,2]\n",
    "xPred = out[:,0]\n",
    "yPred = out[:,1]\n",
    "zPred = out[:,2]\n",
    "atom = data.atomic_numbers\n",
    "print(len(atom))\n",
    "\n",
    "f = open(\"adsPictureInit.xyz\", \"w\")\n",
    "f.write(str(len(atom))+\"\\n\")\n",
    "for i in range(len(atom)):\n",
    "    f.write(\"\\n{}\\t {}\\t {}\\t {}\".format(symbols[int(atom[i])-1],xInit[i],yInit[i],zInit[i]))\n",
    "f.close()\n",
    "\n",
    "f = open(\"adsPicturePred.xyz\", \"w\")\n",
    "f.write(str(len(atom))+\"\\n\")\n",
    "for i in range(len(atom)):\n",
    "    f.write(\"\\n{}\\t {}\\t {}\\t {}\".format(symbols[int(atom[i])-1],xPred[i],yPred[i],zPred[i]))\n",
    "f.close()\n",
    "\n",
    "f = open(\"adsPictureTrue.xyz\", \"w\")\n",
    "f.write(str(len(atom))+\"\\n\")\n",
    "for i in range(len(atom)):\n",
    "    f.write(\"\\n{}\\t {}\\t {}\\t {}\".format(symbols[int(atom[i])-1],xTrue[i],yTrue[i],zTrue[i]))\n",
    "f.close()\n",
    "\n",
    "pic = read(\"adsPictureInit.xyz\")\n",
    "view(pic)\n",
    "#write(\"adsPictureInit.png\", pic)\n",
    "time.sleep(3)\n",
    "\n",
    "pic = read(\"adsPicturePred.xyz\")\n",
    "view(pic)\n",
    "time.sleep(3)\n",
    "\n",
    "pic = read(\"adsPictureTrue.xyz\")\n",
    "view(pic)\n"
   ]
  },
  {
   "cell_type": "code",
   "execution_count": 152,
   "id": "21434761-12cb-406f-81f5-23e878e3dbc2",
   "metadata": {},
   "outputs": [
    {
     "ename": "AttributeError",
     "evalue": "'Data' object has no attribute 'test_mask'",
     "output_type": "error",
     "traceback": [
      "\u001b[1;31m---------------------------------------------------------------------------\u001b[0m",
      "\u001b[1;31mAttributeError\u001b[0m                            Traceback (most recent call last)",
      "\u001b[1;32m~\\AppData\\Local\\Temp/ipykernel_48800/3032524375.py\u001b[0m in \u001b[0;36m<module>\u001b[1;34m\u001b[0m\n\u001b[0;32m      1\u001b[0m \u001b[0mmodel\u001b[0m\u001b[1;33m.\u001b[0m\u001b[0meval\u001b[0m\u001b[1;33m(\u001b[0m\u001b[1;33m)\u001b[0m\u001b[1;33m\u001b[0m\u001b[1;33m\u001b[0m\u001b[0m\n\u001b[0;32m      2\u001b[0m \u001b[0mpred\u001b[0m \u001b[1;33m=\u001b[0m \u001b[0mmodel\u001b[0m\u001b[1;33m(\u001b[0m\u001b[0mdata\u001b[0m\u001b[1;33m)\u001b[0m\u001b[1;33m.\u001b[0m\u001b[0margmax\u001b[0m\u001b[1;33m(\u001b[0m\u001b[0mdim\u001b[0m\u001b[1;33m=\u001b[0m\u001b[1;36m1\u001b[0m\u001b[1;33m)\u001b[0m\u001b[1;33m\u001b[0m\u001b[1;33m\u001b[0m\u001b[0m\n\u001b[1;32m----> 3\u001b[1;33m \u001b[0mcorrect\u001b[0m \u001b[1;33m=\u001b[0m \u001b[1;33m(\u001b[0m\u001b[0mpred\u001b[0m\u001b[1;33m[\u001b[0m\u001b[0mdata\u001b[0m\u001b[1;33m.\u001b[0m\u001b[0mtest_mask\u001b[0m\u001b[1;33m]\u001b[0m \u001b[1;33m==\u001b[0m \u001b[0mdata\u001b[0m\u001b[1;33m.\u001b[0m\u001b[0my\u001b[0m\u001b[1;33m[\u001b[0m\u001b[0mdata\u001b[0m\u001b[1;33m.\u001b[0m\u001b[0mtest_mask\u001b[0m\u001b[1;33m]\u001b[0m\u001b[1;33m)\u001b[0m\u001b[1;33m.\u001b[0m\u001b[0msum\u001b[0m\u001b[1;33m(\u001b[0m\u001b[1;33m)\u001b[0m\u001b[1;33m\u001b[0m\u001b[1;33m\u001b[0m\u001b[0m\n\u001b[0m\u001b[0;32m      4\u001b[0m \u001b[0macc\u001b[0m \u001b[1;33m=\u001b[0m \u001b[0mint\u001b[0m\u001b[1;33m(\u001b[0m\u001b[0mcorrect\u001b[0m\u001b[1;33m)\u001b[0m \u001b[1;33m/\u001b[0m \u001b[0mint\u001b[0m\u001b[1;33m(\u001b[0m\u001b[0mdata\u001b[0m\u001b[1;33m.\u001b[0m\u001b[0mtest_mask\u001b[0m\u001b[1;33m.\u001b[0m\u001b[0msum\u001b[0m\u001b[1;33m(\u001b[0m\u001b[1;33m)\u001b[0m\u001b[1;33m)\u001b[0m\u001b[1;33m\u001b[0m\u001b[1;33m\u001b[0m\u001b[0m\n\u001b[0;32m      5\u001b[0m \u001b[0mprint\u001b[0m\u001b[1;33m(\u001b[0m\u001b[1;34mf'Accuracy: {acc:.4f}'\u001b[0m\u001b[1;33m)\u001b[0m\u001b[1;33m\u001b[0m\u001b[1;33m\u001b[0m\u001b[0m\n",
      "\u001b[1;31mAttributeError\u001b[0m: 'Data' object has no attribute 'test_mask'"
     ]
    }
   ],
   "source": [
    "model.eval()\n",
    "pred = model(data).argmax(dim=1)\n",
    "correct = (pred[data.test_mask] == data.y[data.test_mask]).sum()\n",
    "acc = int(correct) / int(data.test_mask.sum())\n",
    "print(f'Accuracy: {acc:.4f}')"
   ]
  },
  {
   "cell_type": "code",
   "execution_count": null,
   "id": "39a71a84-0e77-4d25-af8c-49fd5c1c58b2",
   "metadata": {},
   "outputs": [],
   "source": []
  },
  {
   "cell_type": "code",
   "execution_count": null,
   "id": "90b996bd-6f57-406d-bb43-7aeff90c2489",
   "metadata": {},
   "outputs": [],
   "source": []
  },
  {
   "cell_type": "code",
   "execution_count": null,
   "id": "6404548e-6114-4f30-b32d-7b1ac8f88194",
   "metadata": {},
   "outputs": [],
   "source": []
  }
 ],
 "metadata": {
  "kernelspec": {
   "display_name": "ocp-models",
   "language": "python",
   "name": "ocp-models"
  },
  "language_info": {
   "codemirror_mode": {
    "name": "ipython",
    "version": 3
   },
   "file_extension": ".py",
   "mimetype": "text/x-python",
   "name": "python",
   "nbconvert_exporter": "python",
   "pygments_lexer": "ipython3",
   "version": "3.8.12"
  }
 },
 "nbformat": 4,
 "nbformat_minor": 5
}
